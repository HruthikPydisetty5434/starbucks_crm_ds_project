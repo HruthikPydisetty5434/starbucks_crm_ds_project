{
 "cells": [
  {
   "cell_type": "code",
   "execution_count": null,
   "id": "ac1876e4",
   "metadata": {},
   "outputs": [],
   "source": []
  },
  {
   "cell_type": "code",
   "execution_count": 157,
   "id": "dc30b2e9",
   "metadata": {},
   "outputs": [],
   "source": [
    "import numpy as np\n",
    "import pandas as pd\n",
    "import matplotlib.pyplot as plt \n",
    "%matplotlib inline\n",
    "import math\n",
    "import json\n",
    "import seaborn as sns\n",
    "from sklearn.feature_selection import f_classif\n",
    "from scipy.stats import chi2_contingency\n",
    "from scipy.stats import chi2\n",
    "from sklearn.model_selection import train_test_split\n",
    "import imblearn\n",
    "from imblearn.over_sampling import SMOTE\n",
    "from collections import Counter\n",
    "import collections\n",
    "from sklearn.tree import DecisionTreeClassifier\n",
    "from sklearn.ensemble import (RandomForestClassifier, AdaBoostClassifier, GradientBoostingClassifier) \n",
    "import xgboost as xgb # XG Boost \n",
    "from sklearn.linear_model import LogisticRegression \n",
    "from sklearn import metrics\n",
    "from sklearn.metrics import precision_score \n",
    "from sklearn.metrics import recall_score \n",
    "from time import time \n",
    "import lightgbm as lgb\n",
    "import catboost as cb"
   ]
  },
  {
   "cell_type": "code",
   "execution_count": 2,
   "id": "7769ba4d",
   "metadata": {},
   "outputs": [],
   "source": [
    "portfolio = pd.read_json('portfolio.json', orient='records', lines=True)\n",
    "profile = pd.read_json('profile.json', orient='records', lines=True)\n",
    "transcript = pd.read_json('transcript.json', orient='records', lines=True)"
   ]
  },
  {
   "cell_type": "code",
   "execution_count": 3,
   "id": "3db77054",
   "metadata": {},
   "outputs": [
    {
     "data": {
      "text/html": [
       "<div>\n",
       "<style scoped>\n",
       "    .dataframe tbody tr th:only-of-type {\n",
       "        vertical-align: middle;\n",
       "    }\n",
       "\n",
       "    .dataframe tbody tr th {\n",
       "        vertical-align: top;\n",
       "    }\n",
       "\n",
       "    .dataframe thead th {\n",
       "        text-align: right;\n",
       "    }\n",
       "</style>\n",
       "<table border=\"1\" class=\"dataframe\">\n",
       "  <thead>\n",
       "    <tr style=\"text-align: right;\">\n",
       "      <th></th>\n",
       "      <th>reward</th>\n",
       "      <th>channels</th>\n",
       "      <th>difficulty</th>\n",
       "      <th>duration</th>\n",
       "      <th>offer_type</th>\n",
       "      <th>id</th>\n",
       "    </tr>\n",
       "  </thead>\n",
       "  <tbody>\n",
       "    <tr>\n",
       "      <th>0</th>\n",
       "      <td>10</td>\n",
       "      <td>[email, mobile, social]</td>\n",
       "      <td>10</td>\n",
       "      <td>7</td>\n",
       "      <td>bogo</td>\n",
       "      <td>ae264e3637204a6fb9bb56bc8210ddfd</td>\n",
       "    </tr>\n",
       "    <tr>\n",
       "      <th>1</th>\n",
       "      <td>10</td>\n",
       "      <td>[web, email, mobile, social]</td>\n",
       "      <td>10</td>\n",
       "      <td>5</td>\n",
       "      <td>bogo</td>\n",
       "      <td>4d5c57ea9a6940dd891ad53e9dbe8da0</td>\n",
       "    </tr>\n",
       "    <tr>\n",
       "      <th>2</th>\n",
       "      <td>0</td>\n",
       "      <td>[web, email, mobile]</td>\n",
       "      <td>0</td>\n",
       "      <td>4</td>\n",
       "      <td>informational</td>\n",
       "      <td>3f207df678b143eea3cee63160fa8bed</td>\n",
       "    </tr>\n",
       "    <tr>\n",
       "      <th>3</th>\n",
       "      <td>5</td>\n",
       "      <td>[web, email, mobile]</td>\n",
       "      <td>5</td>\n",
       "      <td>7</td>\n",
       "      <td>bogo</td>\n",
       "      <td>9b98b8c7a33c4b65b9aebfe6a799e6d9</td>\n",
       "    </tr>\n",
       "    <tr>\n",
       "      <th>4</th>\n",
       "      <td>5</td>\n",
       "      <td>[web, email]</td>\n",
       "      <td>20</td>\n",
       "      <td>10</td>\n",
       "      <td>discount</td>\n",
       "      <td>0b1e1539f2cc45b7b9fa7c272da2e1d7</td>\n",
       "    </tr>\n",
       "    <tr>\n",
       "      <th>5</th>\n",
       "      <td>3</td>\n",
       "      <td>[web, email, mobile, social]</td>\n",
       "      <td>7</td>\n",
       "      <td>7</td>\n",
       "      <td>discount</td>\n",
       "      <td>2298d6c36e964ae4a3e7e9706d1fb8c2</td>\n",
       "    </tr>\n",
       "    <tr>\n",
       "      <th>6</th>\n",
       "      <td>2</td>\n",
       "      <td>[web, email, mobile, social]</td>\n",
       "      <td>10</td>\n",
       "      <td>10</td>\n",
       "      <td>discount</td>\n",
       "      <td>fafdcd668e3743c1bb461111dcafc2a4</td>\n",
       "    </tr>\n",
       "    <tr>\n",
       "      <th>7</th>\n",
       "      <td>0</td>\n",
       "      <td>[email, mobile, social]</td>\n",
       "      <td>0</td>\n",
       "      <td>3</td>\n",
       "      <td>informational</td>\n",
       "      <td>5a8bc65990b245e5a138643cd4eb9837</td>\n",
       "    </tr>\n",
       "    <tr>\n",
       "      <th>8</th>\n",
       "      <td>5</td>\n",
       "      <td>[web, email, mobile, social]</td>\n",
       "      <td>5</td>\n",
       "      <td>5</td>\n",
       "      <td>bogo</td>\n",
       "      <td>f19421c1d4aa40978ebb69ca19b0e20d</td>\n",
       "    </tr>\n",
       "    <tr>\n",
       "      <th>9</th>\n",
       "      <td>2</td>\n",
       "      <td>[web, email, mobile]</td>\n",
       "      <td>10</td>\n",
       "      <td>7</td>\n",
       "      <td>discount</td>\n",
       "      <td>2906b810c7d4411798c6938adc9daaa5</td>\n",
       "    </tr>\n",
       "  </tbody>\n",
       "</table>\n",
       "</div>"
      ],
      "text/plain": [
       "   reward                      channels  difficulty  duration     offer_type  \\\n",
       "0      10       [email, mobile, social]          10         7           bogo   \n",
       "1      10  [web, email, mobile, social]          10         5           bogo   \n",
       "2       0          [web, email, mobile]           0         4  informational   \n",
       "3       5          [web, email, mobile]           5         7           bogo   \n",
       "4       5                  [web, email]          20        10       discount   \n",
       "5       3  [web, email, mobile, social]           7         7       discount   \n",
       "6       2  [web, email, mobile, social]          10        10       discount   \n",
       "7       0       [email, mobile, social]           0         3  informational   \n",
       "8       5  [web, email, mobile, social]           5         5           bogo   \n",
       "9       2          [web, email, mobile]          10         7       discount   \n",
       "\n",
       "                                 id  \n",
       "0  ae264e3637204a6fb9bb56bc8210ddfd  \n",
       "1  4d5c57ea9a6940dd891ad53e9dbe8da0  \n",
       "2  3f207df678b143eea3cee63160fa8bed  \n",
       "3  9b98b8c7a33c4b65b9aebfe6a799e6d9  \n",
       "4  0b1e1539f2cc45b7b9fa7c272da2e1d7  \n",
       "5  2298d6c36e964ae4a3e7e9706d1fb8c2  \n",
       "6  fafdcd668e3743c1bb461111dcafc2a4  \n",
       "7  5a8bc65990b245e5a138643cd4eb9837  \n",
       "8  f19421c1d4aa40978ebb69ca19b0e20d  \n",
       "9  2906b810c7d4411798c6938adc9daaa5  "
      ]
     },
     "execution_count": 3,
     "metadata": {},
     "output_type": "execute_result"
    }
   ],
   "source": [
    "portfolio.head(10)"
   ]
  },
  {
   "cell_type": "code",
   "execution_count": 4,
   "id": "c1dd4684",
   "metadata": {},
   "outputs": [
    {
     "name": "stdout",
     "output_type": "stream",
     "text": [
      "<class 'pandas.core.frame.DataFrame'>\n",
      "RangeIndex: 10 entries, 0 to 9\n",
      "Data columns (total 6 columns):\n",
      " #   Column      Non-Null Count  Dtype \n",
      "---  ------      --------------  ----- \n",
      " 0   reward      10 non-null     int64 \n",
      " 1   channels    10 non-null     object\n",
      " 2   difficulty  10 non-null     int64 \n",
      " 3   duration    10 non-null     int64 \n",
      " 4   offer_type  10 non-null     object\n",
      " 5   id          10 non-null     object\n",
      "dtypes: int64(3), object(3)\n",
      "memory usage: 608.0+ bytes\n"
     ]
    }
   ],
   "source": [
    "portfolio.info()"
   ]
  },
  {
   "cell_type": "code",
   "execution_count": 5,
   "id": "a6646917",
   "metadata": {},
   "outputs": [],
   "source": [
    "portfolio= portfolio.rename(columns={'id': 'offer_id'})"
   ]
  },
  {
   "cell_type": "code",
   "execution_count": 6,
   "id": "6ad28640",
   "metadata": {},
   "outputs": [
    {
     "data": {
      "text/html": [
       "<div>\n",
       "<style scoped>\n",
       "    .dataframe tbody tr th:only-of-type {\n",
       "        vertical-align: middle;\n",
       "    }\n",
       "\n",
       "    .dataframe tbody tr th {\n",
       "        vertical-align: top;\n",
       "    }\n",
       "\n",
       "    .dataframe thead th {\n",
       "        text-align: right;\n",
       "    }\n",
       "</style>\n",
       "<table border=\"1\" class=\"dataframe\">\n",
       "  <thead>\n",
       "    <tr style=\"text-align: right;\">\n",
       "      <th></th>\n",
       "      <th>reward</th>\n",
       "      <th>channels</th>\n",
       "      <th>difficulty</th>\n",
       "      <th>duration</th>\n",
       "      <th>offer_type</th>\n",
       "      <th>offer_id</th>\n",
       "    </tr>\n",
       "  </thead>\n",
       "  <tbody>\n",
       "    <tr>\n",
       "      <th>count</th>\n",
       "      <td>10.000000</td>\n",
       "      <td>10</td>\n",
       "      <td>10.000000</td>\n",
       "      <td>10.000000</td>\n",
       "      <td>10</td>\n",
       "      <td>10</td>\n",
       "    </tr>\n",
       "    <tr>\n",
       "      <th>unique</th>\n",
       "      <td>NaN</td>\n",
       "      <td>4</td>\n",
       "      <td>NaN</td>\n",
       "      <td>NaN</td>\n",
       "      <td>3</td>\n",
       "      <td>10</td>\n",
       "    </tr>\n",
       "    <tr>\n",
       "      <th>top</th>\n",
       "      <td>NaN</td>\n",
       "      <td>[web, email, mobile, social]</td>\n",
       "      <td>NaN</td>\n",
       "      <td>NaN</td>\n",
       "      <td>bogo</td>\n",
       "      <td>ae264e3637204a6fb9bb56bc8210ddfd</td>\n",
       "    </tr>\n",
       "    <tr>\n",
       "      <th>freq</th>\n",
       "      <td>NaN</td>\n",
       "      <td>4</td>\n",
       "      <td>NaN</td>\n",
       "      <td>NaN</td>\n",
       "      <td>4</td>\n",
       "      <td>1</td>\n",
       "    </tr>\n",
       "    <tr>\n",
       "      <th>mean</th>\n",
       "      <td>4.200000</td>\n",
       "      <td>NaN</td>\n",
       "      <td>7.700000</td>\n",
       "      <td>6.500000</td>\n",
       "      <td>NaN</td>\n",
       "      <td>NaN</td>\n",
       "    </tr>\n",
       "    <tr>\n",
       "      <th>std</th>\n",
       "      <td>3.583915</td>\n",
       "      <td>NaN</td>\n",
       "      <td>5.831905</td>\n",
       "      <td>2.321398</td>\n",
       "      <td>NaN</td>\n",
       "      <td>NaN</td>\n",
       "    </tr>\n",
       "    <tr>\n",
       "      <th>min</th>\n",
       "      <td>0.000000</td>\n",
       "      <td>NaN</td>\n",
       "      <td>0.000000</td>\n",
       "      <td>3.000000</td>\n",
       "      <td>NaN</td>\n",
       "      <td>NaN</td>\n",
       "    </tr>\n",
       "    <tr>\n",
       "      <th>25%</th>\n",
       "      <td>2.000000</td>\n",
       "      <td>NaN</td>\n",
       "      <td>5.000000</td>\n",
       "      <td>5.000000</td>\n",
       "      <td>NaN</td>\n",
       "      <td>NaN</td>\n",
       "    </tr>\n",
       "    <tr>\n",
       "      <th>50%</th>\n",
       "      <td>4.000000</td>\n",
       "      <td>NaN</td>\n",
       "      <td>8.500000</td>\n",
       "      <td>7.000000</td>\n",
       "      <td>NaN</td>\n",
       "      <td>NaN</td>\n",
       "    </tr>\n",
       "    <tr>\n",
       "      <th>75%</th>\n",
       "      <td>5.000000</td>\n",
       "      <td>NaN</td>\n",
       "      <td>10.000000</td>\n",
       "      <td>7.000000</td>\n",
       "      <td>NaN</td>\n",
       "      <td>NaN</td>\n",
       "    </tr>\n",
       "    <tr>\n",
       "      <th>max</th>\n",
       "      <td>10.000000</td>\n",
       "      <td>NaN</td>\n",
       "      <td>20.000000</td>\n",
       "      <td>10.000000</td>\n",
       "      <td>NaN</td>\n",
       "      <td>NaN</td>\n",
       "    </tr>\n",
       "  </tbody>\n",
       "</table>\n",
       "</div>"
      ],
      "text/plain": [
       "           reward                      channels  difficulty   duration  \\\n",
       "count   10.000000                            10   10.000000  10.000000   \n",
       "unique        NaN                             4         NaN        NaN   \n",
       "top           NaN  [web, email, mobile, social]         NaN        NaN   \n",
       "freq          NaN                             4         NaN        NaN   \n",
       "mean     4.200000                           NaN    7.700000   6.500000   \n",
       "std      3.583915                           NaN    5.831905   2.321398   \n",
       "min      0.000000                           NaN    0.000000   3.000000   \n",
       "25%      2.000000                           NaN    5.000000   5.000000   \n",
       "50%      4.000000                           NaN    8.500000   7.000000   \n",
       "75%      5.000000                           NaN   10.000000   7.000000   \n",
       "max     10.000000                           NaN   20.000000  10.000000   \n",
       "\n",
       "       offer_type                          offer_id  \n",
       "count          10                                10  \n",
       "unique          3                                10  \n",
       "top          bogo  ae264e3637204a6fb9bb56bc8210ddfd  \n",
       "freq            4                                 1  \n",
       "mean          NaN                               NaN  \n",
       "std           NaN                               NaN  \n",
       "min           NaN                               NaN  \n",
       "25%           NaN                               NaN  \n",
       "50%           NaN                               NaN  \n",
       "75%           NaN                               NaN  \n",
       "max           NaN                               NaN  "
      ]
     },
     "execution_count": 6,
     "metadata": {},
     "output_type": "execute_result"
    }
   ],
   "source": [
    "portfolio.describe(include='all')"
   ]
  },
  {
   "cell_type": "code",
   "execution_count": 7,
   "id": "1a98b8ee",
   "metadata": {},
   "outputs": [
    {
     "data": {
      "text/html": [
       "<div>\n",
       "<style scoped>\n",
       "    .dataframe tbody tr th:only-of-type {\n",
       "        vertical-align: middle;\n",
       "    }\n",
       "\n",
       "    .dataframe tbody tr th {\n",
       "        vertical-align: top;\n",
       "    }\n",
       "\n",
       "    .dataframe thead th {\n",
       "        text-align: right;\n",
       "    }\n",
       "</style>\n",
       "<table border=\"1\" class=\"dataframe\">\n",
       "  <thead>\n",
       "    <tr style=\"text-align: right;\">\n",
       "      <th></th>\n",
       "      <th>gender</th>\n",
       "      <th>age</th>\n",
       "      <th>id</th>\n",
       "      <th>became_member_on</th>\n",
       "      <th>income</th>\n",
       "    </tr>\n",
       "  </thead>\n",
       "  <tbody>\n",
       "    <tr>\n",
       "      <th>0</th>\n",
       "      <td>None</td>\n",
       "      <td>118</td>\n",
       "      <td>68be06ca386d4c31939f3a4f0e3dd783</td>\n",
       "      <td>20170212</td>\n",
       "      <td>NaN</td>\n",
       "    </tr>\n",
       "    <tr>\n",
       "      <th>1</th>\n",
       "      <td>F</td>\n",
       "      <td>55</td>\n",
       "      <td>0610b486422d4921ae7d2bf64640c50b</td>\n",
       "      <td>20170715</td>\n",
       "      <td>112000.0</td>\n",
       "    </tr>\n",
       "    <tr>\n",
       "      <th>2</th>\n",
       "      <td>None</td>\n",
       "      <td>118</td>\n",
       "      <td>38fe809add3b4fcf9315a9694bb96ff5</td>\n",
       "      <td>20180712</td>\n",
       "      <td>NaN</td>\n",
       "    </tr>\n",
       "    <tr>\n",
       "      <th>3</th>\n",
       "      <td>F</td>\n",
       "      <td>75</td>\n",
       "      <td>78afa995795e4d85b5d9ceeca43f5fef</td>\n",
       "      <td>20170509</td>\n",
       "      <td>100000.0</td>\n",
       "    </tr>\n",
       "    <tr>\n",
       "      <th>4</th>\n",
       "      <td>None</td>\n",
       "      <td>118</td>\n",
       "      <td>a03223e636434f42ac4c3df47e8bac43</td>\n",
       "      <td>20170804</td>\n",
       "      <td>NaN</td>\n",
       "    </tr>\n",
       "  </tbody>\n",
       "</table>\n",
       "</div>"
      ],
      "text/plain": [
       "  gender  age                                id  became_member_on    income\n",
       "0   None  118  68be06ca386d4c31939f3a4f0e3dd783          20170212       NaN\n",
       "1      F   55  0610b486422d4921ae7d2bf64640c50b          20170715  112000.0\n",
       "2   None  118  38fe809add3b4fcf9315a9694bb96ff5          20180712       NaN\n",
       "3      F   75  78afa995795e4d85b5d9ceeca43f5fef          20170509  100000.0\n",
       "4   None  118  a03223e636434f42ac4c3df47e8bac43          20170804       NaN"
      ]
     },
     "execution_count": 7,
     "metadata": {},
     "output_type": "execute_result"
    }
   ],
   "source": [
    "profile.head()"
   ]
  },
  {
   "cell_type": "code",
   "execution_count": 8,
   "id": "bbec5bea",
   "metadata": {},
   "outputs": [],
   "source": [
    "# Turning off scientific notation\n",
    "pd.set_option('display.float_format', lambda x: '%.2f' % x)"
   ]
  },
  {
   "cell_type": "code",
   "execution_count": 9,
   "id": "1206b19f",
   "metadata": {},
   "outputs": [
    {
     "data": {
      "text/html": [
       "<div>\n",
       "<style scoped>\n",
       "    .dataframe tbody tr th:only-of-type {\n",
       "        vertical-align: middle;\n",
       "    }\n",
       "\n",
       "    .dataframe tbody tr th {\n",
       "        vertical-align: top;\n",
       "    }\n",
       "\n",
       "    .dataframe thead th {\n",
       "        text-align: right;\n",
       "    }\n",
       "</style>\n",
       "<table border=\"1\" class=\"dataframe\">\n",
       "  <thead>\n",
       "    <tr style=\"text-align: right;\">\n",
       "      <th></th>\n",
       "      <th>gender</th>\n",
       "      <th>age</th>\n",
       "      <th>id</th>\n",
       "      <th>became_member_on</th>\n",
       "      <th>income</th>\n",
       "    </tr>\n",
       "  </thead>\n",
       "  <tbody>\n",
       "    <tr>\n",
       "      <th>0</th>\n",
       "      <td>None</td>\n",
       "      <td>118</td>\n",
       "      <td>68be06ca386d4c31939f3a4f0e3dd783</td>\n",
       "      <td>20170212</td>\n",
       "      <td>NaN</td>\n",
       "    </tr>\n",
       "    <tr>\n",
       "      <th>1</th>\n",
       "      <td>F</td>\n",
       "      <td>55</td>\n",
       "      <td>0610b486422d4921ae7d2bf64640c50b</td>\n",
       "      <td>20170715</td>\n",
       "      <td>112000.00</td>\n",
       "    </tr>\n",
       "    <tr>\n",
       "      <th>2</th>\n",
       "      <td>None</td>\n",
       "      <td>118</td>\n",
       "      <td>38fe809add3b4fcf9315a9694bb96ff5</td>\n",
       "      <td>20180712</td>\n",
       "      <td>NaN</td>\n",
       "    </tr>\n",
       "    <tr>\n",
       "      <th>3</th>\n",
       "      <td>F</td>\n",
       "      <td>75</td>\n",
       "      <td>78afa995795e4d85b5d9ceeca43f5fef</td>\n",
       "      <td>20170509</td>\n",
       "      <td>100000.00</td>\n",
       "    </tr>\n",
       "    <tr>\n",
       "      <th>4</th>\n",
       "      <td>None</td>\n",
       "      <td>118</td>\n",
       "      <td>a03223e636434f42ac4c3df47e8bac43</td>\n",
       "      <td>20170804</td>\n",
       "      <td>NaN</td>\n",
       "    </tr>\n",
       "  </tbody>\n",
       "</table>\n",
       "</div>"
      ],
      "text/plain": [
       "  gender  age                                id  became_member_on    income\n",
       "0   None  118  68be06ca386d4c31939f3a4f0e3dd783          20170212       NaN\n",
       "1      F   55  0610b486422d4921ae7d2bf64640c50b          20170715 112000.00\n",
       "2   None  118  38fe809add3b4fcf9315a9694bb96ff5          20180712       NaN\n",
       "3      F   75  78afa995795e4d85b5d9ceeca43f5fef          20170509 100000.00\n",
       "4   None  118  a03223e636434f42ac4c3df47e8bac43          20170804       NaN"
      ]
     },
     "execution_count": 9,
     "metadata": {},
     "output_type": "execute_result"
    }
   ],
   "source": [
    "profile.head()"
   ]
  },
  {
   "cell_type": "code",
   "execution_count": 10,
   "id": "811e9910",
   "metadata": {},
   "outputs": [
    {
     "name": "stdout",
     "output_type": "stream",
     "text": [
      "<class 'pandas.core.frame.DataFrame'>\n",
      "RangeIndex: 17000 entries, 0 to 16999\n",
      "Data columns (total 5 columns):\n",
      " #   Column            Non-Null Count  Dtype  \n",
      "---  ------            --------------  -----  \n",
      " 0   gender            14825 non-null  object \n",
      " 1   age               17000 non-null  int64  \n",
      " 2   id                17000 non-null  object \n",
      " 3   became_member_on  17000 non-null  int64  \n",
      " 4   income            14825 non-null  float64\n",
      "dtypes: float64(1), int64(2), object(2)\n",
      "memory usage: 664.2+ KB\n"
     ]
    }
   ],
   "source": [
    "profile.info()"
   ]
  },
  {
   "cell_type": "code",
   "execution_count": 11,
   "id": "a89bf089",
   "metadata": {},
   "outputs": [
    {
     "data": {
      "text/plain": [
       "0"
      ]
     },
     "execution_count": 11,
     "metadata": {},
     "output_type": "execute_result"
    }
   ],
   "source": [
    "profile.duplicated().sum()"
   ]
  },
  {
   "cell_type": "code",
   "execution_count": 12,
   "id": "dea74df6",
   "metadata": {},
   "outputs": [
    {
     "data": {
      "text/html": [
       "<div>\n",
       "<style scoped>\n",
       "    .dataframe tbody tr th:only-of-type {\n",
       "        vertical-align: middle;\n",
       "    }\n",
       "\n",
       "    .dataframe tbody tr th {\n",
       "        vertical-align: top;\n",
       "    }\n",
       "\n",
       "    .dataframe thead th {\n",
       "        text-align: right;\n",
       "    }\n",
       "</style>\n",
       "<table border=\"1\" class=\"dataframe\">\n",
       "  <thead>\n",
       "    <tr style=\"text-align: right;\">\n",
       "      <th></th>\n",
       "      <th>gender</th>\n",
       "      <th>age</th>\n",
       "      <th>id</th>\n",
       "      <th>became_member_on</th>\n",
       "      <th>income</th>\n",
       "    </tr>\n",
       "  </thead>\n",
       "  <tbody>\n",
       "    <tr>\n",
       "      <th>count</th>\n",
       "      <td>14825</td>\n",
       "      <td>17000.00</td>\n",
       "      <td>17000</td>\n",
       "      <td>17000.00</td>\n",
       "      <td>14825.00</td>\n",
       "    </tr>\n",
       "    <tr>\n",
       "      <th>unique</th>\n",
       "      <td>3</td>\n",
       "      <td>NaN</td>\n",
       "      <td>17000</td>\n",
       "      <td>NaN</td>\n",
       "      <td>NaN</td>\n",
       "    </tr>\n",
       "    <tr>\n",
       "      <th>top</th>\n",
       "      <td>M</td>\n",
       "      <td>NaN</td>\n",
       "      <td>68be06ca386d4c31939f3a4f0e3dd783</td>\n",
       "      <td>NaN</td>\n",
       "      <td>NaN</td>\n",
       "    </tr>\n",
       "    <tr>\n",
       "      <th>freq</th>\n",
       "      <td>8484</td>\n",
       "      <td>NaN</td>\n",
       "      <td>1</td>\n",
       "      <td>NaN</td>\n",
       "      <td>NaN</td>\n",
       "    </tr>\n",
       "    <tr>\n",
       "      <th>mean</th>\n",
       "      <td>NaN</td>\n",
       "      <td>62.53</td>\n",
       "      <td>NaN</td>\n",
       "      <td>20167034.23</td>\n",
       "      <td>65404.99</td>\n",
       "    </tr>\n",
       "    <tr>\n",
       "      <th>std</th>\n",
       "      <td>NaN</td>\n",
       "      <td>26.74</td>\n",
       "      <td>NaN</td>\n",
       "      <td>11677.50</td>\n",
       "      <td>21598.30</td>\n",
       "    </tr>\n",
       "    <tr>\n",
       "      <th>min</th>\n",
       "      <td>NaN</td>\n",
       "      <td>18.00</td>\n",
       "      <td>NaN</td>\n",
       "      <td>20130729.00</td>\n",
       "      <td>30000.00</td>\n",
       "    </tr>\n",
       "    <tr>\n",
       "      <th>25%</th>\n",
       "      <td>NaN</td>\n",
       "      <td>45.00</td>\n",
       "      <td>NaN</td>\n",
       "      <td>20160526.00</td>\n",
       "      <td>49000.00</td>\n",
       "    </tr>\n",
       "    <tr>\n",
       "      <th>50%</th>\n",
       "      <td>NaN</td>\n",
       "      <td>58.00</td>\n",
       "      <td>NaN</td>\n",
       "      <td>20170802.00</td>\n",
       "      <td>64000.00</td>\n",
       "    </tr>\n",
       "    <tr>\n",
       "      <th>75%</th>\n",
       "      <td>NaN</td>\n",
       "      <td>73.00</td>\n",
       "      <td>NaN</td>\n",
       "      <td>20171230.00</td>\n",
       "      <td>80000.00</td>\n",
       "    </tr>\n",
       "    <tr>\n",
       "      <th>max</th>\n",
       "      <td>NaN</td>\n",
       "      <td>118.00</td>\n",
       "      <td>NaN</td>\n",
       "      <td>20180726.00</td>\n",
       "      <td>120000.00</td>\n",
       "    </tr>\n",
       "  </tbody>\n",
       "</table>\n",
       "</div>"
      ],
      "text/plain": [
       "       gender      age                                id  became_member_on  \\\n",
       "count   14825 17000.00                             17000          17000.00   \n",
       "unique      3      NaN                             17000               NaN   \n",
       "top         M      NaN  68be06ca386d4c31939f3a4f0e3dd783               NaN   \n",
       "freq     8484      NaN                                 1               NaN   \n",
       "mean      NaN    62.53                               NaN       20167034.23   \n",
       "std       NaN    26.74                               NaN          11677.50   \n",
       "min       NaN    18.00                               NaN       20130729.00   \n",
       "25%       NaN    45.00                               NaN       20160526.00   \n",
       "50%       NaN    58.00                               NaN       20170802.00   \n",
       "75%       NaN    73.00                               NaN       20171230.00   \n",
       "max       NaN   118.00                               NaN       20180726.00   \n",
       "\n",
       "          income  \n",
       "count   14825.00  \n",
       "unique       NaN  \n",
       "top          NaN  \n",
       "freq         NaN  \n",
       "mean    65404.99  \n",
       "std     21598.30  \n",
       "min     30000.00  \n",
       "25%     49000.00  \n",
       "50%     64000.00  \n",
       "75%     80000.00  \n",
       "max    120000.00  "
      ]
     },
     "execution_count": 12,
     "metadata": {},
     "output_type": "execute_result"
    }
   ],
   "source": [
    "profile.describe(include='all')"
   ]
  },
  {
   "cell_type": "code",
   "execution_count": 13,
   "id": "c0fe1383",
   "metadata": {},
   "outputs": [
    {
     "data": {
      "text/plain": [
       "gender              2175\n",
       "age                    0\n",
       "id                     0\n",
       "became_member_on       0\n",
       "income              2175\n",
       "dtype: int64"
      ]
     },
     "execution_count": 13,
     "metadata": {},
     "output_type": "execute_result"
    }
   ],
   "source": [
    "profile.isnull().sum()"
   ]
  },
  {
   "cell_type": "code",
   "execution_count": 14,
   "id": "6bb0f66d",
   "metadata": {},
   "outputs": [
    {
     "data": {
      "text/plain": [
       "array([118,  55,  75,  68,  65,  58,  61,  26,  62,  49,  57,  40,  64,\n",
       "        78,  42,  56,  33,  46,  59,  67,  53,  22,  96,  69,  20,  45,\n",
       "        54,  39,  41,  79,  66,  29,  44,  63,  36,  76,  77,  30,  51,\n",
       "        27,  73,  74,  70,  89,  50,  90,  60,  19,  72,  52,  18,  71,\n",
       "        83,  43,  47,  32,  38,  34,  85,  48,  35,  82,  21,  24,  81,\n",
       "        25,  37,  23, 100,  28,  84,  80,  87,  86,  94,  31,  88,  95,\n",
       "        93,  91,  92,  98, 101,  97,  99], dtype=int64)"
      ]
     },
     "execution_count": 14,
     "metadata": {},
     "output_type": "execute_result"
    }
   ],
   "source": [
    "profile['age'].unique()"
   ]
  },
  {
   "cell_type": "code",
   "execution_count": 15,
   "id": "6868d132",
   "metadata": {},
   "outputs": [],
   "source": [
    "profile_wo_mv = profile.query('age != 118')"
   ]
  },
  {
   "cell_type": "code",
   "execution_count": 16,
   "id": "387ec024",
   "metadata": {},
   "outputs": [],
   "source": [
    "median_age = profile_wo_mv.age.median() # The median value of ages \n",
    "median_income = profile_wo_mv.income.median() # The median value of incomes"
   ]
  },
  {
   "cell_type": "code",
   "execution_count": 17,
   "id": "1473c722",
   "metadata": {},
   "outputs": [],
   "source": [
    "# Replace the missing values in gender column with U (Unknown), in income column with its median value. \n",
    "profile.fillna({'gender' : 'O', 'income':median_income }, inplace= True) \n",
    "# Replace the missing values (118) in age column with its median value. \n",
    "profile_cleaned = profile.replace({'age':118}, median_age)"
   ]
  },
  {
   "cell_type": "code",
   "execution_count": 18,
   "id": "752dc506",
   "metadata": {},
   "outputs": [
    {
     "data": {
      "text/plain": [
       "Text(0.5, 0, 'Age')"
      ]
     },
     "execution_count": 18,
     "metadata": {},
     "output_type": "execute_result"
    },
    {
     "data": {
      "image/png": "[encoded data removed]",
      "text/plain": [
       "<Figure size 432x288 with 1 Axes>"
      ]
     },
     "metadata": {
      "needs_background": "light"
     },
     "output_type": "display_data"
    }
   ],
   "source": [
    "profile_cleaned.age.hist()\n",
    "plt.title('Distribution of Age (Cleaned)')\n",
    "plt.ylabel('No. of Customers')\n",
    "plt.xlabel('Age')"
   ]
  },
  {
   "cell_type": "code",
   "execution_count": 19,
   "id": "f5d1f9d0",
   "metadata": {},
   "outputs": [
    {
     "data": {
      "text/plain": [
       "Text(0.5, 0, 'Income')"
      ]
     },
     "execution_count": 19,
     "metadata": {},
     "output_type": "execute_result"
    },
    {
     "data": {
      "image/png": "[encoded data removed]",
      "text/plain": [
       "<Figure size 432x288 with 1 Axes>"
      ]
     },
     "metadata": {
      "needs_background": "light"
     },
     "output_type": "display_data"
    }
   ],
   "source": [
    "profile_cleaned.income.hist()\n",
    "plt.title('Distribution of Income (Cleaned)')\n",
    "plt.ylabel('No. of Customers')\n",
    "plt.xlabel('Income')"
   ]
  },
  {
   "cell_type": "code",
   "execution_count": 20,
   "id": "356c37da",
   "metadata": {},
   "outputs": [
    {
     "data": {
      "text/plain": [
       "Text(0.5, 0, 'Gender')"
      ]
     },
     "execution_count": 20,
     "metadata": {},
     "output_type": "execute_result"
    },
    {
     "data": {
      "image/png": "[encoded data removed]",
      "text/plain": [
       "<Figure size 432x288 with 1 Axes>"
      ]
     },
     "metadata": {
      "needs_background": "light"
     },
     "output_type": "display_data"
    }
   ],
   "source": [
    "sns.countplot(data = profile_cleaned, x='gender')\n",
    "plt.title('Distribution of Gender (Cleaned)')\n",
    "plt.ylabel('No. of Customers')\n",
    "plt.xlabel('Gender')"
   ]
  },
  {
   "cell_type": "code",
   "execution_count": 21,
   "id": "33989b57",
   "metadata": {},
   "outputs": [],
   "source": [
    "profile_cleaned['became_member_on'] = pd.to_datetime(profile_cleaned['became_member_on'], format = '%Y%m%d')"
   ]
  },
  {
   "cell_type": "code",
   "execution_count": 22,
   "id": "fad84c69",
   "metadata": {},
   "outputs": [],
   "source": [
    "def calculate_days(dates):\n",
    "    last_record = pd.Timestamp('2018-07-31')\n",
    "    return last_record - dates"
   ]
  },
  {
   "cell_type": "code",
   "execution_count": 23,
   "id": "1bd2266f",
   "metadata": {},
   "outputs": [],
   "source": [
    "# Calculate the number of days as member for each customer. \n",
    "profile_cleaned['days_as_member'] =  profile_cleaned['became_member_on'].apply(calculate_days).dt.days"
   ]
  },
  {
   "cell_type": "code",
   "execution_count": 24,
   "id": "260b43ae",
   "metadata": {},
   "outputs": [],
   "source": [
    "# To avoid confusion, I rename 'id' column with 'customer_id'. \n",
    "profile_cleaned= profile_cleaned.rename(columns={'id': 'customer_id'})"
   ]
  },
  {
   "cell_type": "code",
   "execution_count": 25,
   "id": "45e93108",
   "metadata": {},
   "outputs": [
    {
     "data": {
      "text/html": [
       "<div>\n",
       "<style scoped>\n",
       "    .dataframe tbody tr th:only-of-type {\n",
       "        vertical-align: middle;\n",
       "    }\n",
       "\n",
       "    .dataframe tbody tr th {\n",
       "        vertical-align: top;\n",
       "    }\n",
       "\n",
       "    .dataframe thead th {\n",
       "        text-align: right;\n",
       "    }\n",
       "</style>\n",
       "<table border=\"1\" class=\"dataframe\">\n",
       "  <thead>\n",
       "    <tr style=\"text-align: right;\">\n",
       "      <th></th>\n",
       "      <th>gender</th>\n",
       "      <th>age</th>\n",
       "      <th>customer_id</th>\n",
       "      <th>became_member_on</th>\n",
       "      <th>income</th>\n",
       "      <th>days_as_member</th>\n",
       "    </tr>\n",
       "  </thead>\n",
       "  <tbody>\n",
       "    <tr>\n",
       "      <th>0</th>\n",
       "      <td>O</td>\n",
       "      <td>55</td>\n",
       "      <td>68be06ca386d4c31939f3a4f0e3dd783</td>\n",
       "      <td>2017-02-12</td>\n",
       "      <td>64000.00</td>\n",
       "      <td>534</td>\n",
       "    </tr>\n",
       "    <tr>\n",
       "      <th>1</th>\n",
       "      <td>F</td>\n",
       "      <td>55</td>\n",
       "      <td>0610b486422d4921ae7d2bf64640c50b</td>\n",
       "      <td>2017-07-15</td>\n",
       "      <td>112000.00</td>\n",
       "      <td>381</td>\n",
       "    </tr>\n",
       "    <tr>\n",
       "      <th>2</th>\n",
       "      <td>O</td>\n",
       "      <td>55</td>\n",
       "      <td>38fe809add3b4fcf9315a9694bb96ff5</td>\n",
       "      <td>2018-07-12</td>\n",
       "      <td>64000.00</td>\n",
       "      <td>19</td>\n",
       "    </tr>\n",
       "    <tr>\n",
       "      <th>3</th>\n",
       "      <td>F</td>\n",
       "      <td>75</td>\n",
       "      <td>78afa995795e4d85b5d9ceeca43f5fef</td>\n",
       "      <td>2017-05-09</td>\n",
       "      <td>100000.00</td>\n",
       "      <td>448</td>\n",
       "    </tr>\n",
       "    <tr>\n",
       "      <th>4</th>\n",
       "      <td>O</td>\n",
       "      <td>55</td>\n",
       "      <td>a03223e636434f42ac4c3df47e8bac43</td>\n",
       "      <td>2017-08-04</td>\n",
       "      <td>64000.00</td>\n",
       "      <td>361</td>\n",
       "    </tr>\n",
       "  </tbody>\n",
       "</table>\n",
       "</div>"
      ],
      "text/plain": [
       "  gender  age                       customer_id became_member_on    income  \\\n",
       "0      O   55  68be06ca386d4c31939f3a4f0e3dd783       2017-02-12  64000.00   \n",
       "1      F   55  0610b486422d4921ae7d2bf64640c50b       2017-07-15 112000.00   \n",
       "2      O   55  38fe809add3b4fcf9315a9694bb96ff5       2018-07-12  64000.00   \n",
       "3      F   75  78afa995795e4d85b5d9ceeca43f5fef       2017-05-09 100000.00   \n",
       "4      O   55  a03223e636434f42ac4c3df47e8bac43       2017-08-04  64000.00   \n",
       "\n",
       "   days_as_member  \n",
       "0             534  \n",
       "1             381  \n",
       "2              19  \n",
       "3             448  \n",
       "4             361  "
      ]
     },
     "execution_count": 25,
     "metadata": {},
     "output_type": "execute_result"
    }
   ],
   "source": [
    "profile_cleaned.head()"
   ]
  },
  {
   "cell_type": "code",
   "execution_count": 26,
   "id": "75707dde",
   "metadata": {},
   "outputs": [
    {
     "data": {
      "text/html": [
       "<div>\n",
       "<style scoped>\n",
       "    .dataframe tbody tr th:only-of-type {\n",
       "        vertical-align: middle;\n",
       "    }\n",
       "\n",
       "    .dataframe tbody tr th {\n",
       "        vertical-align: top;\n",
       "    }\n",
       "\n",
       "    .dataframe thead th {\n",
       "        text-align: right;\n",
       "    }\n",
       "</style>\n",
       "<table border=\"1\" class=\"dataframe\">\n",
       "  <thead>\n",
       "    <tr style=\"text-align: right;\">\n",
       "      <th></th>\n",
       "      <th>person</th>\n",
       "      <th>event</th>\n",
       "      <th>value</th>\n",
       "      <th>time</th>\n",
       "    </tr>\n",
       "  </thead>\n",
       "  <tbody>\n",
       "    <tr>\n",
       "      <th>0</th>\n",
       "      <td>78afa995795e4d85b5d9ceeca43f5fef</td>\n",
       "      <td>offer received</td>\n",
       "      <td>{'offer id': '9b98b8c7a33c4b65b9aebfe6a799e6d9'}</td>\n",
       "      <td>0</td>\n",
       "    </tr>\n",
       "    <tr>\n",
       "      <th>1</th>\n",
       "      <td>a03223e636434f42ac4c3df47e8bac43</td>\n",
       "      <td>offer received</td>\n",
       "      <td>{'offer id': '0b1e1539f2cc45b7b9fa7c272da2e1d7'}</td>\n",
       "      <td>0</td>\n",
       "    </tr>\n",
       "    <tr>\n",
       "      <th>2</th>\n",
       "      <td>e2127556f4f64592b11af22de27a7932</td>\n",
       "      <td>offer received</td>\n",
       "      <td>{'offer id': '2906b810c7d4411798c6938adc9daaa5'}</td>\n",
       "      <td>0</td>\n",
       "    </tr>\n",
       "    <tr>\n",
       "      <th>3</th>\n",
       "      <td>8ec6ce2a7e7949b1bf142def7d0e0586</td>\n",
       "      <td>offer received</td>\n",
       "      <td>{'offer id': 'fafdcd668e3743c1bb461111dcafc2a4'}</td>\n",
       "      <td>0</td>\n",
       "    </tr>\n",
       "    <tr>\n",
       "      <th>4</th>\n",
       "      <td>68617ca6246f4fbc85e91a2a49552598</td>\n",
       "      <td>offer received</td>\n",
       "      <td>{'offer id': '4d5c57ea9a6940dd891ad53e9dbe8da0'}</td>\n",
       "      <td>0</td>\n",
       "    </tr>\n",
       "  </tbody>\n",
       "</table>\n",
       "</div>"
      ],
      "text/plain": [
       "                             person           event  \\\n",
       "0  78afa995795e4d85b5d9ceeca43f5fef  offer received   \n",
       "1  a03223e636434f42ac4c3df47e8bac43  offer received   \n",
       "2  e2127556f4f64592b11af22de27a7932  offer received   \n",
       "3  8ec6ce2a7e7949b1bf142def7d0e0586  offer received   \n",
       "4  68617ca6246f4fbc85e91a2a49552598  offer received   \n",
       "\n",
       "                                              value  time  \n",
       "0  {'offer id': '9b98b8c7a33c4b65b9aebfe6a799e6d9'}     0  \n",
       "1  {'offer id': '0b1e1539f2cc45b7b9fa7c272da2e1d7'}     0  \n",
       "2  {'offer id': '2906b810c7d4411798c6938adc9daaa5'}     0  \n",
       "3  {'offer id': 'fafdcd668e3743c1bb461111dcafc2a4'}     0  \n",
       "4  {'offer id': '4d5c57ea9a6940dd891ad53e9dbe8da0'}     0  "
      ]
     },
     "execution_count": 26,
     "metadata": {},
     "output_type": "execute_result"
    }
   ],
   "source": [
    "transcript.head()"
   ]
  },
  {
   "cell_type": "code",
   "execution_count": 27,
   "id": "d3ac7708",
   "metadata": {},
   "outputs": [
    {
     "name": "stdout",
     "output_type": "stream",
     "text": [
      "<class 'pandas.core.frame.DataFrame'>\n",
      "RangeIndex: 306534 entries, 0 to 306533\n",
      "Data columns (total 4 columns):\n",
      " #   Column  Non-Null Count   Dtype \n",
      "---  ------  --------------   ----- \n",
      " 0   person  306534 non-null  object\n",
      " 1   event   306534 non-null  object\n",
      " 2   value   306534 non-null  object\n",
      " 3   time    306534 non-null  int64 \n",
      "dtypes: int64(1), object(3)\n",
      "memory usage: 9.4+ MB\n"
     ]
    }
   ],
   "source": [
    "transcript.info()"
   ]
  },
  {
   "cell_type": "code",
   "execution_count": 28,
   "id": "a97eb08d",
   "metadata": {},
   "outputs": [],
   "source": [
    "transcript_normalized = pd.json_normalize(transcript.value)"
   ]
  },
  {
   "cell_type": "code",
   "execution_count": 29,
   "id": "14e2a452",
   "metadata": {},
   "outputs": [],
   "source": [
    "transcript_normalized['offer_id'] = transcript_normalized['offer id'].fillna('') + transcript_normalized['offer_id'].fillna('')\n",
    "transcript_mod = pd.concat([transcript, transcript_normalized], axis = 1)"
   ]
  },
  {
   "cell_type": "code",
   "execution_count": 30,
   "id": "dbf585db",
   "metadata": {},
   "outputs": [],
   "source": [
    "# To drop unnecessary features \n",
    "transcript_mod.drop(['value', 'offer id'], axis =1, inplace = True) "
   ]
  },
  {
   "cell_type": "code",
   "execution_count": 31,
   "id": "5030c1ea",
   "metadata": {},
   "outputs": [],
   "source": [
    "transcript_mod= transcript_mod.rename(columns={'person': 'customer_id'})"
   ]
  },
  {
   "cell_type": "code",
   "execution_count": 32,
   "id": "e9719b03",
   "metadata": {},
   "outputs": [
    {
     "data": {
      "text/plain": [
       "array([  0,   6,  12,  18,  24,  30,  36,  42,  48,  54,  60,  66,  72,\n",
       "        78,  84,  90,  96, 102, 108, 114, 120, 126, 132, 138, 144, 150,\n",
       "       156, 162, 168, 174, 180, 186, 192, 198, 204, 210, 216, 222, 228,\n",
       "       234, 240, 246, 252, 258, 264, 270, 276, 282, 288, 294, 300, 306,\n",
       "       312, 318, 324, 330, 336, 342, 348, 354, 360, 366, 372, 378, 384,\n",
       "       390, 396, 402, 408, 414, 420, 426, 432, 438, 444, 450, 456, 462,\n",
       "       468, 474, 480, 486, 492, 498, 504, 510, 516, 522, 528, 534, 540,\n",
       "       546, 552, 558, 564, 570, 576, 582, 588, 594, 600, 606, 612, 618,\n",
       "       624, 630, 636, 642, 648, 654, 660, 666, 672, 678, 684, 690, 696,\n",
       "       702, 708, 714], dtype=int64)"
      ]
     },
     "execution_count": 32,
     "metadata": {},
     "output_type": "execute_result"
    }
   ],
   "source": [
    "transcript['time'].unique()"
   ]
  },
  {
   "cell_type": "code",
   "execution_count": 33,
   "id": "33fee00d",
   "metadata": {},
   "outputs": [
    {
     "data": {
      "text/plain": [
       "408    17030\n",
       "576    17015\n",
       "504    16822\n",
       "336    16302\n",
       "168    16150\n",
       "       ...  \n",
       "318      940\n",
       "330      938\n",
       "156      914\n",
       "162      910\n",
       "150      894\n",
       "Name: time, Length: 120, dtype: int64"
      ]
     },
     "execution_count": 33,
     "metadata": {},
     "output_type": "execute_result"
    }
   ],
   "source": [
    "transcript['time'].value_counts()"
   ]
  },
  {
   "cell_type": "code",
   "execution_count": 34,
   "id": "3dc37dca",
   "metadata": {},
   "outputs": [],
   "source": [
    "# Calcuateing the number of days/ months after starting the test\n",
    "## Nth day since testing\n",
    "transcript_mod['days'] = transcript_mod['time']/6 +1 \n",
    "transcript_mod['days'] = transcript_mod['days'].astype(int)\n",
    "## Nth month since testing\n",
    "transcript_mod['months'] = (transcript_mod['days']-1)//30 +1\n",
    "transcript_mod['months'] = transcript_mod['months'].astype(int)"
   ]
  },
  {
   "cell_type": "code",
   "execution_count": 35,
   "id": "f63ac986",
   "metadata": {},
   "outputs": [
    {
     "data": {
      "text/html": [
       "<div>\n",
       "<style scoped>\n",
       "    .dataframe tbody tr th:only-of-type {\n",
       "        vertical-align: middle;\n",
       "    }\n",
       "\n",
       "    .dataframe tbody tr th {\n",
       "        vertical-align: top;\n",
       "    }\n",
       "\n",
       "    .dataframe thead th {\n",
       "        text-align: right;\n",
       "    }\n",
       "</style>\n",
       "<table border=\"1\" class=\"dataframe\">\n",
       "  <thead>\n",
       "    <tr style=\"text-align: right;\">\n",
       "      <th></th>\n",
       "      <th>customer_id</th>\n",
       "      <th>event</th>\n",
       "      <th>time</th>\n",
       "      <th>amount</th>\n",
       "      <th>offer_id</th>\n",
       "      <th>reward</th>\n",
       "      <th>days</th>\n",
       "      <th>months</th>\n",
       "    </tr>\n",
       "  </thead>\n",
       "  <tbody>\n",
       "    <tr>\n",
       "      <th>0</th>\n",
       "      <td>78afa995795e4d85b5d9ceeca43f5fef</td>\n",
       "      <td>offer received</td>\n",
       "      <td>0</td>\n",
       "      <td>NaN</td>\n",
       "      <td>9b98b8c7a33c4b65b9aebfe6a799e6d9</td>\n",
       "      <td>NaN</td>\n",
       "      <td>1</td>\n",
       "      <td>1</td>\n",
       "    </tr>\n",
       "    <tr>\n",
       "      <th>1</th>\n",
       "      <td>a03223e636434f42ac4c3df47e8bac43</td>\n",
       "      <td>offer received</td>\n",
       "      <td>0</td>\n",
       "      <td>NaN</td>\n",
       "      <td>0b1e1539f2cc45b7b9fa7c272da2e1d7</td>\n",
       "      <td>NaN</td>\n",
       "      <td>1</td>\n",
       "      <td>1</td>\n",
       "    </tr>\n",
       "    <tr>\n",
       "      <th>2</th>\n",
       "      <td>e2127556f4f64592b11af22de27a7932</td>\n",
       "      <td>offer received</td>\n",
       "      <td>0</td>\n",
       "      <td>NaN</td>\n",
       "      <td>2906b810c7d4411798c6938adc9daaa5</td>\n",
       "      <td>NaN</td>\n",
       "      <td>1</td>\n",
       "      <td>1</td>\n",
       "    </tr>\n",
       "    <tr>\n",
       "      <th>3</th>\n",
       "      <td>8ec6ce2a7e7949b1bf142def7d0e0586</td>\n",
       "      <td>offer received</td>\n",
       "      <td>0</td>\n",
       "      <td>NaN</td>\n",
       "      <td>fafdcd668e3743c1bb461111dcafc2a4</td>\n",
       "      <td>NaN</td>\n",
       "      <td>1</td>\n",
       "      <td>1</td>\n",
       "    </tr>\n",
       "    <tr>\n",
       "      <th>4</th>\n",
       "      <td>68617ca6246f4fbc85e91a2a49552598</td>\n",
       "      <td>offer received</td>\n",
       "      <td>0</td>\n",
       "      <td>NaN</td>\n",
       "      <td>4d5c57ea9a6940dd891ad53e9dbe8da0</td>\n",
       "      <td>NaN</td>\n",
       "      <td>1</td>\n",
       "      <td>1</td>\n",
       "    </tr>\n",
       "  </tbody>\n",
       "</table>\n",
       "</div>"
      ],
      "text/plain": [
       "                        customer_id           event  time  amount  \\\n",
       "0  78afa995795e4d85b5d9ceeca43f5fef  offer received     0     NaN   \n",
       "1  a03223e636434f42ac4c3df47e8bac43  offer received     0     NaN   \n",
       "2  e2127556f4f64592b11af22de27a7932  offer received     0     NaN   \n",
       "3  8ec6ce2a7e7949b1bf142def7d0e0586  offer received     0     NaN   \n",
       "4  68617ca6246f4fbc85e91a2a49552598  offer received     0     NaN   \n",
       "\n",
       "                           offer_id  reward  days  months  \n",
       "0  9b98b8c7a33c4b65b9aebfe6a799e6d9     NaN     1       1  \n",
       "1  0b1e1539f2cc45b7b9fa7c272da2e1d7     NaN     1       1  \n",
       "2  2906b810c7d4411798c6938adc9daaa5     NaN     1       1  \n",
       "3  fafdcd668e3743c1bb461111dcafc2a4     NaN     1       1  \n",
       "4  4d5c57ea9a6940dd891ad53e9dbe8da0     NaN     1       1  "
      ]
     },
     "execution_count": 35,
     "metadata": {},
     "output_type": "execute_result"
    }
   ],
   "source": [
    "transcript_mod.head()"
   ]
  },
  {
   "cell_type": "code",
   "execution_count": 36,
   "id": "b29845a9",
   "metadata": {},
   "outputs": [],
   "source": [
    "transcript_offer_name = transcript_mod.merge(portfolio[['offer_type', 'offer_id']],left_on = 'offer_id', right_on = 'offer_id', how ='left' )"
   ]
  },
  {
   "cell_type": "code",
   "execution_count": 37,
   "id": "90268f58",
   "metadata": {},
   "outputs": [
    {
     "data": {
      "text/html": [
       "<div>\n",
       "<style scoped>\n",
       "    .dataframe tbody tr th:only-of-type {\n",
       "        vertical-align: middle;\n",
       "    }\n",
       "\n",
       "    .dataframe tbody tr th {\n",
       "        vertical-align: top;\n",
       "    }\n",
       "\n",
       "    .dataframe thead th {\n",
       "        text-align: right;\n",
       "    }\n",
       "</style>\n",
       "<table border=\"1\" class=\"dataframe\">\n",
       "  <thead>\n",
       "    <tr style=\"text-align: right;\">\n",
       "      <th></th>\n",
       "      <th>customer_id</th>\n",
       "      <th>event</th>\n",
       "      <th>time</th>\n",
       "      <th>amount</th>\n",
       "      <th>offer_id</th>\n",
       "      <th>reward</th>\n",
       "      <th>days</th>\n",
       "      <th>months</th>\n",
       "      <th>offer_type</th>\n",
       "    </tr>\n",
       "  </thead>\n",
       "  <tbody>\n",
       "    <tr>\n",
       "      <th>0</th>\n",
       "      <td>78afa995795e4d85b5d9ceeca43f5fef</td>\n",
       "      <td>offer received</td>\n",
       "      <td>0</td>\n",
       "      <td>NaN</td>\n",
       "      <td>9b98b8c7a33c4b65b9aebfe6a799e6d9</td>\n",
       "      <td>NaN</td>\n",
       "      <td>1</td>\n",
       "      <td>1</td>\n",
       "      <td>bogo</td>\n",
       "    </tr>\n",
       "    <tr>\n",
       "      <th>1</th>\n",
       "      <td>a03223e636434f42ac4c3df47e8bac43</td>\n",
       "      <td>offer received</td>\n",
       "      <td>0</td>\n",
       "      <td>NaN</td>\n",
       "      <td>0b1e1539f2cc45b7b9fa7c272da2e1d7</td>\n",
       "      <td>NaN</td>\n",
       "      <td>1</td>\n",
       "      <td>1</td>\n",
       "      <td>discount</td>\n",
       "    </tr>\n",
       "    <tr>\n",
       "      <th>2</th>\n",
       "      <td>e2127556f4f64592b11af22de27a7932</td>\n",
       "      <td>offer received</td>\n",
       "      <td>0</td>\n",
       "      <td>NaN</td>\n",
       "      <td>2906b810c7d4411798c6938adc9daaa5</td>\n",
       "      <td>NaN</td>\n",
       "      <td>1</td>\n",
       "      <td>1</td>\n",
       "      <td>discount</td>\n",
       "    </tr>\n",
       "    <tr>\n",
       "      <th>3</th>\n",
       "      <td>8ec6ce2a7e7949b1bf142def7d0e0586</td>\n",
       "      <td>offer received</td>\n",
       "      <td>0</td>\n",
       "      <td>NaN</td>\n",
       "      <td>fafdcd668e3743c1bb461111dcafc2a4</td>\n",
       "      <td>NaN</td>\n",
       "      <td>1</td>\n",
       "      <td>1</td>\n",
       "      <td>discount</td>\n",
       "    </tr>\n",
       "    <tr>\n",
       "      <th>4</th>\n",
       "      <td>68617ca6246f4fbc85e91a2a49552598</td>\n",
       "      <td>offer received</td>\n",
       "      <td>0</td>\n",
       "      <td>NaN</td>\n",
       "      <td>4d5c57ea9a6940dd891ad53e9dbe8da0</td>\n",
       "      <td>NaN</td>\n",
       "      <td>1</td>\n",
       "      <td>1</td>\n",
       "      <td>bogo</td>\n",
       "    </tr>\n",
       "    <tr>\n",
       "      <th>...</th>\n",
       "      <td>...</td>\n",
       "      <td>...</td>\n",
       "      <td>...</td>\n",
       "      <td>...</td>\n",
       "      <td>...</td>\n",
       "      <td>...</td>\n",
       "      <td>...</td>\n",
       "      <td>...</td>\n",
       "      <td>...</td>\n",
       "    </tr>\n",
       "    <tr>\n",
       "      <th>306529</th>\n",
       "      <td>b3a1272bc9904337b331bf348c3e8c17</td>\n",
       "      <td>transaction</td>\n",
       "      <td>714</td>\n",
       "      <td>1.59</td>\n",
       "      <td></td>\n",
       "      <td>NaN</td>\n",
       "      <td>120</td>\n",
       "      <td>4</td>\n",
       "      <td>NaN</td>\n",
       "    </tr>\n",
       "    <tr>\n",
       "      <th>306530</th>\n",
       "      <td>68213b08d99a4ae1b0dcb72aebd9aa35</td>\n",
       "      <td>transaction</td>\n",
       "      <td>714</td>\n",
       "      <td>9.53</td>\n",
       "      <td></td>\n",
       "      <td>NaN</td>\n",
       "      <td>120</td>\n",
       "      <td>4</td>\n",
       "      <td>NaN</td>\n",
       "    </tr>\n",
       "    <tr>\n",
       "      <th>306531</th>\n",
       "      <td>a00058cf10334a308c68e7631c529907</td>\n",
       "      <td>transaction</td>\n",
       "      <td>714</td>\n",
       "      <td>3.61</td>\n",
       "      <td></td>\n",
       "      <td>NaN</td>\n",
       "      <td>120</td>\n",
       "      <td>4</td>\n",
       "      <td>NaN</td>\n",
       "    </tr>\n",
       "    <tr>\n",
       "      <th>306532</th>\n",
       "      <td>76ddbd6576844afe811f1a3c0fbb5bec</td>\n",
       "      <td>transaction</td>\n",
       "      <td>714</td>\n",
       "      <td>3.53</td>\n",
       "      <td></td>\n",
       "      <td>NaN</td>\n",
       "      <td>120</td>\n",
       "      <td>4</td>\n",
       "      <td>NaN</td>\n",
       "    </tr>\n",
       "    <tr>\n",
       "      <th>306533</th>\n",
       "      <td>c02b10e8752c4d8e9b73f918558531f7</td>\n",
       "      <td>transaction</td>\n",
       "      <td>714</td>\n",
       "      <td>4.05</td>\n",
       "      <td></td>\n",
       "      <td>NaN</td>\n",
       "      <td>120</td>\n",
       "      <td>4</td>\n",
       "      <td>NaN</td>\n",
       "    </tr>\n",
       "  </tbody>\n",
       "</table>\n",
       "<p>306534 rows × 9 columns</p>\n",
       "</div>"
      ],
      "text/plain": [
       "                             customer_id           event  time  amount  \\\n",
       "0       78afa995795e4d85b5d9ceeca43f5fef  offer received     0     NaN   \n",
       "1       a03223e636434f42ac4c3df47e8bac43  offer received     0     NaN   \n",
       "2       e2127556f4f64592b11af22de27a7932  offer received     0     NaN   \n",
       "3       8ec6ce2a7e7949b1bf142def7d0e0586  offer received     0     NaN   \n",
       "4       68617ca6246f4fbc85e91a2a49552598  offer received     0     NaN   \n",
       "...                                  ...             ...   ...     ...   \n",
       "306529  b3a1272bc9904337b331bf348c3e8c17     transaction   714    1.59   \n",
       "306530  68213b08d99a4ae1b0dcb72aebd9aa35     transaction   714    9.53   \n",
       "306531  a00058cf10334a308c68e7631c529907     transaction   714    3.61   \n",
       "306532  76ddbd6576844afe811f1a3c0fbb5bec     transaction   714    3.53   \n",
       "306533  c02b10e8752c4d8e9b73f918558531f7     transaction   714    4.05   \n",
       "\n",
       "                                offer_id  reward  days  months offer_type  \n",
       "0       9b98b8c7a33c4b65b9aebfe6a799e6d9     NaN     1       1       bogo  \n",
       "1       0b1e1539f2cc45b7b9fa7c272da2e1d7     NaN     1       1   discount  \n",
       "2       2906b810c7d4411798c6938adc9daaa5     NaN     1       1   discount  \n",
       "3       fafdcd668e3743c1bb461111dcafc2a4     NaN     1       1   discount  \n",
       "4       4d5c57ea9a6940dd891ad53e9dbe8da0     NaN     1       1       bogo  \n",
       "...                                  ...     ...   ...     ...        ...  \n",
       "306529                                       NaN   120       4        NaN  \n",
       "306530                                       NaN   120       4        NaN  \n",
       "306531                                       NaN   120       4        NaN  \n",
       "306532                                       NaN   120       4        NaN  \n",
       "306533                                       NaN   120       4        NaN  \n",
       "\n",
       "[306534 rows x 9 columns]"
      ]
     },
     "execution_count": 37,
     "metadata": {},
     "output_type": "execute_result"
    }
   ],
   "source": [
    "transcript_offer_name"
   ]
  },
  {
   "cell_type": "code",
   "execution_count": 38,
   "id": "2567c40b",
   "metadata": {},
   "outputs": [
    {
     "name": "stderr",
     "output_type": "stream",
     "text": [
      "C:\\Users\\hruth\\anaconda3\\lib\\site-packages\\pandas\\core\\frame.py:4906: SettingWithCopyWarning: \n",
      "A value is trying to be set on a copy of a slice from a DataFrame\n",
      "\n",
      "See the caveats in the documentation: https://pandas.pydata.org/pandas-docs/stable/user_guide/indexing.html#returning-a-view-versus-a-copy\n",
      "  return super().drop(\n"
     ]
    }
   ],
   "source": [
    "#Dataset seperate into two datasets: offer_based, and sales_based \n",
    "# Offer_based_transaction: event != \"transaction\"\n",
    "# From offer_based_transaction, we can figure out which offers are provided which customers. \n",
    "offer_based_transaction = transcript_offer_name.query('event != \"transaction\"')\n",
    "offer_based_transaction.drop(['amount'], axis = 1, inplace=True)\n",
    "# sales_based_transaction: event == \"transaction\"\n",
    "# From sales_based_transaction, we can figure out how much customers spent at our stores. \n",
    "sales_based_transaction = transcript_offer_name.query('event == \"transaction\"')\n",
    "sales_based_transaction.drop(['offer_id'], axis = 1, inplace=True)"
   ]
  },
  {
   "cell_type": "code",
   "execution_count": 39,
   "id": "c799795b",
   "metadata": {},
   "outputs": [],
   "source": [
    "#Checkpoints\n",
    "offer_info_df = portfolio.copy()\n",
    "customer_info_df = profile_cleaned.copy()\n",
    "transactions_df = transcript_offer_name.copy()\n",
    "sales_transaction_df = sales_based_transaction.copy()\n",
    "offers_transaction_df = offer_based_transaction.copy()"
   ]
  },
  {
   "cell_type": "code",
   "execution_count": 40,
   "id": "e5febad7",
   "metadata": {},
   "outputs": [],
   "source": [
    "#The Change of traffics during the test period"
   ]
  },
  {
   "cell_type": "code",
   "execution_count": 41,
   "id": "beab57a4",
   "metadata": {},
   "outputs": [
    {
     "data": {
      "text/plain": [
       "Text(0, 0.5, 'Daily Traffics')"
      ]
     },
     "execution_count": 41,
     "metadata": {},
     "output_type": "execute_result"
    },
    {
     "data": {
      "image/png": "[encoded data removed]",
      "text/plain": [
       "<Figure size 432x288 with 1 Axes>"
      ]
     },
     "metadata": {
      "needs_background": "light"
     },
     "output_type": "display_data"
    }
   ],
   "source": [
    "sales_transaction_df.groupby('days')['customer_id'].count().plot(kind ='line')\n",
    "plt.ylabel('Daily Traffics')"
   ]
  },
  {
   "cell_type": "code",
   "execution_count": 42,
   "id": "8d5a1218",
   "metadata": {},
   "outputs": [
    {
     "data": {
      "text/plain": [
       "Text(0, 0.5, 'Monthly Traffics')"
      ]
     },
     "execution_count": 42,
     "metadata": {},
     "output_type": "execute_result"
    },
    {
     "data": {
      "image/png": "[encoded data removed]",
      "text/plain": [
       "<Figure size 432x288 with 1 Axes>"
      ]
     },
     "metadata": {
      "needs_background": "light"
     },
     "output_type": "display_data"
    }
   ],
   "source": [
    "sns.countplot(data = sales_transaction_df, x = 'months')\n",
    "plt.ylabel('Monthly Traffics')"
   ]
  },
  {
   "cell_type": "code",
   "execution_count": 43,
   "id": "0634b1a6",
   "metadata": {},
   "outputs": [],
   "source": [
    "#The Sales Trend Amount during the test period"
   ]
  },
  {
   "cell_type": "code",
   "execution_count": 44,
   "id": "b23a8891",
   "metadata": {},
   "outputs": [
    {
     "data": {
      "text/plain": [
       "Text(0, 0.5, 'Total Monthly Average Sales')"
      ]
     },
     "execution_count": 44,
     "metadata": {},
     "output_type": "execute_result"
    },
    {
     "data": {
      "image/png": "[encoded data removed]",
      "text/plain": [
       "<Figure size 432x288 with 1 Axes>"
      ]
     },
     "metadata": {
      "needs_background": "light"
     },
     "output_type": "display_data"
    }
   ],
   "source": [
    "sales_transaction_df.groupby('months')['amount'].sum().plot(kind ='bar')\n",
    "plt.ylabel('Total Monthly Average Sales')"
   ]
  },
  {
   "cell_type": "code",
   "execution_count": 45,
   "id": "4df34197",
   "metadata": {},
   "outputs": [
    {
     "data": {
      "text/plain": [
       "Text(0, 0.5, 'sales_MA(6)')"
      ]
     },
     "execution_count": 45,
     "metadata": {},
     "output_type": "execute_result"
    },
    {
     "data": {
      "image/png": "[encoded data removed]",
      "text/plain": [
       "<Figure size 432x288 with 1 Axes>"
      ]
     },
     "metadata": {
      "needs_background": "light"
     },
     "output_type": "display_data"
    }
   ],
   "source": [
    "sales = sales_transaction_df.groupby('days',  as_index= False)['amount'].sum()\n",
    "sales['sales_MA(6)'] = sales.iloc[:,1].rolling(window =6).mean()\n",
    "plt.plot(sales['days'], sales['sales_MA(6)'])\n",
    "plt.xlabel('Testing days')\n",
    "plt.ylabel('sales_MA(6)')"
   ]
  },
  {
   "cell_type": "code",
   "execution_count": 46,
   "id": "467a1cd1",
   "metadata": {},
   "outputs": [
    {
     "data": {
      "text/plain": [
       "Text(0, 0.5, 'Monthly Average Sales per each traffic')"
      ]
     },
     "execution_count": 46,
     "metadata": {},
     "output_type": "execute_result"
    },
    {
     "data": {
      "image/png": "[encoded data removed]",
      "text/plain": [
       "<Figure size 432x288 with 1 Axes>"
      ]
     },
     "metadata": {
      "needs_background": "light"
     },
     "output_type": "display_data"
    }
   ],
   "source": [
    "sns.barplot(data = sales_transaction_df, x = 'months', y= 'amount')\n",
    "plt.ylabel('Monthly Average Sales per each traffic')"
   ]
  },
  {
   "cell_type": "code",
   "execution_count": 47,
   "id": "cf5e6543",
   "metadata": {},
   "outputs": [],
   "source": [
    "month_1 = sales_transaction_df.query('months == 1').amount\n",
    "month_2 = sales_transaction_df.query('months == 2').amount\n",
    "month_3 = sales_transaction_df.query('months == 3').amount\n",
    "month_4 = sales_transaction_df.query('months == 4').amount"
   ]
  },
  {
   "cell_type": "code",
   "execution_count": 48,
   "id": "87384d3b",
   "metadata": {},
   "outputs": [],
   "source": [
    "# Making a new dataframe by Modifying the dataframe: offers_transaction_df\n",
    "# The new dataframe will indicates the number of offers that each customer received \n",
    "all_offers_infos = pd.concat([offers_transaction_df, pd.get_dummies(offers_transaction_df.offer_type)], axis = 1)\n",
    "all_issued_offers =all_offers_infos.query('event == \"offer received\"')\n",
    "\n",
    "# all_issued_offers per customers\n",
    "issued_offers_per_customer_df  =all_issued_offers.groupby('customer_id', as_index= False)[['bogo','discount', 'informational']].sum()\n",
    "\n",
    "# Dataframe (all_issued_offers per customers) is merged with customer profile\n",
    "customers_offers_merged_profile = issued_offers_per_customer_df.merge(customer_info_df, \n",
    "                                                                      left_on = 'customer_id', right_on= 'customer_id', how='left')"
   ]
  },
  {
   "cell_type": "code",
   "execution_count": 49,
   "id": "c09ee25b",
   "metadata": {},
   "outputs": [
    {
     "data": {
      "text/html": [
       "<div>\n",
       "<style scoped>\n",
       "    .dataframe tbody tr th:only-of-type {\n",
       "        vertical-align: middle;\n",
       "    }\n",
       "\n",
       "    .dataframe tbody tr th {\n",
       "        vertical-align: top;\n",
       "    }\n",
       "\n",
       "    .dataframe thead th {\n",
       "        text-align: right;\n",
       "    }\n",
       "</style>\n",
       "<table border=\"1\" class=\"dataframe\">\n",
       "  <thead>\n",
       "    <tr style=\"text-align: right;\">\n",
       "      <th></th>\n",
       "      <th>customer_id</th>\n",
       "      <th>bogo</th>\n",
       "      <th>discount</th>\n",
       "      <th>informational</th>\n",
       "      <th>gender</th>\n",
       "      <th>age</th>\n",
       "      <th>became_member_on</th>\n",
       "      <th>income</th>\n",
       "      <th>days_as_member</th>\n",
       "    </tr>\n",
       "  </thead>\n",
       "  <tbody>\n",
       "    <tr>\n",
       "      <th>0</th>\n",
       "      <td>0009655768c64bdeb2e877511632db8f</td>\n",
       "      <td>1</td>\n",
       "      <td>2</td>\n",
       "      <td>2</td>\n",
       "      <td>M</td>\n",
       "      <td>33</td>\n",
       "      <td>2017-04-21</td>\n",
       "      <td>72000.00</td>\n",
       "      <td>466</td>\n",
       "    </tr>\n",
       "    <tr>\n",
       "      <th>1</th>\n",
       "      <td>00116118485d4dfda04fdbaba9a87b5c</td>\n",
       "      <td>2</td>\n",
       "      <td>0</td>\n",
       "      <td>0</td>\n",
       "      <td>O</td>\n",
       "      <td>55</td>\n",
       "      <td>2018-04-25</td>\n",
       "      <td>64000.00</td>\n",
       "      <td>97</td>\n",
       "    </tr>\n",
       "    <tr>\n",
       "      <th>2</th>\n",
       "      <td>0011e0d4e6b944f998e987f904e8c1e5</td>\n",
       "      <td>1</td>\n",
       "      <td>2</td>\n",
       "      <td>2</td>\n",
       "      <td>O</td>\n",
       "      <td>40</td>\n",
       "      <td>2018-01-09</td>\n",
       "      <td>57000.00</td>\n",
       "      <td>203</td>\n",
       "    </tr>\n",
       "    <tr>\n",
       "      <th>3</th>\n",
       "      <td>0020c2b971eb4e9188eac86d93036a77</td>\n",
       "      <td>2</td>\n",
       "      <td>2</td>\n",
       "      <td>1</td>\n",
       "      <td>F</td>\n",
       "      <td>59</td>\n",
       "      <td>2016-03-04</td>\n",
       "      <td>90000.00</td>\n",
       "      <td>879</td>\n",
       "    </tr>\n",
       "    <tr>\n",
       "      <th>4</th>\n",
       "      <td>0020ccbbb6d84e358d3414a3ff76cffd</td>\n",
       "      <td>2</td>\n",
       "      <td>1</td>\n",
       "      <td>1</td>\n",
       "      <td>F</td>\n",
       "      <td>24</td>\n",
       "      <td>2016-11-11</td>\n",
       "      <td>60000.00</td>\n",
       "      <td>627</td>\n",
       "    </tr>\n",
       "  </tbody>\n",
       "</table>\n",
       "</div>"
      ],
      "text/plain": [
       "                        customer_id  bogo  discount  informational gender  \\\n",
       "0  0009655768c64bdeb2e877511632db8f     1         2              2      M   \n",
       "1  00116118485d4dfda04fdbaba9a87b5c     2         0              0      O   \n",
       "2  0011e0d4e6b944f998e987f904e8c1e5     1         2              2      O   \n",
       "3  0020c2b971eb4e9188eac86d93036a77     2         2              1      F   \n",
       "4  0020ccbbb6d84e358d3414a3ff76cffd     2         1              1      F   \n",
       "\n",
       "   age became_member_on   income  days_as_member  \n",
       "0   33       2017-04-21 72000.00             466  \n",
       "1   55       2018-04-25 64000.00              97  \n",
       "2   40       2018-01-09 57000.00             203  \n",
       "3   59       2016-03-04 90000.00             879  \n",
       "4   24       2016-11-11 60000.00             627  "
      ]
     },
     "execution_count": 49,
     "metadata": {},
     "output_type": "execute_result"
    }
   ],
   "source": [
    "customers_offers_merged_profile.head()"
   ]
  },
  {
   "cell_type": "code",
   "execution_count": 50,
   "id": "f620b440",
   "metadata": {},
   "outputs": [
    {
     "data": {
      "text/plain": [
       "(16994, 9)"
      ]
     },
     "execution_count": 50,
     "metadata": {},
     "output_type": "execute_result"
    }
   ],
   "source": [
    "customers_offers_merged_profile.shape"
   ]
  },
  {
   "cell_type": "code",
   "execution_count": 51,
   "id": "f71d13f9",
   "metadata": {},
   "outputs": [
    {
     "data": {
      "text/html": [
       "<div>\n",
       "<style scoped>\n",
       "    .dataframe tbody tr th:only-of-type {\n",
       "        vertical-align: middle;\n",
       "    }\n",
       "\n",
       "    .dataframe tbody tr th {\n",
       "        vertical-align: top;\n",
       "    }\n",
       "\n",
       "    .dataframe thead th {\n",
       "        text-align: right;\n",
       "    }\n",
       "</style>\n",
       "<table border=\"1\" class=\"dataframe\">\n",
       "  <thead>\n",
       "    <tr style=\"text-align: right;\">\n",
       "      <th></th>\n",
       "      <th>count</th>\n",
       "      <th>mean</th>\n",
       "      <th>std</th>\n",
       "      <th>min</th>\n",
       "      <th>25%</th>\n",
       "      <th>50%</th>\n",
       "      <th>75%</th>\n",
       "      <th>max</th>\n",
       "    </tr>\n",
       "  </thead>\n",
       "  <tbody>\n",
       "    <tr>\n",
       "      <th>bogo</th>\n",
       "      <td>16994.00</td>\n",
       "      <td>1.79</td>\n",
       "      <td>1.12</td>\n",
       "      <td>0.00</td>\n",
       "      <td>1.00</td>\n",
       "      <td>2.00</td>\n",
       "      <td>3.00</td>\n",
       "      <td>6.00</td>\n",
       "    </tr>\n",
       "    <tr>\n",
       "      <th>discount</th>\n",
       "      <td>16994.00</td>\n",
       "      <td>1.80</td>\n",
       "      <td>1.13</td>\n",
       "      <td>0.00</td>\n",
       "      <td>1.00</td>\n",
       "      <td>2.00</td>\n",
       "      <td>3.00</td>\n",
       "      <td>6.00</td>\n",
       "    </tr>\n",
       "    <tr>\n",
       "      <th>informational</th>\n",
       "      <td>16994.00</td>\n",
       "      <td>0.90</td>\n",
       "      <td>0.87</td>\n",
       "      <td>0.00</td>\n",
       "      <td>0.00</td>\n",
       "      <td>1.00</td>\n",
       "      <td>1.00</td>\n",
       "      <td>5.00</td>\n",
       "    </tr>\n",
       "    <tr>\n",
       "      <th>age</th>\n",
       "      <td>16994.00</td>\n",
       "      <td>54.47</td>\n",
       "      <td>16.23</td>\n",
       "      <td>18.00</td>\n",
       "      <td>45.00</td>\n",
       "      <td>55.00</td>\n",
       "      <td>65.00</td>\n",
       "      <td>101.00</td>\n",
       "    </tr>\n",
       "    <tr>\n",
       "      <th>income</th>\n",
       "      <td>16994.00</td>\n",
       "      <td>65226.90</td>\n",
       "      <td>20174.70</td>\n",
       "      <td>30000.00</td>\n",
       "      <td>51000.00</td>\n",
       "      <td>64000.00</td>\n",
       "      <td>76000.00</td>\n",
       "      <td>120000.00</td>\n",
       "    </tr>\n",
       "    <tr>\n",
       "      <th>days_as_member</th>\n",
       "      <td>16994.00</td>\n",
       "      <td>522.44</td>\n",
       "      <td>411.27</td>\n",
       "      <td>5.00</td>\n",
       "      <td>213.00</td>\n",
       "      <td>363.00</td>\n",
       "      <td>796.00</td>\n",
       "      <td>1828.00</td>\n",
       "    </tr>\n",
       "  </tbody>\n",
       "</table>\n",
       "</div>"
      ],
      "text/plain": [
       "                  count     mean      std      min      25%      50%      75%  \\\n",
       "bogo           16994.00     1.79     1.12     0.00     1.00     2.00     3.00   \n",
       "discount       16994.00     1.80     1.13     0.00     1.00     2.00     3.00   \n",
       "informational  16994.00     0.90     0.87     0.00     0.00     1.00     1.00   \n",
       "age            16994.00    54.47    16.23    18.00    45.00    55.00    65.00   \n",
       "income         16994.00 65226.90 20174.70 30000.00 51000.00 64000.00 76000.00   \n",
       "days_as_member 16994.00   522.44   411.27     5.00   213.00   363.00   796.00   \n",
       "\n",
       "                     max  \n",
       "bogo                6.00  \n",
       "discount            6.00  \n",
       "informational       5.00  \n",
       "age               101.00  \n",
       "income         120000.00  \n",
       "days_as_member   1828.00  "
      ]
     },
     "execution_count": 51,
     "metadata": {},
     "output_type": "execute_result"
    }
   ],
   "source": [
    "customers_offers_merged_profile.describe().T"
   ]
  },
  {
   "cell_type": "code",
   "execution_count": 52,
   "id": "33074aa6",
   "metadata": {},
   "outputs": [],
   "source": [
    "#Gender (categorical variable)"
   ]
  },
  {
   "cell_type": "code",
   "execution_count": 53,
   "id": "04eb983c",
   "metadata": {},
   "outputs": [],
   "source": [
    "gender_order = customers_offers_merged_profile.gender.value_counts()"
   ]
  },
  {
   "cell_type": "code",
   "execution_count": 54,
   "id": "9cdcd0c8",
   "metadata": {},
   "outputs": [
    {
     "data": {
      "text/plain": [
       "Text(0.5, 1.0, 'BOGO')"
      ]
     },
     "execution_count": 54,
     "metadata": {},
     "output_type": "execute_result"
    },
    {
     "data": {
      "image/png": "[encoded data removed]",
      "text/plain": [
       "<Figure size 432x288 with 1 Axes>"
      ]
     },
     "metadata": {
      "needs_background": "light"
     },
     "output_type": "display_data"
    }
   ],
   "source": [
    "sns.barplot(data = customers_offers_merged_profile, x = 'gender', y= 'bogo', order = gender_order.index)\n",
    "plt.ylabel('Avg. # of BOGO Offer') \n",
    "plt.title('BOGO')"
   ]
  },
  {
   "cell_type": "code",
   "execution_count": 55,
   "id": "4b83ac75",
   "metadata": {},
   "outputs": [
    {
     "data": {
      "text/plain": [
       "Text(0.5, 1.0, 'Informational')"
      ]
     },
     "execution_count": 55,
     "metadata": {},
     "output_type": "execute_result"
    },
    {
     "data": {
      "image/png": "[encoded data removed]",
      "text/plain": [
       "<Figure size 432x288 with 1 Axes>"
      ]
     },
     "metadata": {
      "needs_background": "light"
     },
     "output_type": "display_data"
    }
   ],
   "source": [
    "sns.barplot(data = customers_offers_merged_profile, x = 'gender', y= 'informational', order = gender_order.index)\n",
    "plt.ylabel('Avg. # of Informational Offer') \n",
    "plt.title('Informational')"
   ]
  },
  {
   "cell_type": "code",
   "execution_count": 56,
   "id": "77cc58d7",
   "metadata": {},
   "outputs": [
    {
     "data": {
      "text/plain": [
       "Text(0.5, 1.0, 'Discount')"
      ]
     },
     "execution_count": 56,
     "metadata": {},
     "output_type": "execute_result"
    },
    {
     "data": {
      "image/png": "[encoded data removed]",
      "text/plain": [
       "<Figure size 432x288 with 1 Axes>"
      ]
     },
     "metadata": {
      "needs_background": "light"
     },
     "output_type": "display_data"
    }
   ],
   "source": [
    "sns.barplot(data = customers_offers_merged_profile, x = 'gender', y= 'discount', order = gender_order.index)\n",
    "plt.ylabel('Avg. # of Discount Offer') \n",
    "plt.title('Discount')"
   ]
  },
  {
   "cell_type": "code",
   "execution_count": 57,
   "id": "3eddb983",
   "metadata": {},
   "outputs": [],
   "source": [
    "#Income, Age, Days_as_member (numeric variables)"
   ]
  },
  {
   "cell_type": "code",
   "execution_count": 58,
   "id": "3d5df08f",
   "metadata": {},
   "outputs": [
    {
     "data": {
      "image/png": "[encoded data removed]",
      "text/plain": [
       "<Figure size 576x288 with 2 Axes>"
      ]
     },
     "metadata": {
      "needs_background": "light"
     },
     "output_type": "display_data"
    }
   ],
   "source": [
    "# Correlation in Heatmap form \n",
    "plt.figure(figsize=(8,4))\n",
    "s = sns.heatmap(customers_offers_merged_profile.corr(), annot = True, vmin = -1, vmax=1)\n",
    "s.set_yticklabels(s.get_yticklabels(), rotation = 0, fontsize =12) \n",
    "s.set_xticklabels(s.get_xticklabels(), rotation = 90, fontsize =12) \n",
    "plt.title('Correlation Heatmap', fontsize =18)\n",
    "plt.show()"
   ]
  },
  {
   "cell_type": "code",
   "execution_count": 59,
   "id": "a243adb8",
   "metadata": {},
   "outputs": [],
   "source": [
    "#Starbucks Offers "
   ]
  },
  {
   "cell_type": "code",
   "execution_count": 60,
   "id": "ec10ade2",
   "metadata": {},
   "outputs": [],
   "source": [
    "# To avoid double counting\n",
    "offers_received = offers_transaction_df.query('event==\"offer received\"')"
   ]
  },
  {
   "cell_type": "code",
   "execution_count": 61,
   "id": "aee805e7",
   "metadata": {},
   "outputs": [
    {
     "data": {
      "image/png": "[encoded data removed]",
      "text/plain": [
       "<Figure size 504x360 with 1 Axes>"
      ]
     },
     "metadata": {
      "needs_background": "light"
     },
     "output_type": "display_data"
    }
   ],
   "source": [
    "# The number of different offers which are issued in each month\n",
    "plt.figure(figsize =[7,5])\n",
    "ax = sns.countplot(data = offers_received, x = 'months', hue = 'offer_type')"
   ]
  },
  {
   "cell_type": "code",
   "execution_count": 62,
   "id": "e627646d",
   "metadata": {},
   "outputs": [
    {
     "data": {
      "text/plain": [
       "discount         30543\n",
       "bogo             30499\n",
       "informational    15235\n",
       "Name: offer_type, dtype: int64"
      ]
     },
     "execution_count": 62,
     "metadata": {},
     "output_type": "execute_result"
    }
   ],
   "source": [
    "offers_received.offer_type.value_counts()"
   ]
  },
  {
   "cell_type": "code",
   "execution_count": 63,
   "id": "35599070",
   "metadata": {},
   "outputs": [
    {
     "data": {
      "text/plain": [
       "<AxesSubplot:xlabel='offer_type', ylabel='count'>"
      ]
     },
     "execution_count": 63,
     "metadata": {},
     "output_type": "execute_result"
    },
    {
     "data": {
      "image/png": "[encoded data removed]",
      "text/plain": [
       "<Figure size 504x360 with 1 Axes>"
      ]
     },
     "metadata": {
      "needs_background": "light"
     },
     "output_type": "display_data"
    }
   ],
   "source": [
    "# The number of different events on each offer type. \n",
    "plt.figure(figsize =[7,5])\n",
    "sns.countplot(data = offers_transaction_df, x = 'offer_type', hue = 'event')"
   ]
  },
  {
   "cell_type": "code",
   "execution_count": 64,
   "id": "bcf451b6",
   "metadata": {},
   "outputs": [],
   "source": [
    "#Customer Purchasing Patterns"
   ]
  },
  {
   "cell_type": "code",
   "execution_count": 65,
   "id": "3a94b61b",
   "metadata": {},
   "outputs": [],
   "source": [
    "# How recently did the customer purchase?\n",
    "recency = sales_transaction_df.groupby('customer_id', as_index= False)['days'].max()\n",
    "recency['days'] = 120 - recency['days']\n",
    "recency.rename(columns={'days':'recency'}, inplace = True)  "
   ]
  },
  {
   "cell_type": "code",
   "execution_count": 66,
   "id": "5b76c3d6",
   "metadata": {},
   "outputs": [],
   "source": [
    "# How often do they purchase?\n",
    "transaction_cnt = sales_transaction_df.groupby(['customer_id','days'], as_index= False)['amount'].count()\n",
    "frequency = transaction_cnt.groupby('customer_id')['days'].count().reset_index()\n",
    "frequency.rename(columns={'days':'frequency'}, inplace = True)  "
   ]
  },
  {
   "cell_type": "code",
   "execution_count": 67,
   "id": "f3881d6b",
   "metadata": {},
   "outputs": [],
   "source": [
    "# How much do they spend?\n",
    "monetary = sales_transaction_df.groupby('customer_id', as_index= False)['amount'].sum()\n",
    "monetary.rename(columns={'amount':'monetary'}, inplace = True)"
   ]
  },
  {
   "cell_type": "code",
   "execution_count": 68,
   "id": "bbec010d",
   "metadata": {},
   "outputs": [],
   "source": [
    "rfm = recency.merge(frequency, left_on = 'customer_id', right_on = 'customer_id', how = 'inner')\n",
    "rfm_df = rfm.merge(monetary, left_on = 'customer_id', right_on = 'customer_id', how = 'inner')"
   ]
  },
  {
   "cell_type": "code",
   "execution_count": 69,
   "id": "689494ec",
   "metadata": {},
   "outputs": [
    {
     "data": {
      "text/html": [
       "<div>\n",
       "<style scoped>\n",
       "    .dataframe tbody tr th:only-of-type {\n",
       "        vertical-align: middle;\n",
       "    }\n",
       "\n",
       "    .dataframe tbody tr th {\n",
       "        vertical-align: top;\n",
       "    }\n",
       "\n",
       "    .dataframe thead th {\n",
       "        text-align: right;\n",
       "    }\n",
       "</style>\n",
       "<table border=\"1\" class=\"dataframe\">\n",
       "  <thead>\n",
       "    <tr style=\"text-align: right;\">\n",
       "      <th></th>\n",
       "      <th>customer_id</th>\n",
       "      <th>recency</th>\n",
       "      <th>frequency</th>\n",
       "      <th>monetary</th>\n",
       "    </tr>\n",
       "  </thead>\n",
       "  <tbody>\n",
       "    <tr>\n",
       "      <th>0</th>\n",
       "      <td>0009655768c64bdeb2e877511632db8f</td>\n",
       "      <td>3</td>\n",
       "      <td>8</td>\n",
       "      <td>127.60</td>\n",
       "    </tr>\n",
       "    <tr>\n",
       "      <th>1</th>\n",
       "      <td>00116118485d4dfda04fdbaba9a87b5c</td>\n",
       "      <td>40</td>\n",
       "      <td>3</td>\n",
       "      <td>4.09</td>\n",
       "    </tr>\n",
       "    <tr>\n",
       "      <th>2</th>\n",
       "      <td>0011e0d4e6b944f998e987f904e8c1e5</td>\n",
       "      <td>10</td>\n",
       "      <td>5</td>\n",
       "      <td>79.46</td>\n",
       "    </tr>\n",
       "    <tr>\n",
       "      <th>3</th>\n",
       "      <td>0020c2b971eb4e9188eac86d93036a77</td>\n",
       "      <td>1</td>\n",
       "      <td>8</td>\n",
       "      <td>196.86</td>\n",
       "    </tr>\n",
       "    <tr>\n",
       "      <th>4</th>\n",
       "      <td>0020ccbbb6d84e358d3414a3ff76cffd</td>\n",
       "      <td>7</td>\n",
       "      <td>12</td>\n",
       "      <td>154.05</td>\n",
       "    </tr>\n",
       "  </tbody>\n",
       "</table>\n",
       "</div>"
      ],
      "text/plain": [
       "                        customer_id  recency  frequency  monetary\n",
       "0  0009655768c64bdeb2e877511632db8f        3          8    127.60\n",
       "1  00116118485d4dfda04fdbaba9a87b5c       40          3      4.09\n",
       "2  0011e0d4e6b944f998e987f904e8c1e5       10          5     79.46\n",
       "3  0020c2b971eb4e9188eac86d93036a77        1          8    196.86\n",
       "4  0020ccbbb6d84e358d3414a3ff76cffd        7         12    154.05"
      ]
     },
     "execution_count": 69,
     "metadata": {},
     "output_type": "execute_result"
    }
   ],
   "source": [
    "rfm_df.head()"
   ]
  },
  {
   "cell_type": "code",
   "execution_count": 70,
   "id": "7b2dc4a9",
   "metadata": {},
   "outputs": [
    {
     "data": {
      "text/plain": [
       "(16578, 4)"
      ]
     },
     "execution_count": 70,
     "metadata": {},
     "output_type": "execute_result"
    }
   ],
   "source": [
    "rfm_df.shape"
   ]
  },
  {
   "cell_type": "code",
   "execution_count": 71,
   "id": "fa78ceb7",
   "metadata": {},
   "outputs": [
    {
     "name": "stdout",
     "output_type": "stream",
     "text": [
      "<class 'pandas.core.frame.DataFrame'>\n",
      "Int64Index: 16578 entries, 0 to 16577\n",
      "Data columns (total 4 columns):\n",
      " #   Column       Non-Null Count  Dtype  \n",
      "---  ------       --------------  -----  \n",
      " 0   customer_id  16578 non-null  object \n",
      " 1   recency      16578 non-null  int32  \n",
      " 2   frequency    16578 non-null  int64  \n",
      " 3   monetary     16578 non-null  float64\n",
      "dtypes: float64(1), int32(1), int64(1), object(1)\n",
      "memory usage: 582.8+ KB\n"
     ]
    }
   ],
   "source": [
    "rfm_df.info()"
   ]
  },
  {
   "cell_type": "code",
   "execution_count": 72,
   "id": "c8da4974",
   "metadata": {},
   "outputs": [
    {
     "data": {
      "text/html": [
       "<div>\n",
       "<style scoped>\n",
       "    .dataframe tbody tr th:only-of-type {\n",
       "        vertical-align: middle;\n",
       "    }\n",
       "\n",
       "    .dataframe tbody tr th {\n",
       "        vertical-align: top;\n",
       "    }\n",
       "\n",
       "    .dataframe thead th {\n",
       "        text-align: right;\n",
       "    }\n",
       "</style>\n",
       "<table border=\"1\" class=\"dataframe\">\n",
       "  <thead>\n",
       "    <tr style=\"text-align: right;\">\n",
       "      <th></th>\n",
       "      <th>count</th>\n",
       "      <th>mean</th>\n",
       "      <th>std</th>\n",
       "      <th>min</th>\n",
       "      <th>25%</th>\n",
       "      <th>50%</th>\n",
       "      <th>75%</th>\n",
       "      <th>max</th>\n",
       "    </tr>\n",
       "  </thead>\n",
       "  <tbody>\n",
       "    <tr>\n",
       "      <th>recency</th>\n",
       "      <td>16578.00</td>\n",
       "      <td>14.24</td>\n",
       "      <td>13.79</td>\n",
       "      <td>0.00</td>\n",
       "      <td>4.00</td>\n",
       "      <td>10.00</td>\n",
       "      <td>20.00</td>\n",
       "      <td>117.00</td>\n",
       "    </tr>\n",
       "    <tr>\n",
       "      <th>frequency</th>\n",
       "      <td>16578.00</td>\n",
       "      <td>8.38</td>\n",
       "      <td>5.01</td>\n",
       "      <td>1.00</td>\n",
       "      <td>5.00</td>\n",
       "      <td>7.00</td>\n",
       "      <td>11.00</td>\n",
       "      <td>36.00</td>\n",
       "    </tr>\n",
       "    <tr>\n",
       "      <th>monetary</th>\n",
       "      <td>16578.00</td>\n",
       "      <td>107.10</td>\n",
       "      <td>126.39</td>\n",
       "      <td>0.05</td>\n",
       "      <td>23.68</td>\n",
       "      <td>72.41</td>\n",
       "      <td>150.94</td>\n",
       "      <td>1608.69</td>\n",
       "    </tr>\n",
       "  </tbody>\n",
       "</table>\n",
       "</div>"
      ],
      "text/plain": [
       "             count   mean    std  min   25%   50%    75%     max\n",
       "recency   16578.00  14.24  13.79 0.00  4.00 10.00  20.00  117.00\n",
       "frequency 16578.00   8.38   5.01 1.00  5.00  7.00  11.00   36.00\n",
       "monetary  16578.00 107.10 126.39 0.05 23.68 72.41 150.94 1608.69"
      ]
     },
     "execution_count": 72,
     "metadata": {},
     "output_type": "execute_result"
    }
   ],
   "source": [
    "rfm_df.describe().T"
   ]
  },
  {
   "cell_type": "code",
   "execution_count": 73,
   "id": "01b24651",
   "metadata": {},
   "outputs": [
    {
     "data": {
      "text/plain": [
       "array([[<AxesSubplot:xlabel='recency', ylabel='recency'>,\n",
       "        <AxesSubplot:xlabel='frequency', ylabel='recency'>,\n",
       "        <AxesSubplot:xlabel='monetary', ylabel='recency'>],\n",
       "       [<AxesSubplot:xlabel='recency', ylabel='frequency'>,\n",
       "        <AxesSubplot:xlabel='frequency', ylabel='frequency'>,\n",
       "        <AxesSubplot:xlabel='monetary', ylabel='frequency'>],\n",
       "       [<AxesSubplot:xlabel='recency', ylabel='monetary'>,\n",
       "        <AxesSubplot:xlabel='frequency', ylabel='monetary'>,\n",
       "        <AxesSubplot:xlabel='monetary', ylabel='monetary'>]], dtype=object)"
      ]
     },
     "execution_count": 73,
     "metadata": {},
     "output_type": "execute_result"
    },
    {
     "data": {
      "image/png": "[encoded data removed]",
      "text/plain": [
       "<Figure size 576x576 with 9 Axes>"
      ]
     },
     "metadata": {
      "needs_background": "light"
     },
     "output_type": "display_data"
    }
   ],
   "source": [
    "pd.plotting.scatter_matrix(rfm_df, figsize = (8,8))"
   ]
  },
  {
   "cell_type": "code",
   "execution_count": 74,
   "id": "f567c8e9",
   "metadata": {},
   "outputs": [],
   "source": [
    "#Feature Engineering"
   ]
  },
  {
   "attachments": {
    "Desirable.PNG": {
     "image/png": "[encoded data removed]"
    }
   },
   "cell_type": "markdown",
   "id": "ac380971",
   "metadata": {},
   "source": [
    "![Desirable.PNG](attachment:Desirable.PNG)"
   ]
  },
  {
   "cell_type": "markdown",
   "id": "3a2f47f2",
   "metadata": {},
   "source": [
    "Case 1: If a person received an offer, viewed it, purchased a product, then met the level of difficulty.\n",
    "\n",
    "Case 2: A person received an offer, viewed it, purchased a product. All these 3 processes occured during the offer duration. However, this person could not reach the difficulty of corresponding offers.\n",
    "\n",
    "In the provided dataset, some customers show different purchasing patterns.\n",
    "\n",
    "Case 3: A person received an offer, viewed it during the offer duration. However after the person checked the offer, he/she did not purchase during the offer duration.\n",
    "\n",
    "Case 4: A person received an offer. However the customer has not viewed it during the offer duration. Then he/she satisfy the difficulty of corresponding offers, so the customer got rewards.\n",
    "\n",
    "Case 5: Similarly, a person received an offer. However the customer has not viewed it during the offer duration. Since this type of customer has not satisfied the minimum level of spendings, so they could not enjoy any rewards.\n",
    "\n",
    "Case 6: A customer who received an offer. However, the customer has not checked it and showed any transactions during the offer duration.\n",
    "\n",
    "Case 7: These customers groups are actually ideal for our company. Although they didnt receive any offers, they purchased products at our stores."
   ]
  },
  {
   "cell_type": "code",
   "execution_count": 75,
   "id": "a5285fa1",
   "metadata": {},
   "outputs": [],
   "source": [
    "# To figure out which customers belong to which cases, I restructured the transaction dataframe.\n",
    "transactions_event_df = pd.concat([transactions_df, pd.get_dummies(transactions_df.event)], axis = 1)\n",
    "transactions_event_df.drop(['event','months'], axis = 1, inplace=True)"
   ]
  },
  {
   "cell_type": "code",
   "execution_count": 76,
   "id": "e88ea5b9",
   "metadata": {},
   "outputs": [
    {
     "name": "stderr",
     "output_type": "stream",
     "text": [
      "C:\\Users\\hruth\\anaconda3\\lib\\site-packages\\pandas\\core\\frame.py:5039: SettingWithCopyWarning: \n",
      "A value is trying to be set on a copy of a slice from a DataFrame\n",
      "\n",
      "See the caveats in the documentation: https://pandas.pydata.org/pandas-docs/stable/user_guide/indexing.html#returning-a-view-versus-a-copy\n",
      "  return super().rename(\n"
     ]
    }
   ],
   "source": [
    "# To avoid any confusions, I selected necessary columns for the purpose of analysis in this section and rename the columns.\n",
    "trans_event_mod_df = transactions_event_df[['customer_id', 'time','offer_id','days','offer received','offer viewed', 'transaction','offer completed','reward']]\n",
    "trans_event_mod_df.rename(columns={'offer viewed': 'offer_viewed', 'offer received':'offer_received', 'offer completed':'offer_completed' },inplace = True)"
   ]
  },
  {
   "cell_type": "code",
   "execution_count": 77,
   "id": "449c1d33",
   "metadata": {},
   "outputs": [],
   "source": [
    "# Then I combined the dataframe with offer type and its duration from offer information dataset. \n",
    "trans_offer_info = trans_event_mod_df.merge(offer_info_df[['offer_id', 'offer_type','duration']], \n",
    "                                    left_on = 'offer_id', right_on = 'offer_id', how='left')"
   ]
  },
  {
   "cell_type": "code",
   "execution_count": 78,
   "id": "b63c150f",
   "metadata": {},
   "outputs": [
    {
     "data": {
      "text/html": [
       "<div>\n",
       "<style scoped>\n",
       "    .dataframe tbody tr th:only-of-type {\n",
       "        vertical-align: middle;\n",
       "    }\n",
       "\n",
       "    .dataframe tbody tr th {\n",
       "        vertical-align: top;\n",
       "    }\n",
       "\n",
       "    .dataframe thead th {\n",
       "        text-align: right;\n",
       "    }\n",
       "</style>\n",
       "<table border=\"1\" class=\"dataframe\">\n",
       "  <thead>\n",
       "    <tr style=\"text-align: right;\">\n",
       "      <th></th>\n",
       "      <th>customer_id</th>\n",
       "      <th>time</th>\n",
       "      <th>offer_id</th>\n",
       "      <th>days</th>\n",
       "      <th>offer_received</th>\n",
       "      <th>offer_viewed</th>\n",
       "      <th>transaction</th>\n",
       "      <th>offer_completed</th>\n",
       "      <th>reward</th>\n",
       "      <th>offer_type</th>\n",
       "      <th>duration</th>\n",
       "    </tr>\n",
       "  </thead>\n",
       "  <tbody>\n",
       "    <tr>\n",
       "      <th>0</th>\n",
       "      <td>78afa995795e4d85b5d9ceeca43f5fef</td>\n",
       "      <td>0</td>\n",
       "      <td>9b98b8c7a33c4b65b9aebfe6a799e6d9</td>\n",
       "      <td>1</td>\n",
       "      <td>1</td>\n",
       "      <td>0</td>\n",
       "      <td>0</td>\n",
       "      <td>0</td>\n",
       "      <td>NaN</td>\n",
       "      <td>bogo</td>\n",
       "      <td>7.00</td>\n",
       "    </tr>\n",
       "    <tr>\n",
       "      <th>1</th>\n",
       "      <td>a03223e636434f42ac4c3df47e8bac43</td>\n",
       "      <td>0</td>\n",
       "      <td>0b1e1539f2cc45b7b9fa7c272da2e1d7</td>\n",
       "      <td>1</td>\n",
       "      <td>1</td>\n",
       "      <td>0</td>\n",
       "      <td>0</td>\n",
       "      <td>0</td>\n",
       "      <td>NaN</td>\n",
       "      <td>discount</td>\n",
       "      <td>10.00</td>\n",
       "    </tr>\n",
       "    <tr>\n",
       "      <th>2</th>\n",
       "      <td>e2127556f4f64592b11af22de27a7932</td>\n",
       "      <td>0</td>\n",
       "      <td>2906b810c7d4411798c6938adc9daaa5</td>\n",
       "      <td>1</td>\n",
       "      <td>1</td>\n",
       "      <td>0</td>\n",
       "      <td>0</td>\n",
       "      <td>0</td>\n",
       "      <td>NaN</td>\n",
       "      <td>discount</td>\n",
       "      <td>7.00</td>\n",
       "    </tr>\n",
       "    <tr>\n",
       "      <th>3</th>\n",
       "      <td>8ec6ce2a7e7949b1bf142def7d0e0586</td>\n",
       "      <td>0</td>\n",
       "      <td>fafdcd668e3743c1bb461111dcafc2a4</td>\n",
       "      <td>1</td>\n",
       "      <td>1</td>\n",
       "      <td>0</td>\n",
       "      <td>0</td>\n",
       "      <td>0</td>\n",
       "      <td>NaN</td>\n",
       "      <td>discount</td>\n",
       "      <td>10.00</td>\n",
       "    </tr>\n",
       "    <tr>\n",
       "      <th>4</th>\n",
       "      <td>68617ca6246f4fbc85e91a2a49552598</td>\n",
       "      <td>0</td>\n",
       "      <td>4d5c57ea9a6940dd891ad53e9dbe8da0</td>\n",
       "      <td>1</td>\n",
       "      <td>1</td>\n",
       "      <td>0</td>\n",
       "      <td>0</td>\n",
       "      <td>0</td>\n",
       "      <td>NaN</td>\n",
       "      <td>bogo</td>\n",
       "      <td>5.00</td>\n",
       "    </tr>\n",
       "  </tbody>\n",
       "</table>\n",
       "</div>"
      ],
      "text/plain": [
       "                        customer_id  time                          offer_id  \\\n",
       "0  78afa995795e4d85b5d9ceeca43f5fef     0  9b98b8c7a33c4b65b9aebfe6a799e6d9   \n",
       "1  a03223e636434f42ac4c3df47e8bac43     0  0b1e1539f2cc45b7b9fa7c272da2e1d7   \n",
       "2  e2127556f4f64592b11af22de27a7932     0  2906b810c7d4411798c6938adc9daaa5   \n",
       "3  8ec6ce2a7e7949b1bf142def7d0e0586     0  fafdcd668e3743c1bb461111dcafc2a4   \n",
       "4  68617ca6246f4fbc85e91a2a49552598     0  4d5c57ea9a6940dd891ad53e9dbe8da0   \n",
       "\n",
       "   days  offer_received  offer_viewed  transaction  offer_completed  reward  \\\n",
       "0     1               1             0            0                0     NaN   \n",
       "1     1               1             0            0                0     NaN   \n",
       "2     1               1             0            0                0     NaN   \n",
       "3     1               1             0            0                0     NaN   \n",
       "4     1               1             0            0                0     NaN   \n",
       "\n",
       "  offer_type  duration  \n",
       "0       bogo      7.00  \n",
       "1   discount     10.00  \n",
       "2   discount      7.00  \n",
       "3   discount     10.00  \n",
       "4       bogo      5.00  "
      ]
     },
     "execution_count": 78,
     "metadata": {},
     "output_type": "execute_result"
    }
   ],
   "source": [
    "trans_offer_info.head()"
   ]
  },
  {
   "cell_type": "code",
   "execution_count": 79,
   "id": "97f3befd",
   "metadata": {},
   "outputs": [
    {
     "data": {
      "text/plain": [
       "customer_id             0\n",
       "time                    0\n",
       "offer_id                0\n",
       "days                    0\n",
       "offer_received          0\n",
       "offer_viewed            0\n",
       "transaction             0\n",
       "offer_completed         0\n",
       "reward             272955\n",
       "offer_type         138953\n",
       "duration           138953\n",
       "dtype: int64"
      ]
     },
     "execution_count": 79,
     "metadata": {},
     "output_type": "execute_result"
    }
   ],
   "source": [
    "trans_offer_info.isnull().sum()"
   ]
  },
  {
   "cell_type": "code",
   "execution_count": 80,
   "id": "5783a4fc",
   "metadata": {},
   "outputs": [],
   "source": [
    "# For the calculation convenience, I fill up zeros into null values. \n",
    "trans_offer_info = trans_offer_info.fillna(0)"
   ]
  },
  {
   "cell_type": "code",
   "execution_count": 81,
   "id": "7cdf4b96",
   "metadata": {},
   "outputs": [],
   "source": [
    "# I created a new column represening the last day of each offer. \n",
    "trans_offer_info['max_offer_day'] = trans_offer_info.offer_received*(trans_offer_info['duration'] + trans_offer_info['days'])"
   ]
  },
  {
   "cell_type": "code",
   "execution_count": 82,
   "id": "a70618f6",
   "metadata": {},
   "outputs": [
    {
     "data": {
      "text/html": [
       "<div>\n",
       "<style scoped>\n",
       "    .dataframe tbody tr th:only-of-type {\n",
       "        vertical-align: middle;\n",
       "    }\n",
       "\n",
       "    .dataframe tbody tr th {\n",
       "        vertical-align: top;\n",
       "    }\n",
       "\n",
       "    .dataframe thead th {\n",
       "        text-align: right;\n",
       "    }\n",
       "</style>\n",
       "<table border=\"1\" class=\"dataframe\">\n",
       "  <thead>\n",
       "    <tr style=\"text-align: right;\">\n",
       "      <th></th>\n",
       "      <th>customer_id</th>\n",
       "      <th>time</th>\n",
       "      <th>offer_id</th>\n",
       "      <th>days</th>\n",
       "      <th>offer_received</th>\n",
       "      <th>offer_viewed</th>\n",
       "      <th>transaction</th>\n",
       "      <th>offer_completed</th>\n",
       "      <th>reward</th>\n",
       "      <th>offer_type</th>\n",
       "      <th>duration</th>\n",
       "      <th>max_offer_day</th>\n",
       "    </tr>\n",
       "  </thead>\n",
       "  <tbody>\n",
       "    <tr>\n",
       "      <th>0</th>\n",
       "      <td>78afa995795e4d85b5d9ceeca43f5fef</td>\n",
       "      <td>0</td>\n",
       "      <td>9b98b8c7a33c4b65b9aebfe6a799e6d9</td>\n",
       "      <td>1</td>\n",
       "      <td>1</td>\n",
       "      <td>0</td>\n",
       "      <td>0</td>\n",
       "      <td>0</td>\n",
       "      <td>0.00</td>\n",
       "      <td>bogo</td>\n",
       "      <td>7.00</td>\n",
       "      <td>8.00</td>\n",
       "    </tr>\n",
       "    <tr>\n",
       "      <th>1</th>\n",
       "      <td>a03223e636434f42ac4c3df47e8bac43</td>\n",
       "      <td>0</td>\n",
       "      <td>0b1e1539f2cc45b7b9fa7c272da2e1d7</td>\n",
       "      <td>1</td>\n",
       "      <td>1</td>\n",
       "      <td>0</td>\n",
       "      <td>0</td>\n",
       "      <td>0</td>\n",
       "      <td>0.00</td>\n",
       "      <td>discount</td>\n",
       "      <td>10.00</td>\n",
       "      <td>11.00</td>\n",
       "    </tr>\n",
       "    <tr>\n",
       "      <th>2</th>\n",
       "      <td>e2127556f4f64592b11af22de27a7932</td>\n",
       "      <td>0</td>\n",
       "      <td>2906b810c7d4411798c6938adc9daaa5</td>\n",
       "      <td>1</td>\n",
       "      <td>1</td>\n",
       "      <td>0</td>\n",
       "      <td>0</td>\n",
       "      <td>0</td>\n",
       "      <td>0.00</td>\n",
       "      <td>discount</td>\n",
       "      <td>7.00</td>\n",
       "      <td>8.00</td>\n",
       "    </tr>\n",
       "    <tr>\n",
       "      <th>3</th>\n",
       "      <td>8ec6ce2a7e7949b1bf142def7d0e0586</td>\n",
       "      <td>0</td>\n",
       "      <td>fafdcd668e3743c1bb461111dcafc2a4</td>\n",
       "      <td>1</td>\n",
       "      <td>1</td>\n",
       "      <td>0</td>\n",
       "      <td>0</td>\n",
       "      <td>0</td>\n",
       "      <td>0.00</td>\n",
       "      <td>discount</td>\n",
       "      <td>10.00</td>\n",
       "      <td>11.00</td>\n",
       "    </tr>\n",
       "    <tr>\n",
       "      <th>4</th>\n",
       "      <td>68617ca6246f4fbc85e91a2a49552598</td>\n",
       "      <td>0</td>\n",
       "      <td>4d5c57ea9a6940dd891ad53e9dbe8da0</td>\n",
       "      <td>1</td>\n",
       "      <td>1</td>\n",
       "      <td>0</td>\n",
       "      <td>0</td>\n",
       "      <td>0</td>\n",
       "      <td>0.00</td>\n",
       "      <td>bogo</td>\n",
       "      <td>5.00</td>\n",
       "      <td>6.00</td>\n",
       "    </tr>\n",
       "  </tbody>\n",
       "</table>\n",
       "</div>"
      ],
      "text/plain": [
       "                        customer_id  time                          offer_id  \\\n",
       "0  78afa995795e4d85b5d9ceeca43f5fef     0  9b98b8c7a33c4b65b9aebfe6a799e6d9   \n",
       "1  a03223e636434f42ac4c3df47e8bac43     0  0b1e1539f2cc45b7b9fa7c272da2e1d7   \n",
       "2  e2127556f4f64592b11af22de27a7932     0  2906b810c7d4411798c6938adc9daaa5   \n",
       "3  8ec6ce2a7e7949b1bf142def7d0e0586     0  fafdcd668e3743c1bb461111dcafc2a4   \n",
       "4  68617ca6246f4fbc85e91a2a49552598     0  4d5c57ea9a6940dd891ad53e9dbe8da0   \n",
       "\n",
       "   days  offer_received  offer_viewed  transaction  offer_completed  reward  \\\n",
       "0     1               1             0            0                0    0.00   \n",
       "1     1               1             0            0                0    0.00   \n",
       "2     1               1             0            0                0    0.00   \n",
       "3     1               1             0            0                0    0.00   \n",
       "4     1               1             0            0                0    0.00   \n",
       "\n",
       "  offer_type  duration  max_offer_day  \n",
       "0       bogo      7.00           8.00  \n",
       "1   discount     10.00          11.00  \n",
       "2   discount      7.00           8.00  \n",
       "3   discount     10.00          11.00  \n",
       "4       bogo      5.00           6.00  "
      ]
     },
     "execution_count": 82,
     "metadata": {},
     "output_type": "execute_result"
    }
   ],
   "source": [
    "# Then, I multiply the days column with event columns: 'offer_received', 'offer_viewed', 'transaction', 'offer_completed'\n",
    "# These event columns now also explain which day does the event occur. \n",
    "event_cols = ['offer_received', 'offer_viewed', 'transaction', 'offer_completed']\n",
    "trans_offer_info[event_cols]= trans_offer_info[event_cols].multiply(trans_offer_info.days, axis=\"index\" )\n",
    "trans_offer_info.head()"
   ]
  },
  {
   "cell_type": "code",
   "execution_count": 83,
   "id": "6c492b96",
   "metadata": {},
   "outputs": [
    {
     "data": {
      "text/html": [
       "<div>\n",
       "<style scoped>\n",
       "    .dataframe tbody tr th:only-of-type {\n",
       "        vertical-align: middle;\n",
       "    }\n",
       "\n",
       "    .dataframe tbody tr th {\n",
       "        vertical-align: top;\n",
       "    }\n",
       "\n",
       "    .dataframe thead th {\n",
       "        text-align: right;\n",
       "    }\n",
       "</style>\n",
       "<table border=\"1\" class=\"dataframe\">\n",
       "  <thead>\n",
       "    <tr style=\"text-align: right;\">\n",
       "      <th></th>\n",
       "      <th>offer_received</th>\n",
       "      <th>offer_viewed</th>\n",
       "      <th>transaction</th>\n",
       "      <th>offer_completed</th>\n",
       "    </tr>\n",
       "  </thead>\n",
       "  <tbody>\n",
       "    <tr>\n",
       "      <th>0</th>\n",
       "      <td>1</td>\n",
       "      <td>0</td>\n",
       "      <td>0</td>\n",
       "      <td>0</td>\n",
       "    </tr>\n",
       "    <tr>\n",
       "      <th>1</th>\n",
       "      <td>1</td>\n",
       "      <td>0</td>\n",
       "      <td>0</td>\n",
       "      <td>0</td>\n",
       "    </tr>\n",
       "    <tr>\n",
       "      <th>2</th>\n",
       "      <td>1</td>\n",
       "      <td>0</td>\n",
       "      <td>0</td>\n",
       "      <td>0</td>\n",
       "    </tr>\n",
       "    <tr>\n",
       "      <th>3</th>\n",
       "      <td>1</td>\n",
       "      <td>0</td>\n",
       "      <td>0</td>\n",
       "      <td>0</td>\n",
       "    </tr>\n",
       "    <tr>\n",
       "      <th>4</th>\n",
       "      <td>1</td>\n",
       "      <td>0</td>\n",
       "      <td>0</td>\n",
       "      <td>0</td>\n",
       "    </tr>\n",
       "  </tbody>\n",
       "</table>\n",
       "</div>"
      ],
      "text/plain": [
       "   offer_received  offer_viewed  transaction  offer_completed\n",
       "0               1             0            0                0\n",
       "1               1             0            0                0\n",
       "2               1             0            0                0\n",
       "3               1             0            0                0\n",
       "4               1             0            0                0"
      ]
     },
     "execution_count": 83,
     "metadata": {},
     "output_type": "execute_result"
    }
   ],
   "source": [
    "trans_offer_info[event_cols].head()"
   ]
  },
  {
   "cell_type": "code",
   "execution_count": 84,
   "id": "ba9dad11",
   "metadata": {},
   "outputs": [],
   "source": [
    "trans_per_pp_days_offer = trans_offer_info.groupby(['customer_id',  'days', 'offer_id'], as_index= False)[['max_offer_day', 'offer_received', 'offer_viewed', 'transaction', 'offer_completed']].max()"
   ]
  },
  {
   "cell_type": "code",
   "execution_count": 85,
   "id": "a9492167",
   "metadata": {},
   "outputs": [],
   "source": [
    "# I groupped the transaction dataframe by Customer_id, days, and offer_id.\n",
    "# The following dataframe (trans_per_pp_days_offer) represents transaction histories per customers, per days, per offers."
   ]
  },
  {
   "cell_type": "code",
   "execution_count": 86,
   "id": "c0103782",
   "metadata": {},
   "outputs": [
    {
     "data": {
      "text/plain": [
       "0.00      230257\n",
       "76.00       5161\n",
       "104.00      5137\n",
       "36.00       5135\n",
       "64.00       5084\n",
       "92.00       5081\n",
       "8.00        5015\n",
       "90.00       2615\n",
       "11.00       2615\n",
       "67.00       2565\n",
       "107.00      2558\n",
       "74.00       2558\n",
       "95.00       2541\n",
       "62.00       2527\n",
       "34.00       2503\n",
       "39.00       2495\n",
       "79.00       2491\n",
       "6.00        2481\n",
       "102.00      2480\n",
       "100.00      1295\n",
       "101.00      1295\n",
       "72.00       1293\n",
       "61.00       1279\n",
       "73.00       1275\n",
       "5.00        1273\n",
       "32.00       1270\n",
       "33.00       1266\n",
       "4.00        1266\n",
       "60.00       1256\n",
       "88.00       1238\n",
       "89.00       1229\n",
       "Name: max_offer_day, dtype: int64"
      ]
     },
     "execution_count": 86,
     "metadata": {},
     "output_type": "execute_result"
    }
   ],
   "source": [
    "trans_offer_info['max_offer_day'].value_counts()"
   ]
  },
  {
   "cell_type": "code",
   "execution_count": 87,
   "id": "0d153195",
   "metadata": {},
   "outputs": [
    {
     "data": {
      "text/plain": [
       "                                    138953\n",
       "fafdcd668e3743c1bb461111dcafc2a4     20241\n",
       "2298d6c36e964ae4a3e7e9706d1fb8c2     20139\n",
       "f19421c1d4aa40978ebb69ca19b0e20d     19131\n",
       "4d5c57ea9a6940dd891ad53e9dbe8da0     18222\n",
       "ae264e3637204a6fb9bb56bc8210ddfd     18062\n",
       "9b98b8c7a33c4b65b9aebfe6a799e6d9     16202\n",
       "2906b810c7d4411798c6938adc9daaa5     15767\n",
       "5a8bc65990b245e5a138643cd4eb9837     14305\n",
       "0b1e1539f2cc45b7b9fa7c272da2e1d7     13751\n",
       "3f207df678b143eea3cee63160fa8bed     11761\n",
       "Name: offer_id, dtype: int64"
      ]
     },
     "execution_count": 87,
     "metadata": {},
     "output_type": "execute_result"
    }
   ],
   "source": [
    "trans_offer_info['offer_id'].value_counts()"
   ]
  },
  {
   "cell_type": "code",
   "execution_count": 88,
   "id": "0156b7e4",
   "metadata": {},
   "outputs": [],
   "source": [
    "# Replace the 0s in 'max_offer_day' column with np. NaNs. \n",
    "trans_per_pp_days_offer_v1  = trans_per_pp_days_offer.replace( {'max_offer_day': 0.00, 'offer_id':''}, np.NaN)"
   ]
  },
  {
   "cell_type": "code",
   "execution_count": 89,
   "id": "c9a835cf",
   "metadata": {},
   "outputs": [],
   "source": [
    "trans_per_pp_days_offer_v1.fillna(method='ffill',inplace= True)"
   ]
  },
  {
   "cell_type": "code",
   "execution_count": 90,
   "id": "c205b45e",
   "metadata": {},
   "outputs": [
    {
     "data": {
      "text/html": [
       "<div>\n",
       "<style scoped>\n",
       "    .dataframe tbody tr th:only-of-type {\n",
       "        vertical-align: middle;\n",
       "    }\n",
       "\n",
       "    .dataframe tbody tr th {\n",
       "        vertical-align: top;\n",
       "    }\n",
       "\n",
       "    .dataframe thead th {\n",
       "        text-align: right;\n",
       "    }\n",
       "</style>\n",
       "<table border=\"1\" class=\"dataframe\">\n",
       "  <thead>\n",
       "    <tr style=\"text-align: right;\">\n",
       "      <th></th>\n",
       "      <th>customer_id</th>\n",
       "      <th>days</th>\n",
       "      <th>offer_id</th>\n",
       "      <th>max_offer_day</th>\n",
       "      <th>offer_received</th>\n",
       "      <th>offer_viewed</th>\n",
       "      <th>transaction</th>\n",
       "      <th>offer_completed</th>\n",
       "    </tr>\n",
       "  </thead>\n",
       "  <tbody>\n",
       "    <tr>\n",
       "      <th>0</th>\n",
       "      <td>0009655768c64bdeb2e877511632db8f</td>\n",
       "      <td>29</td>\n",
       "      <td>5a8bc65990b245e5a138643cd4eb9837</td>\n",
       "      <td>32.00</td>\n",
       "      <td>29</td>\n",
       "      <td>0</td>\n",
       "      <td>0</td>\n",
       "      <td>0</td>\n",
       "    </tr>\n",
       "    <tr>\n",
       "      <th>1</th>\n",
       "      <td>0009655768c64bdeb2e877511632db8f</td>\n",
       "      <td>33</td>\n",
       "      <td>5a8bc65990b245e5a138643cd4eb9837</td>\n",
       "      <td>32.00</td>\n",
       "      <td>0</td>\n",
       "      <td>33</td>\n",
       "      <td>0</td>\n",
       "      <td>0</td>\n",
       "    </tr>\n",
       "    <tr>\n",
       "      <th>2</th>\n",
       "      <td>0009655768c64bdeb2e877511632db8f</td>\n",
       "      <td>39</td>\n",
       "      <td>5a8bc65990b245e5a138643cd4eb9837</td>\n",
       "      <td>32.00</td>\n",
       "      <td>0</td>\n",
       "      <td>0</td>\n",
       "      <td>39</td>\n",
       "      <td>0</td>\n",
       "    </tr>\n",
       "    <tr>\n",
       "      <th>3</th>\n",
       "      <td>0009655768c64bdeb2e877511632db8f</td>\n",
       "      <td>57</td>\n",
       "      <td>3f207df678b143eea3cee63160fa8bed</td>\n",
       "      <td>61.00</td>\n",
       "      <td>57</td>\n",
       "      <td>0</td>\n",
       "      <td>0</td>\n",
       "      <td>0</td>\n",
       "    </tr>\n",
       "    <tr>\n",
       "      <th>4</th>\n",
       "      <td>0009655768c64bdeb2e877511632db8f</td>\n",
       "      <td>63</td>\n",
       "      <td>3f207df678b143eea3cee63160fa8bed</td>\n",
       "      <td>61.00</td>\n",
       "      <td>0</td>\n",
       "      <td>63</td>\n",
       "      <td>0</td>\n",
       "      <td>0</td>\n",
       "    </tr>\n",
       "  </tbody>\n",
       "</table>\n",
       "</div>"
      ],
      "text/plain": [
       "                        customer_id  days                          offer_id  \\\n",
       "0  0009655768c64bdeb2e877511632db8f    29  5a8bc65990b245e5a138643cd4eb9837   \n",
       "1  0009655768c64bdeb2e877511632db8f    33  5a8bc65990b245e5a138643cd4eb9837   \n",
       "2  0009655768c64bdeb2e877511632db8f    39  5a8bc65990b245e5a138643cd4eb9837   \n",
       "3  0009655768c64bdeb2e877511632db8f    57  3f207df678b143eea3cee63160fa8bed   \n",
       "4  0009655768c64bdeb2e877511632db8f    63  3f207df678b143eea3cee63160fa8bed   \n",
       "\n",
       "   max_offer_day  offer_received  offer_viewed  transaction  offer_completed  \n",
       "0          32.00              29             0            0                0  \n",
       "1          32.00               0            33            0                0  \n",
       "2          32.00               0             0           39                0  \n",
       "3          61.00              57             0            0                0  \n",
       "4          61.00               0            63            0                0  "
      ]
     },
     "execution_count": 90,
     "metadata": {},
     "output_type": "execute_result"
    }
   ],
   "source": [
    "trans_per_pp_days_offer_v1.head()"
   ]
  },
  {
   "cell_type": "code",
   "execution_count": 91,
   "id": "d60a600c",
   "metadata": {},
   "outputs": [
    {
     "data": {
      "text/plain": [
       "(289408, 8)"
      ]
     },
     "execution_count": 91,
     "metadata": {},
     "output_type": "execute_result"
    }
   ],
   "source": [
    "trans_per_pp_days_offer_v1.shape"
   ]
  },
  {
   "cell_type": "code",
   "execution_count": 92,
   "id": "9d86be4a",
   "metadata": {},
   "outputs": [],
   "source": [
    "#checkpoints\n",
    "trans_per_event = trans_per_pp_days_offer_v1.copy()"
   ]
  },
  {
   "cell_type": "code",
   "execution_count": 93,
   "id": "f0816f1a",
   "metadata": {},
   "outputs": [],
   "source": [
    "# To receive an offer always occur before max_offer_day \n",
    "trans_per_event = trans_per_event.query('offer_received ==0 ')\n",
    "trans_per_event['event_sum'] = trans_per_event[event_cols].sum(axis=1)"
   ]
  },
  {
   "cell_type": "code",
   "execution_count": 94,
   "id": "be871355",
   "metadata": {},
   "outputs": [
    {
     "data": {
      "text/html": [
       "<div>\n",
       "<style scoped>\n",
       "    .dataframe tbody tr th:only-of-type {\n",
       "        vertical-align: middle;\n",
       "    }\n",
       "\n",
       "    .dataframe tbody tr th {\n",
       "        vertical-align: top;\n",
       "    }\n",
       "\n",
       "    .dataframe thead th {\n",
       "        text-align: right;\n",
       "    }\n",
       "</style>\n",
       "<table border=\"1\" class=\"dataframe\">\n",
       "  <thead>\n",
       "    <tr style=\"text-align: right;\">\n",
       "      <th></th>\n",
       "      <th>customer_id</th>\n",
       "      <th>days</th>\n",
       "      <th>offer_id</th>\n",
       "      <th>max_offer_day</th>\n",
       "      <th>offer_received</th>\n",
       "      <th>offer_viewed</th>\n",
       "      <th>transaction</th>\n",
       "      <th>offer_completed</th>\n",
       "      <th>event_sum</th>\n",
       "    </tr>\n",
       "  </thead>\n",
       "  <tbody>\n",
       "    <tr>\n",
       "      <th>1</th>\n",
       "      <td>0009655768c64bdeb2e877511632db8f</td>\n",
       "      <td>33</td>\n",
       "      <td>5a8bc65990b245e5a138643cd4eb9837</td>\n",
       "      <td>32.00</td>\n",
       "      <td>0</td>\n",
       "      <td>33</td>\n",
       "      <td>0</td>\n",
       "      <td>0</td>\n",
       "      <td>33</td>\n",
       "    </tr>\n",
       "    <tr>\n",
       "      <th>2</th>\n",
       "      <td>0009655768c64bdeb2e877511632db8f</td>\n",
       "      <td>39</td>\n",
       "      <td>5a8bc65990b245e5a138643cd4eb9837</td>\n",
       "      <td>32.00</td>\n",
       "      <td>0</td>\n",
       "      <td>0</td>\n",
       "      <td>39</td>\n",
       "      <td>0</td>\n",
       "      <td>39</td>\n",
       "    </tr>\n",
       "    <tr>\n",
       "      <th>4</th>\n",
       "      <td>0009655768c64bdeb2e877511632db8f</td>\n",
       "      <td>63</td>\n",
       "      <td>3f207df678b143eea3cee63160fa8bed</td>\n",
       "      <td>61.00</td>\n",
       "      <td>0</td>\n",
       "      <td>63</td>\n",
       "      <td>0</td>\n",
       "      <td>0</td>\n",
       "      <td>63</td>\n",
       "    </tr>\n",
       "    <tr>\n",
       "      <th>6</th>\n",
       "      <td>0009655768c64bdeb2e877511632db8f</td>\n",
       "      <td>70</td>\n",
       "      <td>f19421c1d4aa40978ebb69ca19b0e20d</td>\n",
       "      <td>74.00</td>\n",
       "      <td>0</td>\n",
       "      <td>0</td>\n",
       "      <td>70</td>\n",
       "      <td>0</td>\n",
       "      <td>70</td>\n",
       "    </tr>\n",
       "    <tr>\n",
       "      <th>7</th>\n",
       "      <td>0009655768c64bdeb2e877511632db8f</td>\n",
       "      <td>70</td>\n",
       "      <td>f19421c1d4aa40978ebb69ca19b0e20d</td>\n",
       "      <td>74.00</td>\n",
       "      <td>0</td>\n",
       "      <td>0</td>\n",
       "      <td>0</td>\n",
       "      <td>70</td>\n",
       "      <td>70</td>\n",
       "    </tr>\n",
       "  </tbody>\n",
       "</table>\n",
       "</div>"
      ],
      "text/plain": [
       "                        customer_id  days                          offer_id  \\\n",
       "1  0009655768c64bdeb2e877511632db8f    33  5a8bc65990b245e5a138643cd4eb9837   \n",
       "2  0009655768c64bdeb2e877511632db8f    39  5a8bc65990b245e5a138643cd4eb9837   \n",
       "4  0009655768c64bdeb2e877511632db8f    63  3f207df678b143eea3cee63160fa8bed   \n",
       "6  0009655768c64bdeb2e877511632db8f    70  f19421c1d4aa40978ebb69ca19b0e20d   \n",
       "7  0009655768c64bdeb2e877511632db8f    70  f19421c1d4aa40978ebb69ca19b0e20d   \n",
       "\n",
       "   max_offer_day  offer_received  offer_viewed  transaction  offer_completed  \\\n",
       "1          32.00               0            33            0                0   \n",
       "2          32.00               0             0           39                0   \n",
       "4          61.00               0            63            0                0   \n",
       "6          74.00               0             0           70                0   \n",
       "7          74.00               0             0            0               70   \n",
       "\n",
       "   event_sum  \n",
       "1         33  \n",
       "2         39  \n",
       "4         63  \n",
       "6         70  \n",
       "7         70  "
      ]
     },
     "execution_count": 94,
     "metadata": {},
     "output_type": "execute_result"
    }
   ],
   "source": [
    "trans_per_event.head()"
   ]
  },
  {
   "cell_type": "code",
   "execution_count": 95,
   "id": "477efc6a",
   "metadata": {},
   "outputs": [],
   "source": [
    "# I created a \"desirable\" column: meaning that it is a desirable event, when the event occur before the max_offer_day\n",
    "trans_per_event['desirable'] = trans_per_event['max_offer_day'] - trans_per_event.event_sum"
   ]
  },
  {
   "cell_type": "code",
   "execution_count": 96,
   "id": "40832313",
   "metadata": {},
   "outputs": [],
   "source": [
    "# A desirable event must have positive value. \n",
    "desirable_event = trans_per_event.query('desirable >=0 ')"
   ]
  },
  {
   "cell_type": "code",
   "execution_count": 97,
   "id": "b22cbf57",
   "metadata": {},
   "outputs": [],
   "source": [
    "# groupped all transactions by customers, offer_id, and max_offer_days\n",
    "desirable_event_per_offer = desirable_event.groupby(['customer_id','offer_id','max_offer_day'], as_index = False).max()"
   ]
  },
  {
   "cell_type": "code",
   "execution_count": 98,
   "id": "e605df90",
   "metadata": {},
   "outputs": [],
   "source": [
    "# One more condition to be desirable is that a customer should view the offer and purchase the product after received the offer. \n",
    "desirable_event_per_offer_mod = desirable_event_per_offer.query('offer_viewed > 0 & transaction > 0')"
   ]
  },
  {
   "cell_type": "code",
   "execution_count": 99,
   "id": "a7546589",
   "metadata": {},
   "outputs": [],
   "source": [
    "# Finally, I combined the dataframe with each offer name from offer information dataframe. \n",
    "event_name_df = desirable_event_per_offer_mod.merge(offer_info_df[['offer_id', 'offer_type']],left_on = 'offer_id', right_on = 'offer_id', how='left')"
   ]
  },
  {
   "cell_type": "code",
   "execution_count": 100,
   "id": "dca1df2f",
   "metadata": {},
   "outputs": [
    {
     "data": {
      "text/html": [
       "<div>\n",
       "<style scoped>\n",
       "    .dataframe tbody tr th:only-of-type {\n",
       "        vertical-align: middle;\n",
       "    }\n",
       "\n",
       "    .dataframe tbody tr th {\n",
       "        vertical-align: top;\n",
       "    }\n",
       "\n",
       "    .dataframe thead th {\n",
       "        text-align: right;\n",
       "    }\n",
       "</style>\n",
       "<table border=\"1\" class=\"dataframe\">\n",
       "  <thead>\n",
       "    <tr style=\"text-align: right;\">\n",
       "      <th></th>\n",
       "      <th>customer_id</th>\n",
       "      <th>offer_id</th>\n",
       "      <th>max_offer_day</th>\n",
       "      <th>days</th>\n",
       "      <th>offer_received</th>\n",
       "      <th>offer_viewed</th>\n",
       "      <th>transaction</th>\n",
       "      <th>offer_completed</th>\n",
       "      <th>event_sum</th>\n",
       "      <th>desirable</th>\n",
       "      <th>offer_type</th>\n",
       "    </tr>\n",
       "  </thead>\n",
       "  <tbody>\n",
       "    <tr>\n",
       "      <th>0</th>\n",
       "      <td>0009655768c64bdeb2e877511632db8f</td>\n",
       "      <td>fafdcd668e3743c1bb461111dcafc2a4</td>\n",
       "      <td>95.00</td>\n",
       "      <td>93</td>\n",
       "      <td>0</td>\n",
       "      <td>91</td>\n",
       "      <td>93</td>\n",
       "      <td>89</td>\n",
       "      <td>93</td>\n",
       "      <td>6.00</td>\n",
       "      <td>discount</td>\n",
       "    </tr>\n",
       "    <tr>\n",
       "      <th>1</th>\n",
       "      <td>0020c2b971eb4e9188eac86d93036a77</td>\n",
       "      <td>fafdcd668e3743c1bb461111dcafc2a4</td>\n",
       "      <td>11.00</td>\n",
       "      <td>10</td>\n",
       "      <td>0</td>\n",
       "      <td>3</td>\n",
       "      <td>10</td>\n",
       "      <td>10</td>\n",
       "      <td>10</td>\n",
       "      <td>8.00</td>\n",
       "      <td>discount</td>\n",
       "    </tr>\n",
       "    <tr>\n",
       "      <th>2</th>\n",
       "      <td>003d66b6608740288d6cc97a6903f4f0</td>\n",
       "      <td>fafdcd668e3743c1bb461111dcafc2a4</td>\n",
       "      <td>79.00</td>\n",
       "      <td>79</td>\n",
       "      <td>0</td>\n",
       "      <td>71</td>\n",
       "      <td>79</td>\n",
       "      <td>0</td>\n",
       "      <td>79</td>\n",
       "      <td>8.00</td>\n",
       "      <td>discount</td>\n",
       "    </tr>\n",
       "    <tr>\n",
       "      <th>3</th>\n",
       "      <td>00426fe3ffde4c6b9cb9ad6d077a13ea</td>\n",
       "      <td>fafdcd668e3743c1bb461111dcafc2a4</td>\n",
       "      <td>39.00</td>\n",
       "      <td>37</td>\n",
       "      <td>0</td>\n",
       "      <td>32</td>\n",
       "      <td>37</td>\n",
       "      <td>0</td>\n",
       "      <td>37</td>\n",
       "      <td>7.00</td>\n",
       "      <td>discount</td>\n",
       "    </tr>\n",
       "    <tr>\n",
       "      <th>4</th>\n",
       "      <td>004b041fbfe44859945daa2c7f79ee64</td>\n",
       "      <td>f19421c1d4aa40978ebb69ca19b0e20d</td>\n",
       "      <td>90.00</td>\n",
       "      <td>90</td>\n",
       "      <td>0</td>\n",
       "      <td>86</td>\n",
       "      <td>90</td>\n",
       "      <td>90</td>\n",
       "      <td>90</td>\n",
       "      <td>4.00</td>\n",
       "      <td>bogo</td>\n",
       "    </tr>\n",
       "  </tbody>\n",
       "</table>\n",
       "</div>"
      ],
      "text/plain": [
       "                        customer_id                          offer_id  \\\n",
       "0  0009655768c64bdeb2e877511632db8f  fafdcd668e3743c1bb461111dcafc2a4   \n",
       "1  0020c2b971eb4e9188eac86d93036a77  fafdcd668e3743c1bb461111dcafc2a4   \n",
       "2  003d66b6608740288d6cc97a6903f4f0  fafdcd668e3743c1bb461111dcafc2a4   \n",
       "3  00426fe3ffde4c6b9cb9ad6d077a13ea  fafdcd668e3743c1bb461111dcafc2a4   \n",
       "4  004b041fbfe44859945daa2c7f79ee64  f19421c1d4aa40978ebb69ca19b0e20d   \n",
       "\n",
       "   max_offer_day  days  offer_received  offer_viewed  transaction  \\\n",
       "0          95.00    93               0            91           93   \n",
       "1          11.00    10               0             3           10   \n",
       "2          79.00    79               0            71           79   \n",
       "3          39.00    37               0            32           37   \n",
       "4          90.00    90               0            86           90   \n",
       "\n",
       "   offer_completed  event_sum  desirable offer_type  \n",
       "0               89         93       6.00   discount  \n",
       "1               10         10       8.00   discount  \n",
       "2                0         79       8.00   discount  \n",
       "3                0         37       7.00   discount  \n",
       "4               90         90       4.00       bogo  "
      ]
     },
     "execution_count": 100,
     "metadata": {},
     "output_type": "execute_result"
    }
   ],
   "source": [
    "event_name_df.head()"
   ]
  },
  {
   "cell_type": "code",
   "execution_count": 101,
   "id": "32e069c8",
   "metadata": {},
   "outputs": [
    {
     "data": {
      "text/plain": [
       "9042"
      ]
     },
     "execution_count": 101,
     "metadata": {},
     "output_type": "execute_result"
    }
   ],
   "source": [
    "event_name_df.customer_id.nunique()"
   ]
  },
  {
   "cell_type": "code",
   "execution_count": 102,
   "id": "8e559bd4",
   "metadata": {},
   "outputs": [
    {
     "data": {
      "text/plain": [
       "discount         6468\n",
       "bogo             5370\n",
       "informational    1187\n",
       "Name: offer_type, dtype: int64"
      ]
     },
     "execution_count": 102,
     "metadata": {},
     "output_type": "execute_result"
    }
   ],
   "source": [
    "event_name_df.offer_type.value_counts()"
   ]
  },
  {
   "cell_type": "code",
   "execution_count": 103,
   "id": "38b20cb0",
   "metadata": {},
   "outputs": [],
   "source": [
    "#filtered the data points with 'offer_received' event\n",
    "offers_received_mod = trans_per_pp_days_offer_v1.query('offer_received > 0')[['customer_id','days','offer_id','max_offer_day']]"
   ]
  },
  {
   "cell_type": "code",
   "execution_count": 104,
   "id": "47483fda",
   "metadata": {},
   "outputs": [
    {
     "data": {
      "text/html": [
       "<div>\n",
       "<style scoped>\n",
       "    .dataframe tbody tr th:only-of-type {\n",
       "        vertical-align: middle;\n",
       "    }\n",
       "\n",
       "    .dataframe tbody tr th {\n",
       "        vertical-align: top;\n",
       "    }\n",
       "\n",
       "    .dataframe thead th {\n",
       "        text-align: right;\n",
       "    }\n",
       "</style>\n",
       "<table border=\"1\" class=\"dataframe\">\n",
       "  <thead>\n",
       "    <tr style=\"text-align: right;\">\n",
       "      <th></th>\n",
       "      <th>customer_id</th>\n",
       "      <th>days</th>\n",
       "      <th>offer_id</th>\n",
       "      <th>max_offer_day</th>\n",
       "      <th>offer_type</th>\n",
       "    </tr>\n",
       "  </thead>\n",
       "  <tbody>\n",
       "    <tr>\n",
       "      <th>0</th>\n",
       "      <td>0009655768c64bdeb2e877511632db8f</td>\n",
       "      <td>29</td>\n",
       "      <td>5a8bc65990b245e5a138643cd4eb9837</td>\n",
       "      <td>32.00</td>\n",
       "      <td>informational</td>\n",
       "    </tr>\n",
       "    <tr>\n",
       "      <th>1</th>\n",
       "      <td>0009655768c64bdeb2e877511632db8f</td>\n",
       "      <td>57</td>\n",
       "      <td>3f207df678b143eea3cee63160fa8bed</td>\n",
       "      <td>61.00</td>\n",
       "      <td>informational</td>\n",
       "    </tr>\n",
       "    <tr>\n",
       "      <th>2</th>\n",
       "      <td>0009655768c64bdeb2e877511632db8f</td>\n",
       "      <td>69</td>\n",
       "      <td>f19421c1d4aa40978ebb69ca19b0e20d</td>\n",
       "      <td>74.00</td>\n",
       "      <td>bogo</td>\n",
       "    </tr>\n",
       "    <tr>\n",
       "      <th>3</th>\n",
       "      <td>0009655768c64bdeb2e877511632db8f</td>\n",
       "      <td>85</td>\n",
       "      <td>fafdcd668e3743c1bb461111dcafc2a4</td>\n",
       "      <td>95.00</td>\n",
       "      <td>discount</td>\n",
       "    </tr>\n",
       "    <tr>\n",
       "      <th>4</th>\n",
       "      <td>0009655768c64bdeb2e877511632db8f</td>\n",
       "      <td>97</td>\n",
       "      <td>2906b810c7d4411798c6938adc9daaa5</td>\n",
       "      <td>104.00</td>\n",
       "      <td>discount</td>\n",
       "    </tr>\n",
       "  </tbody>\n",
       "</table>\n",
       "</div>"
      ],
      "text/plain": [
       "                        customer_id  days                          offer_id  \\\n",
       "0  0009655768c64bdeb2e877511632db8f    29  5a8bc65990b245e5a138643cd4eb9837   \n",
       "1  0009655768c64bdeb2e877511632db8f    57  3f207df678b143eea3cee63160fa8bed   \n",
       "2  0009655768c64bdeb2e877511632db8f    69  f19421c1d4aa40978ebb69ca19b0e20d   \n",
       "3  0009655768c64bdeb2e877511632db8f    85  fafdcd668e3743c1bb461111dcafc2a4   \n",
       "4  0009655768c64bdeb2e877511632db8f    97  2906b810c7d4411798c6938adc9daaa5   \n",
       "\n",
       "   max_offer_day     offer_type  \n",
       "0          32.00  informational  \n",
       "1          61.00  informational  \n",
       "2          74.00           bogo  \n",
       "3          95.00       discount  \n",
       "4         104.00       discount  "
      ]
     },
     "execution_count": 104,
     "metadata": {},
     "output_type": "execute_result"
    }
   ],
   "source": [
    "total_offers = offers_received_mod.merge(offers_received[['customer_id','days','offer_id','offer_type']],left_on = ['customer_id','days','offer_id'],right_on = ['customer_id','days','offer_id'],how='left')\n",
    "total_offers.head()"
   ]
  },
  {
   "cell_type": "code",
   "execution_count": 105,
   "id": "46fdc4ba",
   "metadata": {},
   "outputs": [
    {
     "data": {
      "text/html": [
       "<div>\n",
       "<style scoped>\n",
       "    .dataframe tbody tr th:only-of-type {\n",
       "        vertical-align: middle;\n",
       "    }\n",
       "\n",
       "    .dataframe tbody tr th {\n",
       "        vertical-align: top;\n",
       "    }\n",
       "\n",
       "    .dataframe thead th {\n",
       "        text-align: right;\n",
       "    }\n",
       "</style>\n",
       "<table border=\"1\" class=\"dataframe\">\n",
       "  <thead>\n",
       "    <tr style=\"text-align: right;\">\n",
       "      <th></th>\n",
       "      <th>customer_id</th>\n",
       "      <th>days</th>\n",
       "      <th>offer_id</th>\n",
       "      <th>max_offer_day</th>\n",
       "      <th>offer_type</th>\n",
       "    </tr>\n",
       "  </thead>\n",
       "  <tbody>\n",
       "    <tr>\n",
       "      <th>76266</th>\n",
       "      <td>fff8957ea8b240a6b5e634b6ee8eafcf</td>\n",
       "      <td>97</td>\n",
       "      <td>4d5c57ea9a6940dd891ad53e9dbe8da0</td>\n",
       "      <td>102.00</td>\n",
       "      <td>bogo</td>\n",
       "    </tr>\n",
       "    <tr>\n",
       "      <th>76267</th>\n",
       "      <td>fffad4f4828548d1b5583907f2e9906b</td>\n",
       "      <td>1</td>\n",
       "      <td>f19421c1d4aa40978ebb69ca19b0e20d</td>\n",
       "      <td>6.00</td>\n",
       "      <td>bogo</td>\n",
       "    </tr>\n",
       "    <tr>\n",
       "      <th>76269</th>\n",
       "      <td>fffad4f4828548d1b5583907f2e9906b</td>\n",
       "      <td>69</td>\n",
       "      <td>f19421c1d4aa40978ebb69ca19b0e20d</td>\n",
       "      <td>74.00</td>\n",
       "      <td>bogo</td>\n",
       "    </tr>\n",
       "    <tr>\n",
       "      <th>76270</th>\n",
       "      <td>fffad4f4828548d1b5583907f2e9906b</td>\n",
       "      <td>97</td>\n",
       "      <td>9b98b8c7a33c4b65b9aebfe6a799e6d9</td>\n",
       "      <td>104.00</td>\n",
       "      <td>bogo</td>\n",
       "    </tr>\n",
       "    <tr>\n",
       "      <th>76275</th>\n",
       "      <td>ffff82501cea40309d5fdd7edcca4a07</td>\n",
       "      <td>85</td>\n",
       "      <td>9b98b8c7a33c4b65b9aebfe6a799e6d9</td>\n",
       "      <td>92.00</td>\n",
       "      <td>bogo</td>\n",
       "    </tr>\n",
       "  </tbody>\n",
       "</table>\n",
       "</div>"
      ],
      "text/plain": [
       "                            customer_id  days  \\\n",
       "76266  fff8957ea8b240a6b5e634b6ee8eafcf    97   \n",
       "76267  fffad4f4828548d1b5583907f2e9906b     1   \n",
       "76269  fffad4f4828548d1b5583907f2e9906b    69   \n",
       "76270  fffad4f4828548d1b5583907f2e9906b    97   \n",
       "76275  ffff82501cea40309d5fdd7edcca4a07    85   \n",
       "\n",
       "                               offer_id  max_offer_day offer_type  \n",
       "76266  4d5c57ea9a6940dd891ad53e9dbe8da0         102.00       bogo  \n",
       "76267  f19421c1d4aa40978ebb69ca19b0e20d           6.00       bogo  \n",
       "76269  f19421c1d4aa40978ebb69ca19b0e20d          74.00       bogo  \n",
       "76270  9b98b8c7a33c4b65b9aebfe6a799e6d9         104.00       bogo  \n",
       "76275  9b98b8c7a33c4b65b9aebfe6a799e6d9          92.00       bogo  "
      ]
     },
     "execution_count": 105,
     "metadata": {},
     "output_type": "execute_result"
    }
   ],
   "source": [
    "total_issued_bogo = total_offers.query('offer_type ==\"bogo\"')\n",
    "total_issued_bogo.tail()"
   ]
  },
  {
   "cell_type": "code",
   "execution_count": 106,
   "id": "fbdc85b4",
   "metadata": {},
   "outputs": [
    {
     "data": {
      "text/html": [
       "<div>\n",
       "<style scoped>\n",
       "    .dataframe tbody tr th:only-of-type {\n",
       "        vertical-align: middle;\n",
       "    }\n",
       "\n",
       "    .dataframe tbody tr th {\n",
       "        vertical-align: top;\n",
       "    }\n",
       "\n",
       "    .dataframe thead th {\n",
       "        text-align: right;\n",
       "    }\n",
       "</style>\n",
       "<table border=\"1\" class=\"dataframe\">\n",
       "  <thead>\n",
       "    <tr style=\"text-align: right;\">\n",
       "      <th></th>\n",
       "      <th>customer_id</th>\n",
       "      <th>days</th>\n",
       "      <th>offer_id</th>\n",
       "      <th>max_offer_day</th>\n",
       "      <th>offer_type</th>\n",
       "    </tr>\n",
       "  </thead>\n",
       "  <tbody>\n",
       "    <tr>\n",
       "      <th>3</th>\n",
       "      <td>0009655768c64bdeb2e877511632db8f</td>\n",
       "      <td>85</td>\n",
       "      <td>fafdcd668e3743c1bb461111dcafc2a4</td>\n",
       "      <td>95.00</td>\n",
       "      <td>discount</td>\n",
       "    </tr>\n",
       "    <tr>\n",
       "      <th>4</th>\n",
       "      <td>0009655768c64bdeb2e877511632db8f</td>\n",
       "      <td>97</td>\n",
       "      <td>2906b810c7d4411798c6938adc9daaa5</td>\n",
       "      <td>104.00</td>\n",
       "      <td>discount</td>\n",
       "    </tr>\n",
       "    <tr>\n",
       "      <th>8</th>\n",
       "      <td>0011e0d4e6b944f998e987f904e8c1e5</td>\n",
       "      <td>29</td>\n",
       "      <td>2298d6c36e964ae4a3e7e9706d1fb8c2</td>\n",
       "      <td>36.00</td>\n",
       "      <td>discount</td>\n",
       "    </tr>\n",
       "    <tr>\n",
       "      <th>10</th>\n",
       "      <td>0011e0d4e6b944f998e987f904e8c1e5</td>\n",
       "      <td>69</td>\n",
       "      <td>0b1e1539f2cc45b7b9fa7c272da2e1d7</td>\n",
       "      <td>79.00</td>\n",
       "      <td>discount</td>\n",
       "    </tr>\n",
       "    <tr>\n",
       "      <th>12</th>\n",
       "      <td>0020c2b971eb4e9188eac86d93036a77</td>\n",
       "      <td>1</td>\n",
       "      <td>fafdcd668e3743c1bb461111dcafc2a4</td>\n",
       "      <td>11.00</td>\n",
       "      <td>discount</td>\n",
       "    </tr>\n",
       "  </tbody>\n",
       "</table>\n",
       "</div>"
      ],
      "text/plain": [
       "                         customer_id  days                          offer_id  \\\n",
       "3   0009655768c64bdeb2e877511632db8f    85  fafdcd668e3743c1bb461111dcafc2a4   \n",
       "4   0009655768c64bdeb2e877511632db8f    97  2906b810c7d4411798c6938adc9daaa5   \n",
       "8   0011e0d4e6b944f998e987f904e8c1e5    29  2298d6c36e964ae4a3e7e9706d1fb8c2   \n",
       "10  0011e0d4e6b944f998e987f904e8c1e5    69  0b1e1539f2cc45b7b9fa7c272da2e1d7   \n",
       "12  0020c2b971eb4e9188eac86d93036a77     1  fafdcd668e3743c1bb461111dcafc2a4   \n",
       "\n",
       "    max_offer_day offer_type  \n",
       "3           95.00   discount  \n",
       "4          104.00   discount  \n",
       "8           36.00   discount  \n",
       "10          79.00   discount  \n",
       "12          11.00   discount  "
      ]
     },
     "execution_count": 106,
     "metadata": {},
     "output_type": "execute_result"
    }
   ],
   "source": [
    "total_issued_disc = total_offers.query('offer_type ==\"discount\"')\n",
    "total_issued_disc.head()"
   ]
  },
  {
   "cell_type": "code",
   "execution_count": 107,
   "id": "9c4c9a0e",
   "metadata": {},
   "outputs": [
    {
     "data": {
      "text/html": [
       "<div>\n",
       "<style scoped>\n",
       "    .dataframe tbody tr th:only-of-type {\n",
       "        vertical-align: middle;\n",
       "    }\n",
       "\n",
       "    .dataframe tbody tr th {\n",
       "        vertical-align: top;\n",
       "    }\n",
       "\n",
       "    .dataframe thead th {\n",
       "        text-align: right;\n",
       "    }\n",
       "</style>\n",
       "<table border=\"1\" class=\"dataframe\">\n",
       "  <thead>\n",
       "    <tr style=\"text-align: right;\">\n",
       "      <th></th>\n",
       "      <th>customer_id</th>\n",
       "      <th>days</th>\n",
       "      <th>offer_id</th>\n",
       "      <th>max_offer_day</th>\n",
       "      <th>offer_type</th>\n",
       "    </tr>\n",
       "  </thead>\n",
       "  <tbody>\n",
       "    <tr>\n",
       "      <th>76246</th>\n",
       "      <td>fff0f0aac6c547b9b263080f09a5586a</td>\n",
       "      <td>97</td>\n",
       "      <td>3f207df678b143eea3cee63160fa8bed</td>\n",
       "      <td>101.00</td>\n",
       "      <td>informational</td>\n",
       "    </tr>\n",
       "    <tr>\n",
       "      <th>76255</th>\n",
       "      <td>fff3ba4757bd42088c044ca26d73817a</td>\n",
       "      <td>57</td>\n",
       "      <td>5a8bc65990b245e5a138643cd4eb9837</td>\n",
       "      <td>60.00</td>\n",
       "      <td>informational</td>\n",
       "    </tr>\n",
       "    <tr>\n",
       "      <th>76257</th>\n",
       "      <td>fff3ba4757bd42088c044ca26d73817a</td>\n",
       "      <td>85</td>\n",
       "      <td>5a8bc65990b245e5a138643cd4eb9837</td>\n",
       "      <td>88.00</td>\n",
       "      <td>informational</td>\n",
       "    </tr>\n",
       "    <tr>\n",
       "      <th>76265</th>\n",
       "      <td>fff8957ea8b240a6b5e634b6ee8eafcf</td>\n",
       "      <td>85</td>\n",
       "      <td>3f207df678b143eea3cee63160fa8bed</td>\n",
       "      <td>89.00</td>\n",
       "      <td>informational</td>\n",
       "    </tr>\n",
       "    <tr>\n",
       "      <th>76268</th>\n",
       "      <td>fffad4f4828548d1b5583907f2e9906b</td>\n",
       "      <td>29</td>\n",
       "      <td>5a8bc65990b245e5a138643cd4eb9837</td>\n",
       "      <td>32.00</td>\n",
       "      <td>informational</td>\n",
       "    </tr>\n",
       "  </tbody>\n",
       "</table>\n",
       "</div>"
      ],
      "text/plain": [
       "                            customer_id  days  \\\n",
       "76246  fff0f0aac6c547b9b263080f09a5586a    97   \n",
       "76255  fff3ba4757bd42088c044ca26d73817a    57   \n",
       "76257  fff3ba4757bd42088c044ca26d73817a    85   \n",
       "76265  fff8957ea8b240a6b5e634b6ee8eafcf    85   \n",
       "76268  fffad4f4828548d1b5583907f2e9906b    29   \n",
       "\n",
       "                               offer_id  max_offer_day     offer_type  \n",
       "76246  3f207df678b143eea3cee63160fa8bed         101.00  informational  \n",
       "76255  5a8bc65990b245e5a138643cd4eb9837          60.00  informational  \n",
       "76257  5a8bc65990b245e5a138643cd4eb9837          88.00  informational  \n",
       "76265  3f207df678b143eea3cee63160fa8bed          89.00  informational  \n",
       "76268  5a8bc65990b245e5a138643cd4eb9837          32.00  informational  "
      ]
     },
     "execution_count": 107,
     "metadata": {},
     "output_type": "execute_result"
    }
   ],
   "source": [
    "total_issued_info = total_offers.query('offer_type ==\"informational\"')\n",
    "total_issued_info.tail()"
   ]
  },
  {
   "cell_type": "code",
   "execution_count": 108,
   "id": "f0c7b83c",
   "metadata": {},
   "outputs": [
    {
     "data": {
      "text/plain": [
       "((30499, 5), (30543, 5), (15235, 5))"
      ]
     },
     "execution_count": 108,
     "metadata": {},
     "output_type": "execute_result"
    }
   ],
   "source": [
    "total_issued_bogo.shape, total_issued_disc.shape, total_issued_info.shape"
   ]
  },
  {
   "cell_type": "code",
   "execution_count": 109,
   "id": "cf6e8511",
   "metadata": {},
   "outputs": [],
   "source": [
    "def Classification_of_offers(total_offers, desirable_offer_df): \n",
    "    \n",
    "    desirable_offer_df['desirable_use'] = 'desirable'\n",
    "    total_offers_final = total_offers.merge(desirable_offer_df[['customer_id','offer_id','max_offer_day','desirable_use']],\n",
    "                      left_on = ['customer_id','max_offer_day','offer_id'],\n",
    "                      right_on =['customer_id','max_offer_day','offer_id'],\n",
    "                      how = 'left')\n",
    "    total_offers_final= total_offers_final.fillna('non-desirable')\n",
    "    \n",
    "    return total_offers_final"
   ]
  },
  {
   "cell_type": "code",
   "execution_count": 110,
   "id": "3ac71995",
   "metadata": {},
   "outputs": [
    {
     "data": {
      "text/html": [
       "<div>\n",
       "<style scoped>\n",
       "    .dataframe tbody tr th:only-of-type {\n",
       "        vertical-align: middle;\n",
       "    }\n",
       "\n",
       "    .dataframe tbody tr th {\n",
       "        vertical-align: top;\n",
       "    }\n",
       "\n",
       "    .dataframe thead th {\n",
       "        text-align: right;\n",
       "    }\n",
       "</style>\n",
       "<table border=\"1\" class=\"dataframe\">\n",
       "  <thead>\n",
       "    <tr style=\"text-align: right;\">\n",
       "      <th></th>\n",
       "      <th>customer_id</th>\n",
       "      <th>days</th>\n",
       "      <th>offer_id</th>\n",
       "      <th>max_offer_day</th>\n",
       "      <th>offer_type</th>\n",
       "      <th>desirable_use</th>\n",
       "    </tr>\n",
       "  </thead>\n",
       "  <tbody>\n",
       "    <tr>\n",
       "      <th>0</th>\n",
       "      <td>0009655768c64bdeb2e877511632db8f</td>\n",
       "      <td>29</td>\n",
       "      <td>5a8bc65990b245e5a138643cd4eb9837</td>\n",
       "      <td>32.00</td>\n",
       "      <td>informational</td>\n",
       "      <td>non-desirable</td>\n",
       "    </tr>\n",
       "    <tr>\n",
       "      <th>1</th>\n",
       "      <td>0009655768c64bdeb2e877511632db8f</td>\n",
       "      <td>57</td>\n",
       "      <td>3f207df678b143eea3cee63160fa8bed</td>\n",
       "      <td>61.00</td>\n",
       "      <td>informational</td>\n",
       "      <td>non-desirable</td>\n",
       "    </tr>\n",
       "    <tr>\n",
       "      <th>2</th>\n",
       "      <td>0009655768c64bdeb2e877511632db8f</td>\n",
       "      <td>69</td>\n",
       "      <td>f19421c1d4aa40978ebb69ca19b0e20d</td>\n",
       "      <td>74.00</td>\n",
       "      <td>bogo</td>\n",
       "      <td>non-desirable</td>\n",
       "    </tr>\n",
       "    <tr>\n",
       "      <th>3</th>\n",
       "      <td>0009655768c64bdeb2e877511632db8f</td>\n",
       "      <td>85</td>\n",
       "      <td>fafdcd668e3743c1bb461111dcafc2a4</td>\n",
       "      <td>95.00</td>\n",
       "      <td>discount</td>\n",
       "      <td>desirable</td>\n",
       "    </tr>\n",
       "    <tr>\n",
       "      <th>4</th>\n",
       "      <td>0009655768c64bdeb2e877511632db8f</td>\n",
       "      <td>97</td>\n",
       "      <td>2906b810c7d4411798c6938adc9daaa5</td>\n",
       "      <td>104.00</td>\n",
       "      <td>discount</td>\n",
       "      <td>non-desirable</td>\n",
       "    </tr>\n",
       "  </tbody>\n",
       "</table>\n",
       "</div>"
      ],
      "text/plain": [
       "                        customer_id  days                          offer_id  \\\n",
       "0  0009655768c64bdeb2e877511632db8f    29  5a8bc65990b245e5a138643cd4eb9837   \n",
       "1  0009655768c64bdeb2e877511632db8f    57  3f207df678b143eea3cee63160fa8bed   \n",
       "2  0009655768c64bdeb2e877511632db8f    69  f19421c1d4aa40978ebb69ca19b0e20d   \n",
       "3  0009655768c64bdeb2e877511632db8f    85  fafdcd668e3743c1bb461111dcafc2a4   \n",
       "4  0009655768c64bdeb2e877511632db8f    97  2906b810c7d4411798c6938adc9daaa5   \n",
       "\n",
       "   max_offer_day     offer_type  desirable_use  \n",
       "0          32.00  informational  non-desirable  \n",
       "1          61.00  informational  non-desirable  \n",
       "2          74.00           bogo  non-desirable  \n",
       "3          95.00       discount      desirable  \n",
       "4         104.00       discount  non-desirable  "
      ]
     },
     "execution_count": 110,
     "metadata": {},
     "output_type": "execute_result"
    }
   ],
   "source": [
    "Classification_of_offers(total_offers, event_name_df).head()"
   ]
  },
  {
   "cell_type": "code",
   "execution_count": 111,
   "id": "af1fc2bd",
   "metadata": {},
   "outputs": [
    {
     "data": {
      "text/html": [
       "<div>\n",
       "<style scoped>\n",
       "    .dataframe tbody tr th:only-of-type {\n",
       "        vertical-align: middle;\n",
       "    }\n",
       "\n",
       "    .dataframe tbody tr th {\n",
       "        vertical-align: top;\n",
       "    }\n",
       "\n",
       "    .dataframe thead th {\n",
       "        text-align: right;\n",
       "    }\n",
       "</style>\n",
       "<table border=\"1\" class=\"dataframe\">\n",
       "  <thead>\n",
       "    <tr style=\"text-align: right;\">\n",
       "      <th></th>\n",
       "      <th>customer_id</th>\n",
       "      <th>days</th>\n",
       "      <th>offer_id</th>\n",
       "      <th>max_offer_day</th>\n",
       "      <th>offer_type</th>\n",
       "      <th>desirable_use</th>\n",
       "    </tr>\n",
       "  </thead>\n",
       "  <tbody>\n",
       "    <tr>\n",
       "      <th>2</th>\n",
       "      <td>0009655768c64bdeb2e877511632db8f</td>\n",
       "      <td>69</td>\n",
       "      <td>f19421c1d4aa40978ebb69ca19b0e20d</td>\n",
       "      <td>74.00</td>\n",
       "      <td>bogo</td>\n",
       "      <td>non-desirable</td>\n",
       "    </tr>\n",
       "    <tr>\n",
       "      <th>5</th>\n",
       "      <td>00116118485d4dfda04fdbaba9a87b5c</td>\n",
       "      <td>29</td>\n",
       "      <td>f19421c1d4aa40978ebb69ca19b0e20d</td>\n",
       "      <td>34.00</td>\n",
       "      <td>bogo</td>\n",
       "      <td>non-desirable</td>\n",
       "    </tr>\n",
       "    <tr>\n",
       "      <th>6</th>\n",
       "      <td>00116118485d4dfda04fdbaba9a87b5c</td>\n",
       "      <td>97</td>\n",
       "      <td>f19421c1d4aa40978ebb69ca19b0e20d</td>\n",
       "      <td>102.00</td>\n",
       "      <td>bogo</td>\n",
       "      <td>non-desirable</td>\n",
       "    </tr>\n",
       "    <tr>\n",
       "      <th>11</th>\n",
       "      <td>0011e0d4e6b944f998e987f904e8c1e5</td>\n",
       "      <td>85</td>\n",
       "      <td>9b98b8c7a33c4b65b9aebfe6a799e6d9</td>\n",
       "      <td>92.00</td>\n",
       "      <td>bogo</td>\n",
       "      <td>non-desirable</td>\n",
       "    </tr>\n",
       "    <tr>\n",
       "      <th>13</th>\n",
       "      <td>0020c2b971eb4e9188eac86d93036a77</td>\n",
       "      <td>29</td>\n",
       "      <td>ae264e3637204a6fb9bb56bc8210ddfd</td>\n",
       "      <td>36.00</td>\n",
       "      <td>bogo</td>\n",
       "      <td>non-desirable</td>\n",
       "    </tr>\n",
       "  </tbody>\n",
       "</table>\n",
       "</div>"
      ],
      "text/plain": [
       "                         customer_id  days                          offer_id  \\\n",
       "2   0009655768c64bdeb2e877511632db8f    69  f19421c1d4aa40978ebb69ca19b0e20d   \n",
       "5   00116118485d4dfda04fdbaba9a87b5c    29  f19421c1d4aa40978ebb69ca19b0e20d   \n",
       "6   00116118485d4dfda04fdbaba9a87b5c    97  f19421c1d4aa40978ebb69ca19b0e20d   \n",
       "11  0011e0d4e6b944f998e987f904e8c1e5    85  9b98b8c7a33c4b65b9aebfe6a799e6d9   \n",
       "13  0020c2b971eb4e9188eac86d93036a77    29  ae264e3637204a6fb9bb56bc8210ddfd   \n",
       "\n",
       "    max_offer_day offer_type  desirable_use  \n",
       "2           74.00       bogo  non-desirable  \n",
       "5           34.00       bogo  non-desirable  \n",
       "6          102.00       bogo  non-desirable  \n",
       "11          92.00       bogo  non-desirable  \n",
       "13          36.00       bogo  non-desirable  "
      ]
     },
     "execution_count": 111,
     "metadata": {},
     "output_type": "execute_result"
    }
   ],
   "source": [
    "total_issued_bogo = Classification_of_offers(total_offers, event_name_df).query('offer_type ==\"bogo\"')\n",
    "total_issued_bogo.head()"
   ]
  },
  {
   "cell_type": "code",
   "execution_count": 112,
   "id": "15000a8d",
   "metadata": {},
   "outputs": [
    {
     "data": {
      "text/html": [
       "<div>\n",
       "<style scoped>\n",
       "    .dataframe tbody tr th:only-of-type {\n",
       "        vertical-align: middle;\n",
       "    }\n",
       "\n",
       "    .dataframe tbody tr th {\n",
       "        vertical-align: top;\n",
       "    }\n",
       "\n",
       "    .dataframe thead th {\n",
       "        text-align: right;\n",
       "    }\n",
       "</style>\n",
       "<table border=\"1\" class=\"dataframe\">\n",
       "  <thead>\n",
       "    <tr style=\"text-align: right;\">\n",
       "      <th></th>\n",
       "      <th>customer_id</th>\n",
       "      <th>days</th>\n",
       "      <th>offer_id</th>\n",
       "      <th>max_offer_day</th>\n",
       "      <th>offer_type</th>\n",
       "      <th>desirable_use</th>\n",
       "    </tr>\n",
       "  </thead>\n",
       "  <tbody>\n",
       "    <tr>\n",
       "      <th>3</th>\n",
       "      <td>0009655768c64bdeb2e877511632db8f</td>\n",
       "      <td>85</td>\n",
       "      <td>fafdcd668e3743c1bb461111dcafc2a4</td>\n",
       "      <td>95.00</td>\n",
       "      <td>discount</td>\n",
       "      <td>desirable</td>\n",
       "    </tr>\n",
       "    <tr>\n",
       "      <th>4</th>\n",
       "      <td>0009655768c64bdeb2e877511632db8f</td>\n",
       "      <td>97</td>\n",
       "      <td>2906b810c7d4411798c6938adc9daaa5</td>\n",
       "      <td>104.00</td>\n",
       "      <td>discount</td>\n",
       "      <td>non-desirable</td>\n",
       "    </tr>\n",
       "    <tr>\n",
       "      <th>8</th>\n",
       "      <td>0011e0d4e6b944f998e987f904e8c1e5</td>\n",
       "      <td>29</td>\n",
       "      <td>2298d6c36e964ae4a3e7e9706d1fb8c2</td>\n",
       "      <td>36.00</td>\n",
       "      <td>discount</td>\n",
       "      <td>non-desirable</td>\n",
       "    </tr>\n",
       "    <tr>\n",
       "      <th>10</th>\n",
       "      <td>0011e0d4e6b944f998e987f904e8c1e5</td>\n",
       "      <td>69</td>\n",
       "      <td>0b1e1539f2cc45b7b9fa7c272da2e1d7</td>\n",
       "      <td>79.00</td>\n",
       "      <td>discount</td>\n",
       "      <td>non-desirable</td>\n",
       "    </tr>\n",
       "    <tr>\n",
       "      <th>12</th>\n",
       "      <td>0020c2b971eb4e9188eac86d93036a77</td>\n",
       "      <td>1</td>\n",
       "      <td>fafdcd668e3743c1bb461111dcafc2a4</td>\n",
       "      <td>11.00</td>\n",
       "      <td>discount</td>\n",
       "      <td>desirable</td>\n",
       "    </tr>\n",
       "  </tbody>\n",
       "</table>\n",
       "</div>"
      ],
      "text/plain": [
       "                         customer_id  days                          offer_id  \\\n",
       "3   0009655768c64bdeb2e877511632db8f    85  fafdcd668e3743c1bb461111dcafc2a4   \n",
       "4   0009655768c64bdeb2e877511632db8f    97  2906b810c7d4411798c6938adc9daaa5   \n",
       "8   0011e0d4e6b944f998e987f904e8c1e5    29  2298d6c36e964ae4a3e7e9706d1fb8c2   \n",
       "10  0011e0d4e6b944f998e987f904e8c1e5    69  0b1e1539f2cc45b7b9fa7c272da2e1d7   \n",
       "12  0020c2b971eb4e9188eac86d93036a77     1  fafdcd668e3743c1bb461111dcafc2a4   \n",
       "\n",
       "    max_offer_day offer_type  desirable_use  \n",
       "3           95.00   discount      desirable  \n",
       "4          104.00   discount  non-desirable  \n",
       "8           36.00   discount  non-desirable  \n",
       "10          79.00   discount  non-desirable  \n",
       "12          11.00   discount      desirable  "
      ]
     },
     "execution_count": 112,
     "metadata": {},
     "output_type": "execute_result"
    }
   ],
   "source": [
    "total_issued_disc = Classification_of_offers(total_offers, event_name_df).query('offer_type ==\"discount\"')\n",
    "total_issued_disc.head()"
   ]
  },
  {
   "cell_type": "code",
   "execution_count": 113,
   "id": "88ade085",
   "metadata": {},
   "outputs": [
    {
     "data": {
      "text/html": [
       "<div>\n",
       "<style scoped>\n",
       "    .dataframe tbody tr th:only-of-type {\n",
       "        vertical-align: middle;\n",
       "    }\n",
       "\n",
       "    .dataframe tbody tr th {\n",
       "        vertical-align: top;\n",
       "    }\n",
       "\n",
       "    .dataframe thead th {\n",
       "        text-align: right;\n",
       "    }\n",
       "</style>\n",
       "<table border=\"1\" class=\"dataframe\">\n",
       "  <thead>\n",
       "    <tr style=\"text-align: right;\">\n",
       "      <th></th>\n",
       "      <th>customer_id</th>\n",
       "      <th>days</th>\n",
       "      <th>offer_id</th>\n",
       "      <th>max_offer_day</th>\n",
       "      <th>offer_type</th>\n",
       "      <th>desirable_use</th>\n",
       "    </tr>\n",
       "  </thead>\n",
       "  <tbody>\n",
       "    <tr>\n",
       "      <th>0</th>\n",
       "      <td>0009655768c64bdeb2e877511632db8f</td>\n",
       "      <td>29</td>\n",
       "      <td>5a8bc65990b245e5a138643cd4eb9837</td>\n",
       "      <td>32.00</td>\n",
       "      <td>informational</td>\n",
       "      <td>non-desirable</td>\n",
       "    </tr>\n",
       "    <tr>\n",
       "      <th>1</th>\n",
       "      <td>0009655768c64bdeb2e877511632db8f</td>\n",
       "      <td>57</td>\n",
       "      <td>3f207df678b143eea3cee63160fa8bed</td>\n",
       "      <td>61.00</td>\n",
       "      <td>informational</td>\n",
       "      <td>non-desirable</td>\n",
       "    </tr>\n",
       "    <tr>\n",
       "      <th>7</th>\n",
       "      <td>0011e0d4e6b944f998e987f904e8c1e5</td>\n",
       "      <td>1</td>\n",
       "      <td>3f207df678b143eea3cee63160fa8bed</td>\n",
       "      <td>5.00</td>\n",
       "      <td>informational</td>\n",
       "      <td>non-desirable</td>\n",
       "    </tr>\n",
       "    <tr>\n",
       "      <th>9</th>\n",
       "      <td>0011e0d4e6b944f998e987f904e8c1e5</td>\n",
       "      <td>57</td>\n",
       "      <td>5a8bc65990b245e5a138643cd4eb9837</td>\n",
       "      <td>60.00</td>\n",
       "      <td>informational</td>\n",
       "      <td>non-desirable</td>\n",
       "    </tr>\n",
       "    <tr>\n",
       "      <th>16</th>\n",
       "      <td>0020c2b971eb4e9188eac86d93036a77</td>\n",
       "      <td>85</td>\n",
       "      <td>5a8bc65990b245e5a138643cd4eb9837</td>\n",
       "      <td>88.00</td>\n",
       "      <td>informational</td>\n",
       "      <td>non-desirable</td>\n",
       "    </tr>\n",
       "  </tbody>\n",
       "</table>\n",
       "</div>"
      ],
      "text/plain": [
       "                         customer_id  days                          offer_id  \\\n",
       "0   0009655768c64bdeb2e877511632db8f    29  5a8bc65990b245e5a138643cd4eb9837   \n",
       "1   0009655768c64bdeb2e877511632db8f    57  3f207df678b143eea3cee63160fa8bed   \n",
       "7   0011e0d4e6b944f998e987f904e8c1e5     1  3f207df678b143eea3cee63160fa8bed   \n",
       "9   0011e0d4e6b944f998e987f904e8c1e5    57  5a8bc65990b245e5a138643cd4eb9837   \n",
       "16  0020c2b971eb4e9188eac86d93036a77    85  5a8bc65990b245e5a138643cd4eb9837   \n",
       "\n",
       "    max_offer_day     offer_type  desirable_use  \n",
       "0           32.00  informational  non-desirable  \n",
       "1           61.00  informational  non-desirable  \n",
       "7            5.00  informational  non-desirable  \n",
       "9           60.00  informational  non-desirable  \n",
       "16          88.00  informational  non-desirable  "
      ]
     },
     "execution_count": 113,
     "metadata": {},
     "output_type": "execute_result"
    }
   ],
   "source": [
    "total_issued_info = Classification_of_offers(total_offers, event_name_df).query('offer_type ==\"informational\"')\n",
    "total_issued_info.head()"
   ]
  },
  {
   "cell_type": "code",
   "execution_count": 114,
   "id": "956ae9ea",
   "metadata": {},
   "outputs": [
    {
     "name": "stdout",
     "output_type": "stream",
     "text": [
      "BOGO Offer:\n",
      "non-desirable    25129\n",
      "desirable         5370\n",
      "Name: desirable_use, dtype: int64\n"
     ]
    }
   ],
   "source": [
    "print('BOGO Offer:' )\n",
    "print(total_issued_bogo.desirable_use.value_counts())"
   ]
  },
  {
   "cell_type": "code",
   "execution_count": 115,
   "id": "adc44aee",
   "metadata": {},
   "outputs": [
    {
     "name": "stdout",
     "output_type": "stream",
     "text": [
      "Discount Offer:\n",
      "non-desirable    24075\n",
      "desirable         6468\n",
      "Name: desirable_use, dtype: int64\n"
     ]
    }
   ],
   "source": [
    "print('Discount Offer:' )\n",
    "print(total_issued_disc.desirable_use.value_counts())"
   ]
  },
  {
   "cell_type": "code",
   "execution_count": 116,
   "id": "43e2b939",
   "metadata": {},
   "outputs": [
    {
     "name": "stdout",
     "output_type": "stream",
     "text": [
      "Informational Offer:\n",
      "non-desirable    14048\n",
      "desirable         1187\n",
      "Name: desirable_use, dtype: int64\n"
     ]
    }
   ],
   "source": [
    "print('Informational Offer:' )\n",
    "print(total_issued_info.desirable_use.value_counts())"
   ]
  },
  {
   "cell_type": "code",
   "execution_count": 117,
   "id": "612ba375",
   "metadata": {},
   "outputs": [],
   "source": [
    "#converting data into csv file to work on tableau "
   ]
  },
  {
   "cell_type": "code",
   "execution_count": 118,
   "id": "21452cf5",
   "metadata": {},
   "outputs": [],
   "source": [
    "Classification_of_offers(total_offers, event_name_df).to_csv('total_issued_offer.csv', index=False)"
   ]
  },
  {
   "cell_type": "code",
   "execution_count": 119,
   "id": "24594493",
   "metadata": {},
   "outputs": [],
   "source": [
    "rfm_df.to_csv('rfm_score.csv', index=False)"
   ]
  },
  {
   "cell_type": "code",
   "execution_count": 120,
   "id": "7662e4f0",
   "metadata": {},
   "outputs": [],
   "source": [
    "customer_info_df.to_csv('customer_df.csv', index=False)"
   ]
  },
  {
   "cell_type": "code",
   "execution_count": 121,
   "id": "0b9f6af2",
   "metadata": {},
   "outputs": [],
   "source": [
    "#checkpoints\n",
    "offer_df= Classification_of_offers(total_offers, event_name_df)\n",
    "customer_df= customer_info_df\n",
    "rfm_df = rfm_df"
   ]
  },
  {
   "cell_type": "code",
   "execution_count": 122,
   "id": "5bc013e2",
   "metadata": {},
   "outputs": [],
   "source": [
    "# Merge all the datasets\n",
    "customer_offer_df_mod = offer_df.merge(customer_df, left_on = 'customer_id', right_on ='customer_id', how='left')\n",
    "customer_offer_df =customer_offer_df_mod.merge(rfm_df, left_on = 'customer_id', right_on ='customer_id', how='left').fillna(0)"
   ]
  },
  {
   "cell_type": "code",
   "execution_count": 123,
   "id": "de40e2cd",
   "metadata": {},
   "outputs": [],
   "source": [
    "#converting data into csv file to work on tableau \n",
    "#customer_offer_df.to_csv('customer_offer_df',index=False)"
   ]
  },
  {
   "cell_type": "code",
   "execution_count": 124,
   "id": "2146a7bf",
   "metadata": {},
   "outputs": [
    {
     "data": {
      "text/html": [
       "<div>\n",
       "<style scoped>\n",
       "    .dataframe tbody tr th:only-of-type {\n",
       "        vertical-align: middle;\n",
       "    }\n",
       "\n",
       "    .dataframe tbody tr th {\n",
       "        vertical-align: top;\n",
       "    }\n",
       "\n",
       "    .dataframe thead th {\n",
       "        text-align: right;\n",
       "    }\n",
       "</style>\n",
       "<table border=\"1\" class=\"dataframe\">\n",
       "  <thead>\n",
       "    <tr style=\"text-align: right;\">\n",
       "      <th></th>\n",
       "      <th>customer_id</th>\n",
       "      <th>days</th>\n",
       "      <th>offer_id</th>\n",
       "      <th>max_offer_day</th>\n",
       "      <th>offer_type</th>\n",
       "      <th>desirable_use</th>\n",
       "      <th>gender</th>\n",
       "      <th>age</th>\n",
       "      <th>became_member_on</th>\n",
       "      <th>income</th>\n",
       "      <th>days_as_member</th>\n",
       "      <th>recency</th>\n",
       "      <th>frequency</th>\n",
       "      <th>monetary</th>\n",
       "    </tr>\n",
       "  </thead>\n",
       "  <tbody>\n",
       "    <tr>\n",
       "      <th>0</th>\n",
       "      <td>0009655768c64bdeb2e877511632db8f</td>\n",
       "      <td>29</td>\n",
       "      <td>5a8bc65990b245e5a138643cd4eb9837</td>\n",
       "      <td>32.00</td>\n",
       "      <td>informational</td>\n",
       "      <td>non-desirable</td>\n",
       "      <td>M</td>\n",
       "      <td>33</td>\n",
       "      <td>2017-04-21</td>\n",
       "      <td>72000.00</td>\n",
       "      <td>466</td>\n",
       "      <td>3.00</td>\n",
       "      <td>8.00</td>\n",
       "      <td>127.60</td>\n",
       "    </tr>\n",
       "    <tr>\n",
       "      <th>1</th>\n",
       "      <td>0009655768c64bdeb2e877511632db8f</td>\n",
       "      <td>57</td>\n",
       "      <td>3f207df678b143eea3cee63160fa8bed</td>\n",
       "      <td>61.00</td>\n",
       "      <td>informational</td>\n",
       "      <td>non-desirable</td>\n",
       "      <td>M</td>\n",
       "      <td>33</td>\n",
       "      <td>2017-04-21</td>\n",
       "      <td>72000.00</td>\n",
       "      <td>466</td>\n",
       "      <td>3.00</td>\n",
       "      <td>8.00</td>\n",
       "      <td>127.60</td>\n",
       "    </tr>\n",
       "    <tr>\n",
       "      <th>2</th>\n",
       "      <td>0009655768c64bdeb2e877511632db8f</td>\n",
       "      <td>69</td>\n",
       "      <td>f19421c1d4aa40978ebb69ca19b0e20d</td>\n",
       "      <td>74.00</td>\n",
       "      <td>bogo</td>\n",
       "      <td>non-desirable</td>\n",
       "      <td>M</td>\n",
       "      <td>33</td>\n",
       "      <td>2017-04-21</td>\n",
       "      <td>72000.00</td>\n",
       "      <td>466</td>\n",
       "      <td>3.00</td>\n",
       "      <td>8.00</td>\n",
       "      <td>127.60</td>\n",
       "    </tr>\n",
       "    <tr>\n",
       "      <th>3</th>\n",
       "      <td>0009655768c64bdeb2e877511632db8f</td>\n",
       "      <td>85</td>\n",
       "      <td>fafdcd668e3743c1bb461111dcafc2a4</td>\n",
       "      <td>95.00</td>\n",
       "      <td>discount</td>\n",
       "      <td>desirable</td>\n",
       "      <td>M</td>\n",
       "      <td>33</td>\n",
       "      <td>2017-04-21</td>\n",
       "      <td>72000.00</td>\n",
       "      <td>466</td>\n",
       "      <td>3.00</td>\n",
       "      <td>8.00</td>\n",
       "      <td>127.60</td>\n",
       "    </tr>\n",
       "    <tr>\n",
       "      <th>4</th>\n",
       "      <td>0009655768c64bdeb2e877511632db8f</td>\n",
       "      <td>97</td>\n",
       "      <td>2906b810c7d4411798c6938adc9daaa5</td>\n",
       "      <td>104.00</td>\n",
       "      <td>discount</td>\n",
       "      <td>non-desirable</td>\n",
       "      <td>M</td>\n",
       "      <td>33</td>\n",
       "      <td>2017-04-21</td>\n",
       "      <td>72000.00</td>\n",
       "      <td>466</td>\n",
       "      <td>3.00</td>\n",
       "      <td>8.00</td>\n",
       "      <td>127.60</td>\n",
       "    </tr>\n",
       "  </tbody>\n",
       "</table>\n",
       "</div>"
      ],
      "text/plain": [
       "                        customer_id  days                          offer_id  \\\n",
       "0  0009655768c64bdeb2e877511632db8f    29  5a8bc65990b245e5a138643cd4eb9837   \n",
       "1  0009655768c64bdeb2e877511632db8f    57  3f207df678b143eea3cee63160fa8bed   \n",
       "2  0009655768c64bdeb2e877511632db8f    69  f19421c1d4aa40978ebb69ca19b0e20d   \n",
       "3  0009655768c64bdeb2e877511632db8f    85  fafdcd668e3743c1bb461111dcafc2a4   \n",
       "4  0009655768c64bdeb2e877511632db8f    97  2906b810c7d4411798c6938adc9daaa5   \n",
       "\n",
       "   max_offer_day     offer_type  desirable_use gender  age became_member_on  \\\n",
       "0          32.00  informational  non-desirable      M   33       2017-04-21   \n",
       "1          61.00  informational  non-desirable      M   33       2017-04-21   \n",
       "2          74.00           bogo  non-desirable      M   33       2017-04-21   \n",
       "3          95.00       discount      desirable      M   33       2017-04-21   \n",
       "4         104.00       discount  non-desirable      M   33       2017-04-21   \n",
       "\n",
       "    income  days_as_member  recency  frequency  monetary  \n",
       "0 72000.00             466     3.00       8.00    127.60  \n",
       "1 72000.00             466     3.00       8.00    127.60  \n",
       "2 72000.00             466     3.00       8.00    127.60  \n",
       "3 72000.00             466     3.00       8.00    127.60  \n",
       "4 72000.00             466     3.00       8.00    127.60  "
      ]
     },
     "execution_count": 124,
     "metadata": {},
     "output_type": "execute_result"
    }
   ],
   "source": [
    "customer_offer_df.head()"
   ]
  },
  {
   "cell_type": "code",
   "execution_count": 125,
   "id": "58b8bd47",
   "metadata": {},
   "outputs": [
    {
     "name": "stdout",
     "output_type": "stream",
     "text": [
      "<class 'pandas.core.frame.DataFrame'>\n",
      "Int64Index: 76277 entries, 0 to 76276\n",
      "Data columns (total 14 columns):\n",
      " #   Column            Non-Null Count  Dtype         \n",
      "---  ------            --------------  -----         \n",
      " 0   customer_id       76277 non-null  object        \n",
      " 1   days              76277 non-null  int64         \n",
      " 2   offer_id          76277 non-null  object        \n",
      " 3   max_offer_day     76277 non-null  float64       \n",
      " 4   offer_type        76277 non-null  object        \n",
      " 5   desirable_use     76277 non-null  object        \n",
      " 6   gender            76277 non-null  object        \n",
      " 7   age               76277 non-null  int64         \n",
      " 8   became_member_on  76277 non-null  datetime64[ns]\n",
      " 9   income            76277 non-null  float64       \n",
      " 10  days_as_member    76277 non-null  int64         \n",
      " 11  recency           76277 non-null  float64       \n",
      " 12  frequency         76277 non-null  float64       \n",
      " 13  monetary          76277 non-null  float64       \n",
      "dtypes: datetime64[ns](1), float64(5), int64(3), object(5)\n",
      "memory usage: 8.7+ MB\n"
     ]
    }
   ],
   "source": [
    "customer_offer_df.info()"
   ]
  },
  {
   "cell_type": "code",
   "execution_count": 126,
   "id": "a9c1bfaf",
   "metadata": {},
   "outputs": [
    {
     "data": {
      "text/html": [
       "<div>\n",
       "<style scoped>\n",
       "    .dataframe tbody tr th:only-of-type {\n",
       "        vertical-align: middle;\n",
       "    }\n",
       "\n",
       "    .dataframe tbody tr th {\n",
       "        vertical-align: top;\n",
       "    }\n",
       "\n",
       "    .dataframe thead th {\n",
       "        text-align: right;\n",
       "    }\n",
       "</style>\n",
       "<table border=\"1\" class=\"dataframe\">\n",
       "  <thead>\n",
       "    <tr style=\"text-align: right;\">\n",
       "      <th></th>\n",
       "      <th>count</th>\n",
       "      <th>mean</th>\n",
       "      <th>std</th>\n",
       "      <th>min</th>\n",
       "      <th>25%</th>\n",
       "      <th>50%</th>\n",
       "      <th>75%</th>\n",
       "      <th>max</th>\n",
       "    </tr>\n",
       "  </thead>\n",
       "  <tbody>\n",
       "    <tr>\n",
       "      <th>days</th>\n",
       "      <td>76277.00</td>\n",
       "      <td>56.43</td>\n",
       "      <td>32.75</td>\n",
       "      <td>1.00</td>\n",
       "      <td>29.00</td>\n",
       "      <td>69.00</td>\n",
       "      <td>85.00</td>\n",
       "      <td>97.00</td>\n",
       "    </tr>\n",
       "    <tr>\n",
       "      <th>max_offer_day</th>\n",
       "      <td>76277.00</td>\n",
       "      <td>62.93</td>\n",
       "      <td>32.82</td>\n",
       "      <td>4.00</td>\n",
       "      <td>36.00</td>\n",
       "      <td>72.00</td>\n",
       "      <td>92.00</td>\n",
       "      <td>107.00</td>\n",
       "    </tr>\n",
       "    <tr>\n",
       "      <th>age</th>\n",
       "      <td>76277.00</td>\n",
       "      <td>54.45</td>\n",
       "      <td>16.24</td>\n",
       "      <td>18.00</td>\n",
       "      <td>45.00</td>\n",
       "      <td>55.00</td>\n",
       "      <td>65.00</td>\n",
       "      <td>101.00</td>\n",
       "    </tr>\n",
       "    <tr>\n",
       "      <th>income</th>\n",
       "      <td>76277.00</td>\n",
       "      <td>65195.83</td>\n",
       "      <td>20195.31</td>\n",
       "      <td>30000.00</td>\n",
       "      <td>51000.00</td>\n",
       "      <td>64000.00</td>\n",
       "      <td>76000.00</td>\n",
       "      <td>120000.00</td>\n",
       "    </tr>\n",
       "    <tr>\n",
       "      <th>days_as_member</th>\n",
       "      <td>76277.00</td>\n",
       "      <td>522.04</td>\n",
       "      <td>411.58</td>\n",
       "      <td>5.00</td>\n",
       "      <td>213.00</td>\n",
       "      <td>363.00</td>\n",
       "      <td>797.00</td>\n",
       "      <td>1828.00</td>\n",
       "    </tr>\n",
       "    <tr>\n",
       "      <th>recency</th>\n",
       "      <td>76277.00</td>\n",
       "      <td>13.69</td>\n",
       "      <td>13.70</td>\n",
       "      <td>0.00</td>\n",
       "      <td>4.00</td>\n",
       "      <td>10.00</td>\n",
       "      <td>19.00</td>\n",
       "      <td>117.00</td>\n",
       "    </tr>\n",
       "    <tr>\n",
       "      <th>frequency</th>\n",
       "      <td>76277.00</td>\n",
       "      <td>8.37</td>\n",
       "      <td>5.23</td>\n",
       "      <td>0.00</td>\n",
       "      <td>4.00</td>\n",
       "      <td>7.00</td>\n",
       "      <td>11.00</td>\n",
       "      <td>36.00</td>\n",
       "    </tr>\n",
       "    <tr>\n",
       "      <th>monetary</th>\n",
       "      <td>76277.00</td>\n",
       "      <td>106.94</td>\n",
       "      <td>128.51</td>\n",
       "      <td>0.00</td>\n",
       "      <td>22.28</td>\n",
       "      <td>70.88</td>\n",
       "      <td>152.27</td>\n",
       "      <td>1608.69</td>\n",
       "    </tr>\n",
       "  </tbody>\n",
       "</table>\n",
       "</div>"
      ],
      "text/plain": [
       "                  count     mean      std      min      25%      50%      75%  \\\n",
       "days           76277.00    56.43    32.75     1.00    29.00    69.00    85.00   \n",
       "max_offer_day  76277.00    62.93    32.82     4.00    36.00    72.00    92.00   \n",
       "age            76277.00    54.45    16.24    18.00    45.00    55.00    65.00   \n",
       "income         76277.00 65195.83 20195.31 30000.00 51000.00 64000.00 76000.00   \n",
       "days_as_member 76277.00   522.04   411.58     5.00   213.00   363.00   797.00   \n",
       "recency        76277.00    13.69    13.70     0.00     4.00    10.00    19.00   \n",
       "frequency      76277.00     8.37     5.23     0.00     4.00     7.00    11.00   \n",
       "monetary       76277.00   106.94   128.51     0.00    22.28    70.88   152.27   \n",
       "\n",
       "                     max  \n",
       "days               97.00  \n",
       "max_offer_day     107.00  \n",
       "age               101.00  \n",
       "income         120000.00  \n",
       "days_as_member   1828.00  \n",
       "recency           117.00  \n",
       "frequency          36.00  \n",
       "monetary         1608.69  "
      ]
     },
     "execution_count": 126,
     "metadata": {},
     "output_type": "execute_result"
    }
   ],
   "source": [
    "customer_offer_df.describe().T"
   ]
  },
  {
   "cell_type": "code",
   "execution_count": 127,
   "id": "2d52ea7d",
   "metadata": {},
   "outputs": [],
   "source": [
    "# Drop the unnecessary features \n",
    "customer_offer_df.drop(['became_member_on','days','max_offer_day','offer_id'],axis =1, inplace= True)"
   ]
  },
  {
   "cell_type": "code",
   "execution_count": 128,
   "id": "8e14c832",
   "metadata": {},
   "outputs": [],
   "source": [
    "total_issued_bogo = customer_offer_df.query('offer_type ==\"bogo\"')\n",
    "total_issued_disc = customer_offer_df.query('offer_type ==\"discount\"')\n",
    "total_issued_info = customer_offer_df.query('offer_type ==\"informational\"')"
   ]
  },
  {
   "cell_type": "code",
   "execution_count": 129,
   "id": "bebec610",
   "metadata": {},
   "outputs": [
    {
     "name": "stdout",
     "output_type": "stream",
     "text": [
      "BOGO Offer:\n",
      "non-desirable    25129\n",
      "desirable         5370\n",
      "Name: desirable_use, dtype: int64\n",
      " \n",
      "Discount Offer:\n",
      "non-desirable    24075\n",
      "desirable         6468\n",
      "Name: desirable_use, dtype: int64\n",
      " \n",
      "Informational Offer:\n",
      "non-desirable    14048\n",
      "desirable         1187\n",
      "Name: desirable_use, dtype: int64\n"
     ]
    }
   ],
   "source": [
    "#Imbalanced Data\n",
    "print('BOGO Offer:' )\n",
    "print(total_issued_bogo.desirable_use.value_counts())\n",
    "print(' ')\n",
    "print('Discount Offer:' )\n",
    "print(total_issued_disc.desirable_use.value_counts())\n",
    "print(' ')\n",
    "print('Informational Offer:' )\n",
    "print(total_issued_info.desirable_use.value_counts())"
   ]
  },
  {
   "cell_type": "code",
   "execution_count": 130,
   "id": "e0b6e933",
   "metadata": {},
   "outputs": [
    {
     "data": {
      "text/plain": [
       "<AxesSubplot:xlabel='offer_type', ylabel='count'>"
      ]
     },
     "execution_count": 130,
     "metadata": {},
     "output_type": "execute_result"
    },
    {
     "data": {
      "image/png": "[encoded data removed]",
      "text/plain": [
       "<Figure size 432x288 with 1 Axes>"
      ]
     },
     "metadata": {
      "needs_background": "light"
     },
     "output_type": "display_data"
    }
   ],
   "source": [
    "sns.countplot(data= customer_offer_df, x= 'offer_type', hue = 'desirable_use')"
   ]
  },
  {
   "cell_type": "code",
   "execution_count": 131,
   "id": "43aad8b5",
   "metadata": {},
   "outputs": [],
   "source": [
    "def Feature_selection(offer_df):\n",
    "    \n",
    "    # Target variable: 'desirable_use'\n",
    "    categorical_target = offer_df.desirable_use\n",
    "    \n",
    "    selected_inputs = []\n",
    "    \n",
    "    # Numerical Inputs Selection \n",
    "    numerical_inputs = offer_df.drop(['customer_id','desirable_use','gender','offer_type'], axis =1)\n",
    "    \n",
    "    anova_test = f_classif(numerical_inputs, categorical_target)\n",
    "    \n",
    "    prob = 0.95\n",
    "    alpha = 1.0 - prob\n",
    "    \n",
    "    for i in range(len(anova_test[1])):\n",
    "        if anova_test[1][i] < alpha:\n",
    "            selected_inputs.append(numerical_inputs.columns[i])\n",
    "    \n",
    "    # Categorical Inputs Selection \n",
    "    categorical_input = offer_df['gender']\n",
    "    gender_df = pd.get_dummies(offer_df.gender, prefix = 'gender', prefix_sep = '_')\n",
    "    gender_df['desirable_use'], gender_df['customer_id'] = offer_df['desirable_use'], offer_df['customer_id']\n",
    "    \n",
    "    contingency_table = gender_df.groupby(['desirable_use'], as_index = True).sum()\n",
    "    stat, p, dof, expected = chi2_contingency(contingency_table.values)\n",
    "       \n",
    "    if p <= alpha:\n",
    "        selected_inputs.append('gender')\n",
    "\n",
    "        \n",
    "    return offer_df[selected_inputs]\n"
   ]
  },
  {
   "cell_type": "code",
   "execution_count": 132,
   "id": "75a90b94",
   "metadata": {},
   "outputs": [
    {
     "data": {
      "text/plain": [
       "Index(['customer_id', 'offer_type', 'desirable_use', 'gender', 'age', 'income',\n",
       "       'days_as_member', 'recency', 'frequency', 'monetary'],\n",
       "      dtype='object')"
      ]
     },
     "execution_count": 132,
     "metadata": {},
     "output_type": "execute_result"
    }
   ],
   "source": [
    "total_issued_bogo.columns"
   ]
  },
  {
   "cell_type": "code",
   "execution_count": 133,
   "id": "3fb3e775",
   "metadata": {},
   "outputs": [
    {
     "data": {
      "text/plain": [
       "Index(['customer_id', 'offer_type', 'desirable_use', 'gender', 'age', 'income',\n",
       "       'days_as_member', 'recency', 'frequency', 'monetary'],\n",
       "      dtype='object')"
      ]
     },
     "execution_count": 133,
     "metadata": {},
     "output_type": "execute_result"
    }
   ],
   "source": [
    "total_issued_disc.columns"
   ]
  },
  {
   "cell_type": "code",
   "execution_count": 134,
   "id": "9d29bf9f",
   "metadata": {},
   "outputs": [
    {
     "data": {
      "text/plain": [
       "Index(['customer_id', 'offer_type', 'desirable_use', 'gender', 'age', 'income',\n",
       "       'days_as_member', 'recency', 'frequency', 'monetary'],\n",
       "      dtype='object')"
      ]
     },
     "execution_count": 134,
     "metadata": {},
     "output_type": "execute_result"
    }
   ],
   "source": [
    "total_issued_info.columns"
   ]
  },
  {
   "cell_type": "code",
   "execution_count": 135,
   "id": "86adb4d1",
   "metadata": {},
   "outputs": [],
   "source": [
    "bogo_df = Feature_selection(total_issued_bogo)\n",
    "discount_df = Feature_selection(total_issued_disc)\n",
    "informational_df = Feature_selection(total_issued_info)"
   ]
  },
  {
   "cell_type": "code",
   "execution_count": 136,
   "id": "308fa961",
   "metadata": {},
   "outputs": [],
   "source": [
    "bogo_target= total_issued_bogo.desirable_use\n",
    "disc_target= total_issued_disc.desirable_use\n",
    "info_target= total_issued_info.desirable_use"
   ]
  },
  {
   "cell_type": "code",
   "execution_count": 137,
   "id": "8d68784c",
   "metadata": {},
   "outputs": [],
   "source": [
    "# Bogo\n",
    "bogo_trainX, bogo_testX, bogo_trainy, bogo_testy = train_test_split(bogo_df, bogo_target, \n",
    "                                                                  test_size=0.2, random_state=100)\n",
    "# Discount\n",
    "disc_trainX, disc_testX, disc_trainy, disc_testy = train_test_split(discount_df, disc_target, \n",
    "                                                                    test_size=0.2, random_state=100)\n",
    "# Informational\n",
    "info_trainX, info_testX, info_trainy, info_testy = train_test_split(informational_df, info_target, \n",
    "                                                                    test_size=0.2, random_state=100)"
   ]
  },
  {
   "cell_type": "code",
   "execution_count": 141,
   "id": "6d898931",
   "metadata": {},
   "outputs": [],
   "source": [
    "def Balancing_Data(X_train, y_train): \n",
    "    \n",
    "    # Decide how many the minority class should be oversampled \n",
    "    \n",
    "    nondes_train = int(collections.Counter(y_train)['non-desirable'])\n",
    "    # des_train = int(collections.Counter(y_train)['desirable']*4)\n",
    "    des_train = int(nondes_train*0.7)\n",
    "    \n",
    "    # Transform the dataset\n",
    "    strategy = { 'non-desirable':nondes_train, 'desirable':des_train}\n",
    "    oversample = SMOTE(sampling_strategy=strategy)\n",
    "    \n",
    "    # Balanced dataset \n",
    "    X_balanced, y_balanced = oversample.fit_resample( X_train, y_train)\n",
    "    \n",
    "    # Summarize newly balanced Distribution\n",
    "    counter = Counter(y_balanced)\n",
    "    for k,v in counter.items():\n",
    "        per = v / len(y_balanced) * 100\n",
    "        print('Class=%s, n=%d (%.3f%%)' % (k, v, per))\n",
    "        \n",
    "    # Plot the distribution\n",
    "    plt.bar(counter.keys(), counter.values())\n",
    "    plt.show()\n",
    "    \n",
    "    balanced_train = pd.concat([X_balanced, y_balanced],axis=1)\n",
    "    \n",
    "    return balanced_train\n",
    "    "
   ]
  },
  {
   "cell_type": "code",
   "execution_count": 142,
   "id": "b32d7ba0",
   "metadata": {},
   "outputs": [
    {
     "name": "stdout",
     "output_type": "stream",
     "text": [
      "Class=non-desirable, n=20106 (58.824%)\n",
      "Class=desirable, n=14074 (41.176%)\n"
     ]
    },
    {
     "data": {
      "image/png": "[encoded data removed]",
      "text/plain": [
       "<Figure size 432x288 with 1 Axes>"
      ]
     },
     "metadata": {
      "needs_background": "light"
     },
     "output_type": "display_data"
    },
    {
     "name": "stdout",
     "output_type": "stream",
     "text": [
      "Class=non-desirable, n=19259 (58.824%)\n",
      "Class=desirable, n=13481 (41.176%)\n"
     ]
    },
    {
     "data": {
      "image/png": "[encoded data removed]",
      "text/plain": [
       "<Figure size 432x288 with 1 Axes>"
      ]
     },
     "metadata": {
      "needs_background": "light"
     },
     "output_type": "display_data"
    },
    {
     "name": "stdout",
     "output_type": "stream",
     "text": [
      "Class=non-desirable, n=11217 (58.826%)\n",
      "Class=desirable, n=7851 (41.174%)\n"
     ]
    },
    {
     "data": {
      "image/png": "[encoded data removed]",
      "text/plain": [
       "<Figure size 432x288 with 1 Axes>"
      ]
     },
     "metadata": {
      "needs_background": "light"
     },
     "output_type": "display_data"
    }
   ],
   "source": [
    "balanced_bogo = Balancing_Data(bogo_trainX, bogo_trainy)\n",
    "balanced_disc = Balancing_Data(disc_trainX, disc_trainy)\n",
    "balanced_info = Balancing_Data(info_trainX, info_trainy)"
   ]
  },
  {
   "cell_type": "code",
   "execution_count": 143,
   "id": "3c1a370c",
   "metadata": {},
   "outputs": [],
   "source": [
    "# Model Comparison"
   ]
  },
  {
   "cell_type": "markdown",
   "id": "1eec3420",
   "metadata": {},
   "source": [
    "Sklearn Ensemble Methods (Random Forest, AdaBoost, GradientBoost)\n",
    "\n",
    "XGBoost vs. LightGBM vs. CatBoost\n",
    "\n",
    "LogisticRegression"
   ]
  },
  {
   "cell_type": "code",
   "execution_count": 147,
   "id": "839dc5ae",
   "metadata": {},
   "outputs": [],
   "source": [
    "# 1. Sklearn Ensemble Methods\n",
    "rf = RandomForestClassifier(n_estimators=500, max_features=0.06, n_jobs=6, class_weight = 'balanced',verbose = 0, random_state=42)"
   ]
  },
  {
   "cell_type": "code",
   "execution_count": 149,
   "id": "2b22d2fb",
   "metadata": {},
   "outputs": [],
   "source": [
    "base_estim = DecisionTreeClassifier(max_depth=1, max_features=0.06)"
   ]
  },
  {
   "cell_type": "code",
   "execution_count": 150,
   "id": "25f4f958",
   "metadata": {},
   "outputs": [],
   "source": [
    "ab = AdaBoostClassifier(base_estimator=base_estim, n_estimators=500, learning_rate=0.5, random_state=42)"
   ]
  },
  {
   "cell_type": "code",
   "execution_count": 151,
   "id": "a40fc319",
   "metadata": {},
   "outputs": [],
   "source": [
    "gbm = GradientBoostingClassifier(n_estimators=2000, subsample=0.75, max_features=0.06, verbose = 0,  validation_fraction=0.1, random_state=42)"
   ]
  },
  {
   "cell_type": "code",
   "execution_count": 172,
   "id": "e2d295bc",
   "metadata": {},
   "outputs": [],
   "source": [
    "# 2. XG Boost vs. Light GBM vs. CatBoost\n",
    "#xgb = xgb.XGBClassifier(n_estimators=2000, tree_method='hist', subsample=0.75,objective = 'binary:logistic', n_jobs=6, random_state=42)"
   ]
  },
  {
   "cell_type": "code",
   "execution_count": 154,
   "id": "47b7e58b",
   "metadata": {},
   "outputs": [],
   "source": [
    "lgbm = lgb.LGBMClassifier(n_estimators=2000, n_jobs=6, random_state=42)"
   ]
  },
  {
   "cell_type": "code",
   "execution_count": 158,
   "id": "5794a2d0",
   "metadata": {},
   "outputs": [],
   "source": [
    "cb =  cb.CatBoostClassifier(n_estimators=2000, colsample_bylevel=0.06, max_leaves=31, subsample=0.75,thread_count=6, verbose = 0, random_state=42)"
   ]
  },
  {
   "cell_type": "code",
   "execution_count": 160,
   "id": "d94f8a2e",
   "metadata": {},
   "outputs": [],
   "source": [
    "# 3. LogisticRegression Model\n",
    "logreg = LogisticRegression(random_state=42, class_weight = 'balanced')"
   ]
  },
  {
   "cell_type": "code",
   "execution_count": 173,
   "id": "78b69131",
   "metadata": {},
   "outputs": [],
   "source": [
    "models = [logreg, rf, ab, gbm, lgbm, cb]\n",
    "model_names = [i.__class__.__name__ for i in models]\n",
    "es_models = ['XGBClassifier', 'LGBMClassifier', 'CatBoostClassifier']"
   ]
  },
  {
   "cell_type": "code",
   "execution_count": 174,
   "id": "482ba4d4",
   "metadata": {},
   "outputs": [],
   "source": [
    "def Train_Evaluate_Models(balanced_df, test_inputs, test_target):\n",
    "    \n",
    "    # Identify target and inputs variables\n",
    "    balanced_target= balanced_df.desirable_use\n",
    "    balanced_inputs= balanced_df.drop(['desirable_use'], axis=1)\n",
    "    \n",
    "    # Create a validation sample from balanced training data \n",
    "    trainX_sub, trainX_valid, trainy_sub, trainy_valid = train_test_split(balanced_inputs, balanced_target, test_size=0.1)\n",
    "    \n",
    "    # Set up a dataframe to contain the results\n",
    "    results = pd.DataFrame(columns=['accuracy','prediction','recall','f1_score', 'run_time'])  \n",
    "    \n",
    "    # Training the models \n",
    "    for m, n in zip(models, model_names):\n",
    "    \n",
    "        start_time = time()\n",
    "        if n in es_models:\n",
    "            m.fit(trainX_sub, trainy_sub,\n",
    "                  eval_set = [(trainX_valid, trainy_valid)], \n",
    "                  early_stopping_rounds=15, verbose=0)\n",
    "        else:\n",
    "            m.fit(balanced_inputs, balanced_target)\n",
    "    \n",
    "        run_time = time() - start_time\n",
    "\n",
    "        y_pred = m.predict(test_inputs)\n",
    "        accuracy = np.mean( y_pred == test_target)\n",
    "        precision = precision_score(test_target, y_pred, average= 'weighted', zero_division=0)\n",
    "        recall = recall_score(test_target, y_pred, average= 'weighted', zero_division=0)\n",
    "        f1_score = 2 * (precision * recall) / (precision + recall)\n",
    "\n",
    "        results.loc[n] = [accuracy,precision, recall, f1_score, run_time]\n",
    "\n",
    "        del m\n",
    "    \n",
    "    return results"
   ]
  },
  {
   "cell_type": "code",
   "execution_count": 175,
   "id": "27788b81",
   "metadata": {},
   "outputs": [
    {
     "name": "stderr",
     "output_type": "stream",
     "text": [
      "C:\\Users\\hruth\\anaconda3\\lib\\site-packages\\sklearn\\linear_model\\_logistic.py:814: ConvergenceWarning: lbfgs failed to converge (status=1):\n",
      "STOP: TOTAL NO. of ITERATIONS REACHED LIMIT.\n",
      "\n",
      "Increase the number of iterations (max_iter) or scale the data as shown in:\n",
      "    https://scikit-learn.org/stable/modules/preprocessing.html\n",
      "Please also refer to the documentation for alternative solver options:\n",
      "    https://scikit-learn.org/stable/modules/linear_model.html#logistic-regression\n",
      "  n_iter_i = _check_optimize_result(\n",
      "C:\\Users\\hruth\\anaconda3\\lib\\site-packages\\lightgbm\\sklearn.py:726: UserWarning: 'early_stopping_rounds' argument is deprecated and will be removed in a future release of LightGBM. Pass 'early_stopping()' callback via 'callbacks' argument instead.\n",
      "  _log_warning(\"'early_stopping_rounds' argument is deprecated and will be removed in a future release of LightGBM. \"\n",
      "C:\\Users\\hruth\\anaconda3\\lib\\site-packages\\lightgbm\\sklearn.py:736: UserWarning: 'verbose' argument is deprecated and will be removed in a future release of LightGBM. Pass 'log_evaluation()' callback via 'callbacks' argument instead.\n",
      "  _log_warning(\"'verbose' argument is deprecated and will be removed in a future release of LightGBM. \"\n"
     ]
    },
    {
     "data": {
      "text/html": [
       "<div>\n",
       "<style scoped>\n",
       "    .dataframe tbody tr th:only-of-type {\n",
       "        vertical-align: middle;\n",
       "    }\n",
       "\n",
       "    .dataframe tbody tr th {\n",
       "        vertical-align: top;\n",
       "    }\n",
       "\n",
       "    .dataframe thead th {\n",
       "        text-align: right;\n",
       "    }\n",
       "</style>\n",
       "<table border=\"1\" class=\"dataframe\">\n",
       "  <thead>\n",
       "    <tr style=\"text-align: right;\">\n",
       "      <th></th>\n",
       "      <th>accuracy</th>\n",
       "      <th>prediction</th>\n",
       "      <th>recall</th>\n",
       "      <th>f1_score</th>\n",
       "      <th>run_time</th>\n",
       "    </tr>\n",
       "  </thead>\n",
       "  <tbody>\n",
       "    <tr>\n",
       "      <th>LogisticRegression</th>\n",
       "      <td>0.63</td>\n",
       "      <td>0.78</td>\n",
       "      <td>0.63</td>\n",
       "      <td>0.70</td>\n",
       "      <td>0.34</td>\n",
       "    </tr>\n",
       "    <tr>\n",
       "      <th>RandomForestClassifier</th>\n",
       "      <td>0.72</td>\n",
       "      <td>0.73</td>\n",
       "      <td>0.72</td>\n",
       "      <td>0.73</td>\n",
       "      <td>6.67</td>\n",
       "    </tr>\n",
       "    <tr>\n",
       "      <th>AdaBoostClassifier</th>\n",
       "      <td>0.72</td>\n",
       "      <td>0.76</td>\n",
       "      <td>0.72</td>\n",
       "      <td>0.74</td>\n",
       "      <td>19.26</td>\n",
       "    </tr>\n",
       "    <tr>\n",
       "      <th>GradientBoostingClassifier</th>\n",
       "      <td>0.81</td>\n",
       "      <td>0.74</td>\n",
       "      <td>0.81</td>\n",
       "      <td>0.77</td>\n",
       "      <td>27.56</td>\n",
       "    </tr>\n",
       "    <tr>\n",
       "      <th>LGBMClassifier</th>\n",
       "      <td>0.81</td>\n",
       "      <td>0.74</td>\n",
       "      <td>0.81</td>\n",
       "      <td>0.77</td>\n",
       "      <td>0.61</td>\n",
       "    </tr>\n",
       "    <tr>\n",
       "      <th>CatBoostClassifier</th>\n",
       "      <td>0.73</td>\n",
       "      <td>0.76</td>\n",
       "      <td>0.73</td>\n",
       "      <td>0.75</td>\n",
       "      <td>1.71</td>\n",
       "    </tr>\n",
       "  </tbody>\n",
       "</table>\n",
       "</div>"
      ],
      "text/plain": [
       "                            accuracy  prediction  recall  f1_score  run_time\n",
       "LogisticRegression              0.63        0.78    0.63      0.70      0.34\n",
       "RandomForestClassifier          0.72        0.73    0.72      0.73      6.67\n",
       "AdaBoostClassifier              0.72        0.76    0.72      0.74     19.26\n",
       "GradientBoostingClassifier      0.81        0.74    0.81      0.77     27.56\n",
       "LGBMClassifier                  0.81        0.74    0.81      0.77      0.61\n",
       "CatBoostClassifier              0.73        0.76    0.73      0.75      1.71"
      ]
     },
     "execution_count": 175,
     "metadata": {},
     "output_type": "execute_result"
    }
   ],
   "source": [
    "Train_Evaluate_Models(balanced_bogo, bogo_testX, bogo_testy)"
   ]
  },
  {
   "cell_type": "code",
   "execution_count": 176,
   "id": "174cbf12",
   "metadata": {},
   "outputs": [
    {
     "name": "stderr",
     "output_type": "stream",
     "text": [
      "C:\\Users\\hruth\\anaconda3\\lib\\site-packages\\lightgbm\\sklearn.py:726: UserWarning: 'early_stopping_rounds' argument is deprecated and will be removed in a future release of LightGBM. Pass 'early_stopping()' callback via 'callbacks' argument instead.\n",
      "  _log_warning(\"'early_stopping_rounds' argument is deprecated and will be removed in a future release of LightGBM. \"\n",
      "C:\\Users\\hruth\\anaconda3\\lib\\site-packages\\lightgbm\\sklearn.py:736: UserWarning: 'verbose' argument is deprecated and will be removed in a future release of LightGBM. Pass 'log_evaluation()' callback via 'callbacks' argument instead.\n",
      "  _log_warning(\"'verbose' argument is deprecated and will be removed in a future release of LightGBM. \"\n"
     ]
    },
    {
     "data": {
      "text/html": [
       "<div>\n",
       "<style scoped>\n",
       "    .dataframe tbody tr th:only-of-type {\n",
       "        vertical-align: middle;\n",
       "    }\n",
       "\n",
       "    .dataframe tbody tr th {\n",
       "        vertical-align: top;\n",
       "    }\n",
       "\n",
       "    .dataframe thead th {\n",
       "        text-align: right;\n",
       "    }\n",
       "</style>\n",
       "<table border=\"1\" class=\"dataframe\">\n",
       "  <thead>\n",
       "    <tr style=\"text-align: right;\">\n",
       "      <th></th>\n",
       "      <th>accuracy</th>\n",
       "      <th>prediction</th>\n",
       "      <th>recall</th>\n",
       "      <th>f1_score</th>\n",
       "      <th>run_time</th>\n",
       "    </tr>\n",
       "  </thead>\n",
       "  <tbody>\n",
       "    <tr>\n",
       "      <th>LogisticRegression</th>\n",
       "      <td>0.62</td>\n",
       "      <td>0.73</td>\n",
       "      <td>0.62</td>\n",
       "      <td>0.67</td>\n",
       "      <td>0.31</td>\n",
       "    </tr>\n",
       "    <tr>\n",
       "      <th>RandomForestClassifier</th>\n",
       "      <td>0.68</td>\n",
       "      <td>0.69</td>\n",
       "      <td>0.68</td>\n",
       "      <td>0.69</td>\n",
       "      <td>6.44</td>\n",
       "    </tr>\n",
       "    <tr>\n",
       "      <th>AdaBoostClassifier</th>\n",
       "      <td>0.70</td>\n",
       "      <td>0.72</td>\n",
       "      <td>0.70</td>\n",
       "      <td>0.71</td>\n",
       "      <td>17.53</td>\n",
       "    </tr>\n",
       "    <tr>\n",
       "      <th>GradientBoostingClassifier</th>\n",
       "      <td>0.76</td>\n",
       "      <td>0.70</td>\n",
       "      <td>0.76</td>\n",
       "      <td>0.73</td>\n",
       "      <td>26.20</td>\n",
       "    </tr>\n",
       "    <tr>\n",
       "      <th>LGBMClassifier</th>\n",
       "      <td>0.77</td>\n",
       "      <td>0.70</td>\n",
       "      <td>0.77</td>\n",
       "      <td>0.73</td>\n",
       "      <td>0.43</td>\n",
       "    </tr>\n",
       "    <tr>\n",
       "      <th>CatBoostClassifier</th>\n",
       "      <td>0.69</td>\n",
       "      <td>0.72</td>\n",
       "      <td>0.69</td>\n",
       "      <td>0.71</td>\n",
       "      <td>3.79</td>\n",
       "    </tr>\n",
       "  </tbody>\n",
       "</table>\n",
       "</div>"
      ],
      "text/plain": [
       "                            accuracy  prediction  recall  f1_score  run_time\n",
       "LogisticRegression              0.62        0.73    0.62      0.67      0.31\n",
       "RandomForestClassifier          0.68        0.69    0.68      0.69      6.44\n",
       "AdaBoostClassifier              0.70        0.72    0.70      0.71     17.53\n",
       "GradientBoostingClassifier      0.76        0.70    0.76      0.73     26.20\n",
       "LGBMClassifier                  0.77        0.70    0.77      0.73      0.43\n",
       "CatBoostClassifier              0.69        0.72    0.69      0.71      3.79"
      ]
     },
     "execution_count": 176,
     "metadata": {},
     "output_type": "execute_result"
    }
   ],
   "source": [
    "Train_Evaluate_Models(balanced_disc, disc_testX, disc_testy)"
   ]
  },
  {
   "cell_type": "code",
   "execution_count": 177,
   "id": "9379bdc9",
   "metadata": {},
   "outputs": [
    {
     "name": "stderr",
     "output_type": "stream",
     "text": [
      "C:\\Users\\hruth\\anaconda3\\lib\\site-packages\\sklearn\\linear_model\\_logistic.py:814: ConvergenceWarning: lbfgs failed to converge (status=1):\n",
      "STOP: TOTAL NO. of ITERATIONS REACHED LIMIT.\n",
      "\n",
      "Increase the number of iterations (max_iter) or scale the data as shown in:\n",
      "    https://scikit-learn.org/stable/modules/preprocessing.html\n",
      "Please also refer to the documentation for alternative solver options:\n",
      "    https://scikit-learn.org/stable/modules/linear_model.html#logistic-regression\n",
      "  n_iter_i = _check_optimize_result(\n",
      "C:\\Users\\hruth\\anaconda3\\lib\\site-packages\\lightgbm\\sklearn.py:726: UserWarning: 'early_stopping_rounds' argument is deprecated and will be removed in a future release of LightGBM. Pass 'early_stopping()' callback via 'callbacks' argument instead.\n",
      "  _log_warning(\"'early_stopping_rounds' argument is deprecated and will be removed in a future release of LightGBM. \"\n",
      "C:\\Users\\hruth\\anaconda3\\lib\\site-packages\\lightgbm\\sklearn.py:736: UserWarning: 'verbose' argument is deprecated and will be removed in a future release of LightGBM. Pass 'log_evaluation()' callback via 'callbacks' argument instead.\n",
      "  _log_warning(\"'verbose' argument is deprecated and will be removed in a future release of LightGBM. \"\n"
     ]
    },
    {
     "data": {
      "text/html": [
       "<div>\n",
       "<style scoped>\n",
       "    .dataframe tbody tr th:only-of-type {\n",
       "        vertical-align: middle;\n",
       "    }\n",
       "\n",
       "    .dataframe tbody tr th {\n",
       "        vertical-align: top;\n",
       "    }\n",
       "\n",
       "    .dataframe thead th {\n",
       "        text-align: right;\n",
       "    }\n",
       "</style>\n",
       "<table border=\"1\" class=\"dataframe\">\n",
       "  <thead>\n",
       "    <tr style=\"text-align: right;\">\n",
       "      <th></th>\n",
       "      <th>accuracy</th>\n",
       "      <th>prediction</th>\n",
       "      <th>recall</th>\n",
       "      <th>f1_score</th>\n",
       "      <th>run_time</th>\n",
       "    </tr>\n",
       "  </thead>\n",
       "  <tbody>\n",
       "    <tr>\n",
       "      <th>LogisticRegression</th>\n",
       "      <td>0.64</td>\n",
       "      <td>0.90</td>\n",
       "      <td>0.64</td>\n",
       "      <td>0.75</td>\n",
       "      <td>0.18</td>\n",
       "    </tr>\n",
       "    <tr>\n",
       "      <th>RandomForestClassifier</th>\n",
       "      <td>0.87</td>\n",
       "      <td>0.88</td>\n",
       "      <td>0.87</td>\n",
       "      <td>0.88</td>\n",
       "      <td>3.71</td>\n",
       "    </tr>\n",
       "    <tr>\n",
       "      <th>AdaBoostClassifier</th>\n",
       "      <td>0.78</td>\n",
       "      <td>0.89</td>\n",
       "      <td>0.78</td>\n",
       "      <td>0.83</td>\n",
       "      <td>10.45</td>\n",
       "    </tr>\n",
       "    <tr>\n",
       "      <th>GradientBoostingClassifier</th>\n",
       "      <td>0.92</td>\n",
       "      <td>0.87</td>\n",
       "      <td>0.92</td>\n",
       "      <td>0.89</td>\n",
       "      <td>14.77</td>\n",
       "    </tr>\n",
       "    <tr>\n",
       "      <th>LGBMClassifier</th>\n",
       "      <td>0.92</td>\n",
       "      <td>0.87</td>\n",
       "      <td>0.92</td>\n",
       "      <td>0.89</td>\n",
       "      <td>0.58</td>\n",
       "    </tr>\n",
       "    <tr>\n",
       "      <th>CatBoostClassifier</th>\n",
       "      <td>0.77</td>\n",
       "      <td>0.89</td>\n",
       "      <td>0.77</td>\n",
       "      <td>0.82</td>\n",
       "      <td>4.23</td>\n",
       "    </tr>\n",
       "  </tbody>\n",
       "</table>\n",
       "</div>"
      ],
      "text/plain": [
       "                            accuracy  prediction  recall  f1_score  run_time\n",
       "LogisticRegression              0.64        0.90    0.64      0.75      0.18\n",
       "RandomForestClassifier          0.87        0.88    0.87      0.88      3.71\n",
       "AdaBoostClassifier              0.78        0.89    0.78      0.83     10.45\n",
       "GradientBoostingClassifier      0.92        0.87    0.92      0.89     14.77\n",
       "LGBMClassifier                  0.92        0.87    0.92      0.89      0.58\n",
       "CatBoostClassifier              0.77        0.89    0.77      0.82      4.23"
      ]
     },
     "execution_count": 177,
     "metadata": {},
     "output_type": "execute_result"
    }
   ],
   "source": [
    "Train_Evaluate_Models(balanced_info, info_testX, info_testy)"
   ]
  },
  {
   "cell_type": "code",
   "execution_count": null,
   "id": "58ecf7a6",
   "metadata": {},
   "outputs": [],
   "source": [
    "#Model Selection"
   ]
  },
  {
   "cell_type": "markdown",
   "id": "0019b91c",
   "metadata": {},
   "source": [
    "LGBMClassifier\n",
    "\n",
    "For all type of offers, \"LGBMClassifier\" shows one of the outstanding model performances. Also the model performed well within a short period of time."
   ]
  },
  {
   "cell_type": "code",
   "execution_count": 183,
   "id": "7a5287ad",
   "metadata": {},
   "outputs": [
    {
     "data": {
      "text/html": [
       "<div>\n",
       "<style scoped>\n",
       "    .dataframe tbody tr th:only-of-type {\n",
       "        vertical-align: middle;\n",
       "    }\n",
       "\n",
       "    .dataframe tbody tr th {\n",
       "        vertical-align: top;\n",
       "    }\n",
       "\n",
       "    .dataframe thead th {\n",
       "        text-align: right;\n",
       "    }\n",
       "</style>\n",
       "<table border=\"1\" class=\"dataframe\">\n",
       "  <thead>\n",
       "    <tr style=\"text-align: right;\">\n",
       "      <th></th>\n",
       "      <th>index</th>\n",
       "      <th>age</th>\n",
       "      <th>income</th>\n",
       "      <th>days_as_member</th>\n",
       "      <th>recency</th>\n",
       "      <th>frequency</th>\n",
       "      <th>monetary</th>\n",
       "      <th>predicted_target</th>\n",
       "    </tr>\n",
       "  </thead>\n",
       "  <tbody>\n",
       "    <tr>\n",
       "      <th>0</th>\n",
       "      <td>1238</td>\n",
       "      <td>18</td>\n",
       "      <td>62000.00</td>\n",
       "      <td>1005</td>\n",
       "      <td>1.00</td>\n",
       "      <td>8.00</td>\n",
       "      <td>139.04</td>\n",
       "      <td>non-desirable</td>\n",
       "    </tr>\n",
       "    <tr>\n",
       "      <th>1</th>\n",
       "      <td>41048</td>\n",
       "      <td>65</td>\n",
       "      <td>48000.00</td>\n",
       "      <td>364</td>\n",
       "      <td>7.00</td>\n",
       "      <td>6.00</td>\n",
       "      <td>11.53</td>\n",
       "      <td>non-desirable</td>\n",
       "    </tr>\n",
       "    <tr>\n",
       "      <th>2</th>\n",
       "      <td>18928</td>\n",
       "      <td>54</td>\n",
       "      <td>107000.00</td>\n",
       "      <td>302</td>\n",
       "      <td>19.00</td>\n",
       "      <td>7.00</td>\n",
       "      <td>201.40</td>\n",
       "      <td>non-desirable</td>\n",
       "    </tr>\n",
       "    <tr>\n",
       "      <th>3</th>\n",
       "      <td>28167</td>\n",
       "      <td>55</td>\n",
       "      <td>64000.00</td>\n",
       "      <td>913</td>\n",
       "      <td>27.00</td>\n",
       "      <td>13.00</td>\n",
       "      <td>25.14</td>\n",
       "      <td>non-desirable</td>\n",
       "    </tr>\n",
       "    <tr>\n",
       "      <th>4</th>\n",
       "      <td>47825</td>\n",
       "      <td>25</td>\n",
       "      <td>52000.00</td>\n",
       "      <td>871</td>\n",
       "      <td>9.00</td>\n",
       "      <td>13.00</td>\n",
       "      <td>175.92</td>\n",
       "      <td>non-desirable</td>\n",
       "    </tr>\n",
       "  </tbody>\n",
       "</table>\n",
       "</div>"
      ],
      "text/plain": [
       "   index  age    income  days_as_member  recency  frequency  monetary  \\\n",
       "0   1238   18  62000.00            1005     1.00       8.00    139.04   \n",
       "1  41048   65  48000.00             364     7.00       6.00     11.53   \n",
       "2  18928   54 107000.00             302    19.00       7.00    201.40   \n",
       "3  28167   55  64000.00             913    27.00      13.00     25.14   \n",
       "4  47825   25  52000.00             871     9.00      13.00    175.92   \n",
       "\n",
       "  predicted_target  \n",
       "0    non-desirable  \n",
       "1    non-desirable  \n",
       "2    non-desirable  \n",
       "3    non-desirable  \n",
       "4    non-desirable  "
      ]
     },
     "execution_count": 183,
     "metadata": {},
     "output_type": "execute_result"
    }
   ],
   "source": [
    "bogo_all_results = pd.DataFrame(lgbm.predict(bogo_testX), columns=['predicted_target'])\n",
    "bogo_predicted = pd.concat([bogo_testX.reset_index(), bogo_all_results], axis=1)\n",
    "bogo_predicted.head()"
   ]
  },
  {
   "cell_type": "code",
   "execution_count": 186,
   "id": "39394e96",
   "metadata": {},
   "outputs": [
    {
     "data": {
      "text/plain": [
       "non-desirable    6000\n",
       "desirable         100\n",
       "Name: predicted_target, dtype: int64"
      ]
     },
     "execution_count": 186,
     "metadata": {},
     "output_type": "execute_result"
    }
   ],
   "source": [
    "bogo_predicted['predicted_target'].value_counts()"
   ]
  },
  {
   "cell_type": "code",
   "execution_count": 189,
   "id": "3777084b",
   "metadata": {},
   "outputs": [
    {
     "data": {
      "text/plain": [
       "Text(0.5, 1.0, 'Recency (BOGO)')"
      ]
     },
     "execution_count": 189,
     "metadata": {},
     "output_type": "execute_result"
    },
    {
     "data": {
      "image/png": "[encoded data removed]",
      "text/plain": [
       "<Figure size 432x288 with 1 Axes>"
      ]
     },
     "metadata": {
      "needs_background": "light"
     },
     "output_type": "display_data"
    }
   ],
   "source": [
    "sns.barplot(data = bogo_predicted, x = 'predicted_target', y = 'recency')\n",
    "plt.title('Recency (BOGO)', fontsize = 13)"
   ]
  },
  {
   "cell_type": "code",
   "execution_count": 190,
   "id": "18ff3256",
   "metadata": {},
   "outputs": [
    {
     "data": {
      "text/plain": [
       "Text(0.5, 1.0, 'Frequency (BOGO)')"
      ]
     },
     "execution_count": 190,
     "metadata": {},
     "output_type": "execute_result"
    },
    {
     "data": {
      "image/png": "[encoded data removed]",
      "text/plain": [
       "<Figure size 432x288 with 1 Axes>"
      ]
     },
     "metadata": {
      "needs_background": "light"
     },
     "output_type": "display_data"
    }
   ],
   "source": [
    "sns.barplot(data = bogo_predicted, x = 'predicted_target', y = 'frequency')\n",
    "plt.title('Frequency (BOGO)', fontsize = 13)"
   ]
  },
  {
   "cell_type": "code",
   "execution_count": 191,
   "id": "f72b4680",
   "metadata": {},
   "outputs": [
    {
     "data": {
      "text/plain": [
       "Text(0.5, 1.0, 'Monetary Value (BOGO)')"
      ]
     },
     "execution_count": 191,
     "metadata": {},
     "output_type": "execute_result"
    },
    {
     "data": {
      "image/png": "[encoded data removed]",
      "text/plain": [
       "<Figure size 432x288 with 1 Axes>"
      ]
     },
     "metadata": {
      "needs_background": "light"
     },
     "output_type": "display_data"
    }
   ],
   "source": [
    "sns.barplot(data = bogo_predicted, x = 'predicted_target', y = 'monetary')\n",
    "plt.title('Monetary Value (BOGO)', fontsize = 13)"
   ]
  },
  {
   "cell_type": "code",
   "execution_count": 184,
   "id": "ba8b9156",
   "metadata": {},
   "outputs": [
    {
     "data": {
      "text/html": [
       "<div>\n",
       "<style scoped>\n",
       "    .dataframe tbody tr th:only-of-type {\n",
       "        vertical-align: middle;\n",
       "    }\n",
       "\n",
       "    .dataframe tbody tr th {\n",
       "        vertical-align: top;\n",
       "    }\n",
       "\n",
       "    .dataframe thead th {\n",
       "        text-align: right;\n",
       "    }\n",
       "</style>\n",
       "<table border=\"1\" class=\"dataframe\">\n",
       "  <thead>\n",
       "    <tr style=\"text-align: right;\">\n",
       "      <th></th>\n",
       "      <th>index</th>\n",
       "      <th>age</th>\n",
       "      <th>income</th>\n",
       "      <th>days_as_member</th>\n",
       "      <th>recency</th>\n",
       "      <th>frequency</th>\n",
       "      <th>monetary</th>\n",
       "      <th>predicted_target</th>\n",
       "    </tr>\n",
       "  </thead>\n",
       "  <tbody>\n",
       "    <tr>\n",
       "      <th>0</th>\n",
       "      <td>26988</td>\n",
       "      <td>43</td>\n",
       "      <td>68000.00</td>\n",
       "      <td>235</td>\n",
       "      <td>10.00</td>\n",
       "      <td>8.00</td>\n",
       "      <td>124.10</td>\n",
       "      <td>non-desirable</td>\n",
       "    </tr>\n",
       "    <tr>\n",
       "      <th>1</th>\n",
       "      <td>41673</td>\n",
       "      <td>49</td>\n",
       "      <td>48000.00</td>\n",
       "      <td>365</td>\n",
       "      <td>4.00</td>\n",
       "      <td>3.00</td>\n",
       "      <td>6.36</td>\n",
       "      <td>non-desirable</td>\n",
       "    </tr>\n",
       "    <tr>\n",
       "      <th>2</th>\n",
       "      <td>7162</td>\n",
       "      <td>71</td>\n",
       "      <td>97000.00</td>\n",
       "      <td>835</td>\n",
       "      <td>5.00</td>\n",
       "      <td>12.00</td>\n",
       "      <td>362.78</td>\n",
       "      <td>non-desirable</td>\n",
       "    </tr>\n",
       "    <tr>\n",
       "      <th>3</th>\n",
       "      <td>10695</td>\n",
       "      <td>35</td>\n",
       "      <td>54000.00</td>\n",
       "      <td>1045</td>\n",
       "      <td>3.00</td>\n",
       "      <td>8.00</td>\n",
       "      <td>126.13</td>\n",
       "      <td>non-desirable</td>\n",
       "    </tr>\n",
       "    <tr>\n",
       "      <th>4</th>\n",
       "      <td>13116</td>\n",
       "      <td>49</td>\n",
       "      <td>42000.00</td>\n",
       "      <td>762</td>\n",
       "      <td>7.00</td>\n",
       "      <td>14.00</td>\n",
       "      <td>129.82</td>\n",
       "      <td>non-desirable</td>\n",
       "    </tr>\n",
       "  </tbody>\n",
       "</table>\n",
       "</div>"
      ],
      "text/plain": [
       "   index  age   income  days_as_member  recency  frequency  monetary  \\\n",
       "0  26988   43 68000.00             235    10.00       8.00    124.10   \n",
       "1  41673   49 48000.00             365     4.00       3.00      6.36   \n",
       "2   7162   71 97000.00             835     5.00      12.00    362.78   \n",
       "3  10695   35 54000.00            1045     3.00       8.00    126.13   \n",
       "4  13116   49 42000.00             762     7.00      14.00    129.82   \n",
       "\n",
       "  predicted_target  \n",
       "0    non-desirable  \n",
       "1    non-desirable  \n",
       "2    non-desirable  \n",
       "3    non-desirable  \n",
       "4    non-desirable  "
      ]
     },
     "execution_count": 184,
     "metadata": {},
     "output_type": "execute_result"
    }
   ],
   "source": [
    "disc_all_results = pd.DataFrame(lgbm.predict(disc_testX), columns=['predicted_target'])\n",
    "disc_predicted = pd.concat([disc_testX.reset_index(), disc_all_results], axis=1)\n",
    "disc_predicted.head()"
   ]
  },
  {
   "cell_type": "code",
   "execution_count": 187,
   "id": "913137ce",
   "metadata": {},
   "outputs": [
    {
     "data": {
      "text/plain": [
       "non-desirable    6009\n",
       "desirable         100\n",
       "Name: predicted_target, dtype: int64"
      ]
     },
     "execution_count": 187,
     "metadata": {},
     "output_type": "execute_result"
    }
   ],
   "source": [
    "disc_predicted['predicted_target'].value_counts()"
   ]
  },
  {
   "cell_type": "code",
   "execution_count": 192,
   "id": "6296616b",
   "metadata": {},
   "outputs": [
    {
     "data": {
      "text/plain": [
       "Text(0.5, 1.0, 'Recency (Discount)')"
      ]
     },
     "execution_count": 192,
     "metadata": {},
     "output_type": "execute_result"
    },
    {
     "data": {
      "image/png": "[encoded data removed]",
      "text/plain": [
       "<Figure size 432x288 with 1 Axes>"
      ]
     },
     "metadata": {
      "needs_background": "light"
     },
     "output_type": "display_data"
    }
   ],
   "source": [
    "sns.barplot(data = disc_predicted, x = 'predicted_target', y = 'recency')\n",
    "plt.title('Recency (Discount)', fontsize = 13)"
   ]
  },
  {
   "cell_type": "code",
   "execution_count": 193,
   "id": "f0d5c21d",
   "metadata": {},
   "outputs": [
    {
     "data": {
      "text/plain": [
       "Text(0.5, 1.0, 'Frequency (Discount)')"
      ]
     },
     "execution_count": 193,
     "metadata": {},
     "output_type": "execute_result"
    },
    {
     "data": {
      "image/png": "[encoded data removed]",
      "text/plain": [
       "<Figure size 432x288 with 1 Axes>"
      ]
     },
     "metadata": {
      "needs_background": "light"
     },
     "output_type": "display_data"
    }
   ],
   "source": [
    "sns.barplot(data = disc_predicted, x = 'predicted_target', y = 'frequency')\n",
    "plt.title('Frequency (Discount)', fontsize = 13)"
   ]
  },
  {
   "cell_type": "code",
   "execution_count": 194,
   "id": "d3ef361a",
   "metadata": {},
   "outputs": [
    {
     "data": {
      "text/plain": [
       "Text(0.5, 1.0, 'Monetary (Discount)')"
      ]
     },
     "execution_count": 194,
     "metadata": {},
     "output_type": "execute_result"
    },
    {
     "data": {
      "image/png": "[encoded data removed]",
      "text/plain": [
       "<Figure size 432x288 with 1 Axes>"
      ]
     },
     "metadata": {
      "needs_background": "light"
     },
     "output_type": "display_data"
    }
   ],
   "source": [
    "sns.barplot(data = disc_predicted, x = 'predicted_target', y = 'monetary')\n",
    "plt.title('Monetary (Discount)', fontsize = 13)"
   ]
  },
  {
   "cell_type": "code",
   "execution_count": 185,
   "id": "ec62092c",
   "metadata": {},
   "outputs": [
    {
     "data": {
      "text/html": [
       "<div>\n",
       "<style scoped>\n",
       "    .dataframe tbody tr th:only-of-type {\n",
       "        vertical-align: middle;\n",
       "    }\n",
       "\n",
       "    .dataframe tbody tr th {\n",
       "        vertical-align: top;\n",
       "    }\n",
       "\n",
       "    .dataframe thead th {\n",
       "        text-align: right;\n",
       "    }\n",
       "</style>\n",
       "<table border=\"1\" class=\"dataframe\">\n",
       "  <thead>\n",
       "    <tr style=\"text-align: right;\">\n",
       "      <th></th>\n",
       "      <th>index</th>\n",
       "      <th>age</th>\n",
       "      <th>income</th>\n",
       "      <th>days_as_member</th>\n",
       "      <th>recency</th>\n",
       "      <th>frequency</th>\n",
       "      <th>monetary</th>\n",
       "      <th>predicted_target</th>\n",
       "    </tr>\n",
       "  </thead>\n",
       "  <tbody>\n",
       "    <tr>\n",
       "      <th>0</th>\n",
       "      <td>4965</td>\n",
       "      <td>71</td>\n",
       "      <td>52000.00</td>\n",
       "      <td>160</td>\n",
       "      <td>13.00</td>\n",
       "      <td>5.00</td>\n",
       "      <td>64.96</td>\n",
       "      <td>non-desirable</td>\n",
       "    </tr>\n",
       "    <tr>\n",
       "      <th>1</th>\n",
       "      <td>48245</td>\n",
       "      <td>51</td>\n",
       "      <td>74000.00</td>\n",
       "      <td>772</td>\n",
       "      <td>24.00</td>\n",
       "      <td>11.00</td>\n",
       "      <td>203.10</td>\n",
       "      <td>non-desirable</td>\n",
       "    </tr>\n",
       "    <tr>\n",
       "      <th>2</th>\n",
       "      <td>53034</td>\n",
       "      <td>63</td>\n",
       "      <td>59000.00</td>\n",
       "      <td>562</td>\n",
       "      <td>5.00</td>\n",
       "      <td>18.00</td>\n",
       "      <td>91.78</td>\n",
       "      <td>non-desirable</td>\n",
       "    </tr>\n",
       "    <tr>\n",
       "      <th>3</th>\n",
       "      <td>10891</td>\n",
       "      <td>40</td>\n",
       "      <td>53000.00</td>\n",
       "      <td>154</td>\n",
       "      <td>22.00</td>\n",
       "      <td>5.00</td>\n",
       "      <td>8.17</td>\n",
       "      <td>non-desirable</td>\n",
       "    </tr>\n",
       "    <tr>\n",
       "      <th>4</th>\n",
       "      <td>74547</td>\n",
       "      <td>55</td>\n",
       "      <td>64000.00</td>\n",
       "      <td>304</td>\n",
       "      <td>15.00</td>\n",
       "      <td>7.00</td>\n",
       "      <td>17.46</td>\n",
       "      <td>non-desirable</td>\n",
       "    </tr>\n",
       "  </tbody>\n",
       "</table>\n",
       "</div>"
      ],
      "text/plain": [
       "   index  age   income  days_as_member  recency  frequency  monetary  \\\n",
       "0   4965   71 52000.00             160    13.00       5.00     64.96   \n",
       "1  48245   51 74000.00             772    24.00      11.00    203.10   \n",
       "2  53034   63 59000.00             562     5.00      18.00     91.78   \n",
       "3  10891   40 53000.00             154    22.00       5.00      8.17   \n",
       "4  74547   55 64000.00             304    15.00       7.00     17.46   \n",
       "\n",
       "  predicted_target  \n",
       "0    non-desirable  \n",
       "1    non-desirable  \n",
       "2    non-desirable  \n",
       "3    non-desirable  \n",
       "4    non-desirable  "
      ]
     },
     "execution_count": 185,
     "metadata": {},
     "output_type": "execute_result"
    }
   ],
   "source": [
    "info_all_results = pd.DataFrame(lgbm.predict(info_testX), columns=['predicted_target'])\n",
    "info_predicted = pd.concat([info_testX.reset_index(), info_all_results], axis=1)\n",
    "info_predicted.head()"
   ]
  },
  {
   "cell_type": "code",
   "execution_count": 188,
   "id": "16748338",
   "metadata": {},
   "outputs": [
    {
     "data": {
      "text/plain": [
       "non-desirable    3004\n",
       "desirable          43\n",
       "Name: predicted_target, dtype: int64"
      ]
     },
     "execution_count": 188,
     "metadata": {},
     "output_type": "execute_result"
    }
   ],
   "source": [
    "info_predicted['predicted_target'].value_counts()"
   ]
  },
  {
   "cell_type": "code",
   "execution_count": 195,
   "id": "a6051b74",
   "metadata": {},
   "outputs": [
    {
     "data": {
      "text/plain": [
       "Text(0.5, 1.0, 'Recency (Informational)')"
      ]
     },
     "execution_count": 195,
     "metadata": {},
     "output_type": "execute_result"
    },
    {
     "data": {
      "image/png": "[encoded data removed]",
      "text/plain": [
       "<Figure size 432x288 with 1 Axes>"
      ]
     },
     "metadata": {
      "needs_background": "light"
     },
     "output_type": "display_data"
    }
   ],
   "source": [
    "sns.barplot(data = info_predicted, x = 'predicted_target', y = 'recency')\n",
    "plt.title('Recency (Informational)', fontsize = 13)"
   ]
  },
  {
   "cell_type": "code",
   "execution_count": 196,
   "id": "bd090bf3",
   "metadata": {},
   "outputs": [
    {
     "data": {
      "text/plain": [
       "Text(0.5, 1.0, 'Frequency (Informational)')"
      ]
     },
     "execution_count": 196,
     "metadata": {},
     "output_type": "execute_result"
    },
    {
     "data": {
      "image/png": "[encoded data removed]",
      "text/plain": [
       "<Figure size 432x288 with 1 Axes>"
      ]
     },
     "metadata": {
      "needs_background": "light"
     },
     "output_type": "display_data"
    }
   ],
   "source": [
    "sns.barplot(data = info_predicted, x = 'predicted_target', y = 'frequency')\n",
    "plt.title('Frequency (Informational)', fontsize = 13)"
   ]
  },
  {
   "cell_type": "code",
   "execution_count": 197,
   "id": "8f43cb1e",
   "metadata": {},
   "outputs": [
    {
     "data": {
      "text/plain": [
       "Text(0.5, 1.0, 'Monetary (Informational)')"
      ]
     },
     "execution_count": 197,
     "metadata": {},
     "output_type": "execute_result"
    },
    {
     "data": {
      "image/png": "[encoded data removed]",
      "text/plain": [
       "<Figure size 432x288 with 1 Axes>"
      ]
     },
     "metadata": {
      "needs_background": "light"
     },
     "output_type": "display_data"
    }
   ],
   "source": [
    "sns.barplot(data = info_predicted, x = 'predicted_target', y = 'monetary')\n",
    "plt.title('Monetary (Informational)', fontsize = 13)"
   ]
  },
  {
   "cell_type": "code",
   "execution_count": null,
   "id": "5b33af20",
   "metadata": {},
   "outputs": [],
   "source": []
  }
 ],
 "metadata": {
  "kernelspec": {
   "display_name": "Python 3 (ipykernel)",
   "language": "python",
   "name": "python3"
  },
  "language_info": {
   "codemirror_mode": {
    "name": "ipython",
    "version": 3
   },
   "file_extension": ".py",
   "mimetype": "text/x-python",
   "name": "python",
   "nbconvert_exporter": "python",
   "pygments_lexer": "ipython3",
   "version": "3.9.7"
  }
 },
 "nbformat": 4,
 "nbformat_minor": 5
}
